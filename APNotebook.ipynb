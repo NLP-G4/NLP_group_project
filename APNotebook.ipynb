{
 "cells": [
  {
   "cell_type": "code",
   "execution_count": 42,
   "metadata": {},
   "outputs": [],
   "source": [
    "from requests import get\n",
    "from bs4 import BeautifulSoup\n",
    "import os\n",
    "import re\n",
    "import numpy as np\n",
    "import pandas as pd\n",
    "import acquire\n",
    "import markdown \n",
    "import prepare"
   ]
  },
  {
   "cell_type": "code",
   "execution_count": 9,
   "metadata": {},
   "outputs": [],
   "source": [
    "import requests\n",
    "from bs4 import BeautifulSoup\n",
    "import csv\n",
    "\n",
    "page = requests.get('https://github.com/topics/awesome')\n",
    "\n",
    "# Create a BeautifulSoup object\n",
    "soup = BeautifulSoup(page.text, 'html.parser')"
   ]
  },
  {
   "cell_type": "code",
   "execution_count": 10,
   "metadata": {},
   "outputs": [],
   "source": [
    "# target =  <a href=\"https://github.com/sindresorhus/awesome\">\\n"
   ]
  },
  {
   "cell_type": "code",
   "execution_count": 13,
   "metadata": {},
   "outputs": [],
   "source": [
    "# get the repo list\n",
    "repo = soup.find_all('a', class_='text-bold')"
   ]
  },
  {
   "cell_type": "code",
   "execution_count": 14,
   "metadata": {},
   "outputs": [
    {
     "data": {
      "text/plain": [
       "['/sindresorhus/awesome',\n",
       " '/vinta/awesome-python',\n",
       " '/avelino/awesome-go',\n",
       " '/awesome-selfhosted/awesome-selfhosted',\n",
       " '/trimstray/the-book-of-secret-knowledge',\n",
       " '/papers-we-love/papers-we-love',\n",
       " '/521xueweihan/HelloGitHub',\n",
       " '/Hack-with-Github/Awesome-Hacking',\n",
       " '/jaywcjlove/awesome-mac',\n",
       " '/sindresorhus/awesome-nodejs',\n",
       " '/DopplerHQ/awesome-interview-questions',\n",
       " '/wasabeef/awesome-android-ui',\n",
       " '/vsouza/awesome-ios',\n",
       " '/prakhar1989/awesome-courses',\n",
       " '/Solido/awesome-flutter',\n",
       " '/binhnguyennus/awesome-scalability',\n",
       " '/MunGell/awesome-for-beginners',\n",
       " '/fffaraz/awesome-cpp',\n",
       " '/tiimgreen/github-cheat-sheet',\n",
       " '/dypsilon/frontend-dev-bookmarks',\n",
       " '/akullpp/awesome-java',\n",
       " '/dkhamsing/open-source-ios-apps',\n",
       " '/brillout/awesome-react-components',\n",
       " '/serhii-londar/open-source-mac-os-apps',\n",
       " '/ziadoz/awesome-php',\n",
       " '/herrbischoff/awesome-macos-command-line',\n",
       " '/goabstract/Awesome-Design-Tools',\n",
       " '/alebcay/awesome-shell',\n",
       " '/sindresorhus/awesome-electron',\n",
       " '/rust-unofficial/awesome-rust']"
      ]
     },
     "execution_count": 14,
     "metadata": {},
     "output_type": "execute_result"
    }
   ],
   "source": [
    "[i['href'] for i in repo]"
   ]
  },
  {
   "cell_type": "code",
   "execution_count": 15,
   "metadata": {},
   "outputs": [],
   "source": [
    "# get the repo list (1st attempt)\n",
    "# repo = soup.find_all('h3', class_='f3 color-text-secondary text-normal lh-condensed')"
   ]
  },
  {
   "cell_type": "markdown",
   "metadata": {},
   "source": [
    "#### Gather Repos from Awesome labeld javascript"
   ]
  },
  {
   "cell_type": "code",
   "execution_count": 16,
   "metadata": {},
   "outputs": [],
   "source": [
    "url = 'https://github.com/topics/awesome?l=javascript'\n",
    "headers = {'User-Agent': 'Codeup Data Science'} # Some websites don't accept the pyhon-requests default user-agent\n",
    "response = get(url, headers=headers)"
   ]
  },
  {
   "cell_type": "code",
   "execution_count": 17,
   "metadata": {},
   "outputs": [],
   "source": [
    "soup = BeautifulSoup(response.text, 'html.parser')"
   ]
  },
  {
   "cell_type": "code",
   "execution_count": 18,
   "metadata": {},
   "outputs": [],
   "source": [
    "repo = soup.find_all('a', class_ = 'text-bold')"
   ]
  },
  {
   "cell_type": "code",
   "execution_count": 19,
   "metadata": {},
   "outputs": [
    {
     "data": {
      "text/plain": [
       "['/awesome-selfhosted/awesome-selfhosted',\n",
       " '/jaywcjlove/awesome-mac',\n",
       " '/goabstract/Awesome-Design-Tools',\n",
       " '/viatsko/awesome-vscode',\n",
       " '/ascoders/weekly',\n",
       " '/davidsonfellipe/awesome-wpo',\n",
       " '/shekhargulati/52-technologies-in-2016',\n",
       " '/hackerkid/Mind-Expanding-Books',\n",
       " '/apsdehal/awesome-ctf',\n",
       " '/imfunniee/gitfolio',\n",
       " '/Kristories/awesome-guidelines',\n",
       " '/swapagarwal/swag-for-dev',\n",
       " '/cezaraugusto/You-Dont-Know-JS',\n",
       " '/stackshareio/awesome-stacks',\n",
       " '/vitejs/awesome-vite',\n",
       " '/jdorfman/awesome-json-datasets',\n",
       " '/huyingjie/Checklist-Checklist',\n",
       " '/stefanbuck/awesome-browser-extensions-for-github',\n",
       " '/wubaiqing/zaobao',\n",
       " '/f2e-awesome/knowledge',\n",
       " '/soroushchehresa/awesome-coronavirus',\n",
       " '/t9tio/open-source-jobs',\n",
       " '/metrofun/machine-learning-surveys',\n",
       " '/yangshun/awesome-spinners',\n",
       " '/junosuarez/awesome-npx',\n",
       " '/sergey-pimenov/awesome-web-animation',\n",
       " '/philsturgeon/awesome-earth',\n",
       " '/diegohaz/awesome-react-context',\n",
       " '/ElaWorkshop/awesome-cn-cafe',\n",
       " '/jagracey/Awesome-Unicode']"
      ]
     },
     "execution_count": 19,
     "metadata": {},
     "output_type": "execute_result"
    }
   ],
   "source": [
    "js = [i['href'] for i in repo]\n",
    "js"
   ]
  },
  {
   "cell_type": "markdown",
   "metadata": {},
   "source": [
    "#### Gather Repos from Awesome labeled python"
   ]
  },
  {
   "cell_type": "code",
   "execution_count": 20,
   "metadata": {},
   "outputs": [],
   "source": [
    "url = 'https://github.com/topics/awesome?l=python'\n",
    "headers = {'User-Agent': 'Codeup Data Science'} # Some websites don't accept the pyhon-requests default user-agent\n",
    "response = get(url, headers=headers)"
   ]
  },
  {
   "cell_type": "code",
   "execution_count": 21,
   "metadata": {},
   "outputs": [],
   "source": [
    "soup = BeautifulSoup(response.text, 'html.parser')\n",
    "repo = soup.find_all('a', class_ = 'text-bold')"
   ]
  },
  {
   "cell_type": "code",
   "execution_count": 22,
   "metadata": {},
   "outputs": [
    {
     "data": {
      "text/plain": [
       "['/vinta/awesome-python',\n",
       " '/521xueweihan/HelloGitHub',\n",
       " '/lauris/awesome-scala',\n",
       " '/lk-geimfari/awesomo',\n",
       " '/wilsonfreitas/awesome-quant',\n",
       " '/PaddlePaddle/PaddleHub',\n",
       " '/detailyang/awesome-cheatsheet',\n",
       " '/chrissimpkins/codeface',\n",
       " '/ml-tooling/best-of-ml-python',\n",
       " '/paralax/awesome-honeypots',\n",
       " '/likedan/Awesome-CoreML-Models',\n",
       " '/yzhao062/anomaly-detection-resources',\n",
       " '/rossant/awesome-math',\n",
       " '/0xInfection/Awesome-WAF',\n",
       " '/INTERMT/Awesome-PyTorch-Chinese',\n",
       " '/dahlia/awesome-sqlalchemy',\n",
       " '/Separius/awesome-sentence-embedding',\n",
       " '/xxh/xxh',\n",
       " '/fendouai/Awesome-Chatbot',\n",
       " '/ml-tooling/best-of-python',\n",
       " '/wxWidgets/Phoenix',\n",
       " '/kaxap/arl',\n",
       " '/springload/awesome-wagtail',\n",
       " '/ml-tooling/best-of-web-python',\n",
       " '/fendouai/Awesome-TensorFlow-Chinese',\n",
       " '/anmol098/waka-readme-stats',\n",
       " '/ucg8j/awesome-dash',\n",
       " '/mhxion/awesome-discord-communities',\n",
       " '/florimondmanca/awesome-asgi',\n",
       " '/applicable-ml/awesome-ml-demos-with-ios']"
      ]
     },
     "execution_count": 22,
     "metadata": {},
     "output_type": "execute_result"
    }
   ],
   "source": [
    "py = [i['href'] for i in repo]\n",
    "py"
   ]
  },
  {
   "cell_type": "markdown",
   "metadata": {},
   "source": [
    "#### Gather Repos from Awesome labeled HTML"
   ]
  },
  {
   "cell_type": "code",
   "execution_count": 23,
   "metadata": {},
   "outputs": [],
   "source": [
    "url = 'https://github.com/topics/awesome?l=html'\n",
    "headers = {'User-Agent': 'Codeup Data Science'} # Some websites don't accept the pyhon-requests default user-agent\n",
    "response = get(url, headers=headers)"
   ]
  },
  {
   "cell_type": "code",
   "execution_count": 24,
   "metadata": {},
   "outputs": [],
   "source": [
    "soup = BeautifulSoup(response.text, 'html.parser')\n",
    "repo = soup.find_all('a', class_ = 'text-bold')"
   ]
  },
  {
   "cell_type": "code",
   "execution_count": 25,
   "metadata": {},
   "outputs": [
    {
     "data": {
      "text/plain": [
       "['/docker/awesome-compose',\n",
       " '/terkelg/awesome-creative-coding',\n",
       " '/PatrickJS/awesome-angular',\n",
       " '/webpack-contrib/awesome-webpack',\n",
       " '/ipfs/awesome-ipfs',\n",
       " '/samber/awesome-prometheus-alerts',\n",
       " '/krishnakumarsekar/awesome-quantum-machine-learning',\n",
       " '/hookmaster/frida-all-in-one',\n",
       " '/kujian/frontendDaily',\n",
       " '/lyfeyaj/awesome-resources',\n",
       " '/EliotAndres/kaggle-past-solutions',\n",
       " '/rootsongjc/awesome-cloud-native',\n",
       " '/zhengxiaopeng/android-dev-bookmarks',\n",
       " '/ITI/ICS-Security-Tools',\n",
       " '/liyupi/free-programming-resources',\n",
       " '/geek-cookbook/geek-cookbook',\n",
       " '/theNewDynamic/awesome-hugo',\n",
       " '/acgeospatial/awesome-earthobservation-code',\n",
       " '/krzemienski/awesome-video',\n",
       " '/awesome-br/awesome-br.github.io',\n",
       " '/aliesbelik/awesome-jmeter',\n",
       " '/unchase/awesome-russian-it',\n",
       " '/wardley-maps-community/awesome-wardley-maps',\n",
       " '/csinva/csinva.github.io',\n",
       " '/ligurio/awesome-ttygames',\n",
       " '/posquit0/hugo-awesome-identity',\n",
       " '/ayr-ton/awesome-geek-podcasts',\n",
       " '/overnote/awesome-kubernetes-notes',\n",
       " '/faridrashidi/kaggle-solutions',\n",
       " '/planetruby/conferences']"
      ]
     },
     "execution_count": 25,
     "metadata": {},
     "output_type": "execute_result"
    }
   ],
   "source": [
    "html = [i['href'] for i in repo]\n",
    "html"
   ]
  },
  {
   "cell_type": "markdown",
   "metadata": {},
   "source": [
    "#### Gather Repos from Awesome labeled Shell"
   ]
  },
  {
   "cell_type": "code",
   "execution_count": 26,
   "metadata": {},
   "outputs": [],
   "source": [
    "url = 'https://github.com/topics/awesome?l=shell'\n",
    "headers = {'User-Agent': 'Codeup Data Science'} # Some websites don't accept the pyhon-requests default user-agent\n",
    "response = get(url, headers=headers)"
   ]
  },
  {
   "cell_type": "code",
   "execution_count": 27,
   "metadata": {},
   "outputs": [],
   "source": [
    "soup = BeautifulSoup(response.text, 'html.parser')\n",
    "repo = soup.find_all('a', class_ = 'text-bold')"
   ]
  },
  {
   "cell_type": "code",
   "execution_count": 28,
   "metadata": {},
   "outputs": [],
   "source": [
    "shell = [i['href'] for i in repo]"
   ]
  },
  {
   "cell_type": "code",
   "execution_count": 29,
   "metadata": {},
   "outputs": [],
   "source": [
    "# Combine all repo lists into one"
   ]
  },
  {
   "cell_type": "code",
   "execution_count": 30,
   "metadata": {},
   "outputs": [],
   "source": [
    "repos = js + py + html + shell"
   ]
  },
  {
   "cell_type": "code",
   "execution_count": 31,
   "metadata": {},
   "outputs": [
    {
     "data": {
      "text/plain": [
       "120"
      ]
     },
     "execution_count": 31,
     "metadata": {},
     "output_type": "execute_result"
    }
   ],
   "source": [
    "len(repos)"
   ]
  },
  {
   "cell_type": "code",
   "execution_count": 32,
   "metadata": {},
   "outputs": [],
   "source": [
    "## Scrape "
   ]
  },
  {
   "cell_type": "code",
   "execution_count": 36,
   "metadata": {},
   "outputs": [],
   "source": [
    "df = acquire.scrape_github_data()"
   ]
  },
  {
   "cell_type": "code",
   "execution_count": 40,
   "metadata": {},
   "outputs": [
    {
     "data": {
      "text/plain": [
       "[]"
      ]
     },
     "execution_count": 40,
     "metadata": {},
     "output_type": "execute_result"
    }
   ],
   "source": [
    "df[:0]"
   ]
  },
  {
   "cell_type": "code",
   "execution_count": 44,
   "metadata": {},
   "outputs": [
    {
     "ename": "AttributeError",
     "evalue": "'NoneType' object has no attribute 'find_all'",
     "output_type": "error",
     "traceback": [
      "\u001b[0;31m---------------------------------------------------------------------------\u001b[0m",
      "\u001b[0;31mAttributeError\u001b[0m                            Traceback (most recent call last)",
      "\u001b[0;32m<ipython-input-44-ba7cb2e80570>\u001b[0m in \u001b[0;36m<module>\u001b[0;34m\u001b[0m\n\u001b[1;32m      3\u001b[0m \u001b[0;34m\u001b[0m\u001b[0m\n\u001b[1;32m      4\u001b[0m \u001b[0;31m# find all instances of that class (should return 25 as shown in the github main page)\u001b[0m\u001b[0;34m\u001b[0m\u001b[0;34m\u001b[0m\u001b[0;34m\u001b[0m\u001b[0m\n\u001b[0;32m----> 5\u001b[0;31m \u001b[0mrepo_list\u001b[0m \u001b[0;34m=\u001b[0m \u001b[0mrepo\u001b[0m\u001b[0;34m.\u001b[0m\u001b[0mfind_all\u001b[0m\u001b[0;34m(\u001b[0m\u001b[0mclass_\u001b[0m\u001b[0;34m=\u001b[0m\u001b[0;34m'col-12 d-block width-full py-4 border-bottom'\u001b[0m\u001b[0;34m)\u001b[0m\u001b[0;34m\u001b[0m\u001b[0;34m\u001b[0m\u001b[0m\n\u001b[0m\u001b[1;32m      6\u001b[0m \u001b[0;34m\u001b[0m\u001b[0m\n\u001b[1;32m      7\u001b[0m \u001b[0mprint\u001b[0m\u001b[0;34m(\u001b[0m\u001b[0mlen\u001b[0m\u001b[0;34m(\u001b[0m\u001b[0mrepo_list\u001b[0m\u001b[0;34m)\u001b[0m\u001b[0;34m)\u001b[0m\u001b[0;34m\u001b[0m\u001b[0;34m\u001b[0m\u001b[0m\n",
      "\u001b[0;31mAttributeError\u001b[0m: 'NoneType' object has no attribute 'find_all'"
     ]
    }
   ],
   "source": [
    "# get the repo list\n",
    "repo = soup.find(class_=\"repo-list\")\n",
    "\n",
    "# find all instances of that class (should return 25 as shown in the github main page)\n",
    "repo_list = repo.find_all(class_='col-12 d-block width-full py-4 border-bottom')\n",
    "\n",
    "print(len(repo_list))\n",
    "\n",
    "# Open writer with name\n",
    "file_name = \"github_trending_today.csv\"\n",
    "# set newline to be '' so that that new rows are appended without skipping any\n",
    "f = csv.writer(open(file_name, 'w', newline=''))\n",
    "\n",
    "# write a new row as a header\n",
    "f.writerow(['Developer', 'Repo Name', 'Number of Stars'])\n",
    "\n",
    "for repo in repo_list:\n",
    "    # find the first <a> tag and get the text. Split the text using '/' to get an array with developer name and repo name\n",
    "    full_repo_name = repo.find('a').text.split('/')\n",
    "    # extract the developer name at index 0\n",
    "    developer = full_repo_name[0].strip()\n",
    "    # extract the repo name at index 1\n",
    "    repo_name = full_repo_name[1].strip()\n",
    "    # find the first occurance of class octicon octicon-star and get the text from the parent (which is the number of stars)\n",
    "    stars = repo.find(class_='octicon octicon-star').parent.text.strip()\n",
    "    # strip() all to remove leading and traling white spaces\n",
    "    print('developer', developer)\n",
    "    print('name', repo_name)\n",
    "    print('stars', stars)\n",
    "    print('Writing rows')\n",
    "    # add the information as a row into the csv table\n",
    "    f.writerow([developer, repo_name, stars])"
   ]
  },
  {
   "cell_type": "code",
   "execution_count": 45,
   "metadata": {},
   "outputs": [],
   "source": [
    "# Bring in csv of scraped readme contents\n",
    "readme = pd.read_csv('github_readme.csv')"
   ]
  },
  {
   "cell_type": "code",
   "execution_count": 46,
   "metadata": {},
   "outputs": [],
   "source": [
    "# drop observations in foreign languages\n",
    "readme_culled = readme.drop(labels=[1,4,12,18,19,28,31,44,54,67,68,72,74,79,81,87,95], axis=0)"
   ]
  },
  {
   "cell_type": "code",
   "execution_count": 47,
   "metadata": {},
   "outputs": [
    {
     "data": {
      "text/html": [
       "<div>\n",
       "<style scoped>\n",
       "    .dataframe tbody tr th:only-of-type {\n",
       "        vertical-align: middle;\n",
       "    }\n",
       "\n",
       "    .dataframe tbody tr th {\n",
       "        vertical-align: top;\n",
       "    }\n",
       "\n",
       "    .dataframe thead th {\n",
       "        text-align: right;\n",
       "    }\n",
       "</style>\n",
       "<table border=\"1\" class=\"dataframe\">\n",
       "  <thead>\n",
       "    <tr style=\"text-align: right;\">\n",
       "      <th></th>\n",
       "      <th>Unnamed: 0</th>\n",
       "      <th>repo</th>\n",
       "      <th>language</th>\n",
       "      <th>readme_contents</th>\n",
       "    </tr>\n",
       "  </thead>\n",
       "  <tbody>\n",
       "    <tr>\n",
       "      <th>0</th>\n",
       "      <td>0</td>\n",
       "      <td>/awesome-selfhosted/awesome-selfhosted</td>\n",
       "      <td>JavaScript</td>\n",
       "      <td># Awesome-Selfhosted\\n\\n[![Awesome](https://cd...</td>\n",
       "    </tr>\n",
       "    <tr>\n",
       "      <th>2</th>\n",
       "      <td>2</td>\n",
       "      <td>/goabstract/Awesome-Design-Tools</td>\n",
       "      <td>JavaScript</td>\n",
       "      <td>&lt;div class=\"hidden-in-page\"&gt;\\n\\n# Awesome Desi...</td>\n",
       "    </tr>\n",
       "    <tr>\n",
       "      <th>3</th>\n",
       "      <td>3</td>\n",
       "      <td>/viatsko/awesome-vscode</td>\n",
       "      <td>JavaScript</td>\n",
       "      <td>\\n&lt;br/&gt;\\n&lt;div align=\"center\"&gt;\\n  &lt;img width=\"3...</td>\n",
       "    </tr>\n",
       "    <tr>\n",
       "      <th>5</th>\n",
       "      <td>5</td>\n",
       "      <td>/davidsonfellipe/awesome-wpo</td>\n",
       "      <td>JavaScript</td>\n",
       "      <td># Awesome WPO [![Awesome](https://cdn.rawgit.c...</td>\n",
       "    </tr>\n",
       "    <tr>\n",
       "      <th>6</th>\n",
       "      <td>6</td>\n",
       "      <td>/shekhargulati/52-technologies-in-2016</td>\n",
       "      <td>JavaScript</td>\n",
       "      <td>\\n52 technologies in 2016 [![GitHub Stats](htt...</td>\n",
       "    </tr>\n",
       "  </tbody>\n",
       "</table>\n",
       "</div>"
      ],
      "text/plain": [
       "   Unnamed: 0                                    repo    language  \\\n",
       "0           0  /awesome-selfhosted/awesome-selfhosted  JavaScript   \n",
       "2           2        /goabstract/Awesome-Design-Tools  JavaScript   \n",
       "3           3                 /viatsko/awesome-vscode  JavaScript   \n",
       "5           5            /davidsonfellipe/awesome-wpo  JavaScript   \n",
       "6           6  /shekhargulati/52-technologies-in-2016  JavaScript   \n",
       "\n",
       "                                     readme_contents  \n",
       "0  # Awesome-Selfhosted\\n\\n[![Awesome](https://cd...  \n",
       "2  <div class=\"hidden-in-page\">\\n\\n# Awesome Desi...  \n",
       "3  \\n<br/>\\n<div align=\"center\">\\n  <img width=\"3...  \n",
       "5  # Awesome WPO [![Awesome](https://cdn.rawgit.c...  \n",
       "6  \\n52 technologies in 2016 [![GitHub Stats](htt...  "
      ]
     },
     "execution_count": 47,
     "metadata": {},
     "output_type": "execute_result"
    }
   ],
   "source": [
    "readme_culled.head()"
   ]
  },
  {
   "cell_type": "code",
   "execution_count": 48,
   "metadata": {},
   "outputs": [],
   "source": [
    "# Drop null observation\n",
    "readme_culled = readme_culled.dropna()"
   ]
  },
  {
   "cell_type": "code",
   "execution_count": 143,
   "metadata": {},
   "outputs": [
    {
     "data": {
      "text/html": [
       "<div>\n",
       "<style scoped>\n",
       "    .dataframe tbody tr th:only-of-type {\n",
       "        vertical-align: middle;\n",
       "    }\n",
       "\n",
       "    .dataframe tbody tr th {\n",
       "        vertical-align: top;\n",
       "    }\n",
       "\n",
       "    .dataframe thead th {\n",
       "        text-align: right;\n",
       "    }\n",
       "</style>\n",
       "<table border=\"1\" class=\"dataframe\">\n",
       "  <thead>\n",
       "    <tr style=\"text-align: right;\">\n",
       "      <th></th>\n",
       "      <th>Unnamed: 0</th>\n",
       "      <th>repo</th>\n",
       "      <th>language</th>\n",
       "      <th>readme_contents</th>\n",
       "    </tr>\n",
       "  </thead>\n",
       "  <tbody>\n",
       "    <tr>\n",
       "      <th>115</th>\n",
       "      <td>115</td>\n",
       "      <td>/buren/awesome-sweden</td>\n",
       "      <td>Shell</td>\n",
       "      <td># Sweden [![awesome](https://awesome.re/badge-...</td>\n",
       "    </tr>\n",
       "    <tr>\n",
       "      <th>116</th>\n",
       "      <td>116</td>\n",
       "      <td>/jeffreytse/jekyll-deploy-action</td>\n",
       "      <td>Shell</td>\n",
       "      <td>&lt;div align=\"center\"&gt;\\n  &lt;br&gt;\\n\\n  &lt;a href=\"htt...</td>\n",
       "    </tr>\n",
       "    <tr>\n",
       "      <th>117</th>\n",
       "      <td>117</td>\n",
       "      <td>/tajmone/awesome-interactive-fiction</td>\n",
       "      <td>Shell</td>\n",
       "      <td>= Awesome Interactive Fiction link:https://awe...</td>\n",
       "    </tr>\n",
       "    <tr>\n",
       "      <th>118</th>\n",
       "      <td>118</td>\n",
       "      <td>/stve/awesome-dropwizard</td>\n",
       "      <td>Shell</td>\n",
       "      <td># Awesome Dropwizard [![Awesome](https://cdn.r...</td>\n",
       "    </tr>\n",
       "    <tr>\n",
       "      <th>119</th>\n",
       "      <td>119</td>\n",
       "      <td>/opensourcecities/montreal</td>\n",
       "      <td>Shell</td>\n",
       "      <td># Open Source Montréal\\n\\n[![Join the chat at ...</td>\n",
       "    </tr>\n",
       "  </tbody>\n",
       "</table>\n",
       "</div>"
      ],
      "text/plain": [
       "     Unnamed: 0                                  repo language  \\\n",
       "115         115                 /buren/awesome-sweden    Shell   \n",
       "116         116      /jeffreytse/jekyll-deploy-action    Shell   \n",
       "117         117  /tajmone/awesome-interactive-fiction    Shell   \n",
       "118         118              /stve/awesome-dropwizard    Shell   \n",
       "119         119            /opensourcecities/montreal    Shell   \n",
       "\n",
       "                                       readme_contents  \n",
       "115  # Sweden [![awesome](https://awesome.re/badge-...  \n",
       "116  <div align=\"center\">\\n  <br>\\n\\n  <a href=\"htt...  \n",
       "117  = Awesome Interactive Fiction link:https://awe...  \n",
       "118  # Awesome Dropwizard [![Awesome](https://cdn.r...  \n",
       "119  # Open Source Montréal\\n\\n[![Join the chat at ...  "
      ]
     },
     "execution_count": 143,
     "metadata": {},
     "output_type": "execute_result"
    }
   ],
   "source": [
    "readme_culled.tail()"
   ]
  },
  {
   "cell_type": "code",
   "execution_count": 156,
   "metadata": {},
   "outputs": [],
   "source": [
    "readme_culled = readme_culled.dropna()"
   ]
  },
  {
   "cell_type": "code",
   "execution_count": 159,
   "metadata": {},
   "outputs": [],
   "source": [
    "# use this string to compare tokenized\n",
    "all_words = ' '.join(readme_culled.readme_contents)"
   ]
  },
  {
   "cell_type": "code",
   "execution_count": 162,
   "metadata": {},
   "outputs": [],
   "source": [
    "toktok = prepare.tokenize(all_words)"
   ]
  },
  {
   "cell_type": "code",
   "execution_count": 51,
   "metadata": {},
   "outputs": [],
   "source": [
    "# clean culled df\n",
    "repo_clean = prepare.prep_article_data(readme_culled, 'readme_contents')"
   ]
  },
  {
   "cell_type": "code",
   "execution_count": 52,
   "metadata": {},
   "outputs": [
    {
     "name": "stdout",
     "output_type": "stream",
     "text": [
      "<class 'pandas.core.frame.DataFrame'>\n",
      "Int64Index: 102 entries, 0 to 119\n",
      "Data columns (total 7 columns):\n",
      " #   Column                      Non-Null Count  Dtype \n",
      "---  ------                      --------------  ----- \n",
      " 0   Unnamed: 0                  102 non-null    int64 \n",
      " 1   repo                        102 non-null    object\n",
      " 2   language                    102 non-null    object\n",
      " 3   readme_contents             102 non-null    object\n",
      " 4   cleaned_readme_contents     102 non-null    object\n",
      " 5   stemmed_readme_contents     102 non-null    object\n",
      " 6   lemmatized_readme_contents  102 non-null    object\n",
      "dtypes: int64(1), object(6)\n",
      "memory usage: 6.4+ KB\n"
     ]
    }
   ],
   "source": [
    "# check cleaned df\n",
    "repo_clean.info()"
   ]
  },
  {
   "cell_type": "code",
   "execution_count": 53,
   "metadata": {},
   "outputs": [],
   "source": [
    "# drop Unnamed columgn\n",
    "repo_clean = repo_clean.drop(columns=['Unnamed: 0'])"
   ]
  },
  {
   "cell_type": "code",
   "execution_count": 54,
   "metadata": {},
   "outputs": [
    {
     "name": "stdout",
     "output_type": "stream",
     "text": [
      "(102, 6)\n",
      "<class 'pandas.core.frame.DataFrame'>\n",
      "Int64Index: 102 entries, 0 to 119\n",
      "Data columns (total 6 columns):\n",
      " #   Column                      Non-Null Count  Dtype \n",
      "---  ------                      --------------  ----- \n",
      " 0   repo                        102 non-null    object\n",
      " 1   language                    102 non-null    object\n",
      " 2   readme_contents             102 non-null    object\n",
      " 3   cleaned_readme_contents     102 non-null    object\n",
      " 4   stemmed_readme_contents     102 non-null    object\n",
      " 5   lemmatized_readme_contents  102 non-null    object\n",
      "dtypes: object(6)\n",
      "memory usage: 5.6+ KB\n"
     ]
    }
   ],
   "source": [
    "print(repo_clean.shape)\n",
    "repo_clean.info()"
   ]
  },
  {
   "cell_type": "code",
   "execution_count": 55,
   "metadata": {},
   "outputs": [
    {
     "data": {
      "text/plain": [
       "Shell         29\n",
       "Python        27\n",
       "JavaScript    24\n",
       "HTML          22\n",
       "Name: language, dtype: int64"
      ]
     },
     "execution_count": 55,
     "metadata": {},
     "output_type": "execute_result"
    }
   ],
   "source": [
    "repo_clean.language.value_counts()"
   ]
  },
  {
   "cell_type": "code",
   "execution_count": 56,
   "metadata": {},
   "outputs": [],
   "source": [
    "all_words = ' '.join(repo_clean.cleaned_readme_contents)"
   ]
  },
  {
   "cell_type": "code",
   "execution_count": 65,
   "metadata": {},
   "outputs": [
    {
     "data": {
      "text/plain": [
       "'awesomeselfhosted awesomehttpscdnrawgitcomsindresorhusawesomed7305f38d29fed78fa85652e3a63e154dd8e8829mediabadgesvghttpsgithubcomsindresorhusawesome httpsimgshieldsiotravisawesomeselfhostedawesomeselfhostedmasterlabellink20checkshttpsgithubcomawesomeselfhostedawesomeselfhostedissues2266 selfhosting practice locally hosting managing applications instead renting saasshttpswwwgnuorgphilosophywhodoesthatserverreallyservehtml providers list freehttpsenwikipediaorgwikifree_software software network serviceshttpsenwikipediaorgwikinetwork_service web applicationshttpsenwikipediaorgwikiweb_application hosted locally nonfree software listed nonfreenonfreemd page see contributinggithubcontributingmd table contents toc table contentstableofcontents softwaresoftware analyticsanalytics archiving digital preservation dparchivinganddigitalpreservationdp automationautomation blogging platformsbloggingplatforms bookmarks link sharingbookmarksandlinksharing calendar contactscalendarcontacts calendar conta'"
      ]
     },
     "execution_count": 65,
     "metadata": {},
     "output_type": "execute_result"
    }
   ],
   "source": [
    "all_words[:1000]"
   ]
  },
  {
   "cell_type": "markdown",
   "metadata": {},
   "source": [
    "# Using Regex Tokenizer"
   ]
  },
  {
   "cell_type": "code",
   "execution_count": 24,
   "metadata": {},
   "outputs": [],
   "source": [
    "import re\n",
    "\n",
    "from nltk.tokenize.api import TokenizerI\n",
    "from nltk.tokenize.util import regexp_span_tokenize\n",
    "import prepare2\n",
    "import prepare"
   ]
  },
  {
   "cell_type": "code",
   "execution_count": 25,
   "metadata": {},
   "outputs": [],
   "source": [
    "# import RegexpTokenizer() method from nltk\n",
    "from nltk.tokenize import RegexpTokenizer"
   ]
  },
  {
   "cell_type": "code",
   "execution_count": 26,
   "metadata": {},
   "outputs": [
    {
     "data": {
      "application/javascript": [
       "\n",
       "        if (window._pyforest_update_imports_cell) { window._pyforest_update_imports_cell('import pandas as pd'); }\n",
       "    "
      ],
      "text/plain": [
       "<IPython.core.display.Javascript object>"
      ]
     },
     "metadata": {},
     "output_type": "display_data"
    }
   ],
   "source": [
    "# uncleanded data\n",
    "# Bring in csv of scraped readme contents\n",
    "readme = pd.read_csv('github_readme.csv')"
   ]
  },
  {
   "cell_type": "code",
   "execution_count": 27,
   "metadata": {},
   "outputs": [],
   "source": [
    "# drop observations in foreign languages\n",
    "readme_culled = readme.drop(labels=[1,4,12,18,19,28,31,44,54,67,68,72,74,79,81,87,95], axis=0)"
   ]
  },
  {
   "cell_type": "code",
   "execution_count": 28,
   "metadata": {},
   "outputs": [],
   "source": [
    "# drop na\n",
    "readme_culled = readme_culled.dropna()"
   ]
  },
  {
   "cell_type": "code",
   "execution_count": 29,
   "metadata": {},
   "outputs": [
    {
     "data": {
      "text/plain": [
       "Unnamed: 0         0\n",
       "repo               0\n",
       "language           0\n",
       "readme_contents    0\n",
       "dtype: int64"
      ]
     },
     "execution_count": 29,
     "metadata": {},
     "output_type": "execute_result"
    }
   ],
   "source": [
    "# check\n",
    "readme_culled.isna().sum()"
   ]
  },
  {
   "cell_type": "code",
   "execution_count": 40,
   "metadata": {},
   "outputs": [],
   "source": [
    "# use this string to compare tokenized\n",
    "all_words = ' '.join(readme_culled.readme_contents)"
   ]
  },
  {
   "cell_type": "code",
   "execution_count": 66,
   "metadata": {},
   "outputs": [],
   "source": [
    "y = prepare2.prep_article_data(readme_culled, 'readme_contents', prepare2.re_tokenize, extra_words=[], exclude_words=[])"
   ]
  },
  {
   "cell_type": "code",
   "execution_count": 94,
   "metadata": {},
   "outputs": [
    {
     "data": {
      "text/html": [
       "<div>\n",
       "<style scoped>\n",
       "    .dataframe tbody tr th:only-of-type {\n",
       "        vertical-align: middle;\n",
       "    }\n",
       "\n",
       "    .dataframe tbody tr th {\n",
       "        vertical-align: top;\n",
       "    }\n",
       "\n",
       "    .dataframe thead th {\n",
       "        text-align: right;\n",
       "    }\n",
       "</style>\n",
       "<table border=\"1\" class=\"dataframe\">\n",
       "  <thead>\n",
       "    <tr style=\"text-align: right;\">\n",
       "      <th></th>\n",
       "      <th>Unnamed: 0</th>\n",
       "      <th>repo</th>\n",
       "      <th>language</th>\n",
       "      <th>readme_contents</th>\n",
       "      <th>cleaned_readme_contents</th>\n",
       "      <th>stemmed_readme_contents</th>\n",
       "      <th>lemmatized_readme_contents</th>\n",
       "    </tr>\n",
       "  </thead>\n",
       "  <tbody>\n",
       "    <tr>\n",
       "      <th>0</th>\n",
       "      <td>0</td>\n",
       "      <td>/awesome-selfhosted/awesome-selfhosted</td>\n",
       "      <td>JavaScript</td>\n",
       "      <td># Awesome-Selfhosted\\n\\n[![Awesome](https://cd...</td>\n",
       "      <td>awesomeselfhosted awesomehttpscdnrawgitcomsind...</td>\n",
       "      <td>awesomeselfhost awesomehttpscdnrawgitcomsindre...</td>\n",
       "      <td>awesomeselfhosted awesomehttpscdnrawgitcomsind...</td>\n",
       "    </tr>\n",
       "    <tr>\n",
       "      <th>2</th>\n",
       "      <td>2</td>\n",
       "      <td>/goabstract/Awesome-Design-Tools</td>\n",
       "      <td>JavaScript</td>\n",
       "      <td>&lt;div class=\"hidden-in-page\"&gt;\\n\\n# Awesome Desi...</td>\n",
       "      <td>div classhiddeninpage awesome design tools awe...</td>\n",
       "      <td>div classhiddeninpag awesom design tool awesom...</td>\n",
       "      <td>div classhiddeninpage awesome design tool awes...</td>\n",
       "    </tr>\n",
       "    <tr>\n",
       "      <th>3</th>\n",
       "      <td>3</td>\n",
       "      <td>/viatsko/awesome-vscode</td>\n",
       "      <td>JavaScript</td>\n",
       "      <td>\\n&lt;br/&gt;\\n&lt;div align=\"center\"&gt;\\n  &lt;img width=\"3...</td>\n",
       "      <td>br div aligncenter img width380px srchttpsrawg...</td>\n",
       "      <td>br div aligncent img width380px srchttpsrawgit...</td>\n",
       "      <td>br div aligncenter img width380px srchttpsrawg...</td>\n",
       "    </tr>\n",
       "    <tr>\n",
       "      <th>5</th>\n",
       "      <td>5</td>\n",
       "      <td>/davidsonfellipe/awesome-wpo</td>\n",
       "      <td>JavaScript</td>\n",
       "      <td># Awesome WPO [![Awesome](https://cdn.rawgit.c...</td>\n",
       "      <td>awesome wpo awesomehttpscdnrawgitcomsindresorh...</td>\n",
       "      <td>awesom wpo awesomehttpscdnrawgitcomsindresorhu...</td>\n",
       "      <td>awesome wpo awesomehttpscdnrawgitcomsindresorh...</td>\n",
       "    </tr>\n",
       "    <tr>\n",
       "      <th>6</th>\n",
       "      <td>6</td>\n",
       "      <td>/shekhargulati/52-technologies-in-2016</td>\n",
       "      <td>JavaScript</td>\n",
       "      <td>\\n52 technologies in 2016 [![GitHub Stats](htt...</td>\n",
       "      <td>52 technologies 2016 github statshttpsimgshiel...</td>\n",
       "      <td>52 technolog 2016 github statshttpsimgshieldsi...</td>\n",
       "      <td>52 technology 2016 github statshttpsimgshields...</td>\n",
       "    </tr>\n",
       "  </tbody>\n",
       "</table>\n",
       "</div>"
      ],
      "text/plain": [
       "   Unnamed: 0                                    repo    language  \\\n",
       "0           0  /awesome-selfhosted/awesome-selfhosted  JavaScript   \n",
       "2           2        /goabstract/Awesome-Design-Tools  JavaScript   \n",
       "3           3                 /viatsko/awesome-vscode  JavaScript   \n",
       "5           5            /davidsonfellipe/awesome-wpo  JavaScript   \n",
       "6           6  /shekhargulati/52-technologies-in-2016  JavaScript   \n",
       "\n",
       "                                     readme_contents  \\\n",
       "0  # Awesome-Selfhosted\\n\\n[![Awesome](https://cd...   \n",
       "2  <div class=\"hidden-in-page\">\\n\\n# Awesome Desi...   \n",
       "3  \\n<br/>\\n<div align=\"center\">\\n  <img width=\"3...   \n",
       "5  # Awesome WPO [![Awesome](https://cdn.rawgit.c...   \n",
       "6  \\n52 technologies in 2016 [![GitHub Stats](htt...   \n",
       "\n",
       "                             cleaned_readme_contents  \\\n",
       "0  awesomeselfhosted awesomehttpscdnrawgitcomsind...   \n",
       "2  div classhiddeninpage awesome design tools awe...   \n",
       "3  br div aligncenter img width380px srchttpsrawg...   \n",
       "5  awesome wpo awesomehttpscdnrawgitcomsindresorh...   \n",
       "6  52 technologies 2016 github statshttpsimgshiel...   \n",
       "\n",
       "                             stemmed_readme_contents  \\\n",
       "0  awesomeselfhost awesomehttpscdnrawgitcomsindre...   \n",
       "2  div classhiddeninpag awesom design tool awesom...   \n",
       "3  br div aligncent img width380px srchttpsrawgit...   \n",
       "5  awesom wpo awesomehttpscdnrawgitcomsindresorhu...   \n",
       "6  52 technolog 2016 github statshttpsimgshieldsi...   \n",
       "\n",
       "                          lemmatized_readme_contents  \n",
       "0  awesomeselfhosted awesomehttpscdnrawgitcomsind...  \n",
       "2  div classhiddeninpage awesome design tool awes...  \n",
       "3  br div aligncenter img width380px srchttpsrawg...  \n",
       "5  awesome wpo awesomehttpscdnrawgitcomsindresorh...  \n",
       "6  52 technology 2016 github statshttpsimgshields...  "
      ]
     },
     "execution_count": 94,
     "metadata": {},
     "output_type": "execute_result"
    }
   ],
   "source": [
    "y.head()"
   ]
  },
  {
   "cell_type": "code",
   "execution_count": 108,
   "metadata": {},
   "outputs": [
    {
     "data": {
      "text/plain": [
       "array(['JavaScript', 'Python', 'HTML', 'Shell'], dtype=object)"
      ]
     },
     "execution_count": 108,
     "metadata": {},
     "output_type": "execute_result"
    }
   ],
   "source": [
    "y.language.unique()"
   ]
  },
  {
   "cell_type": "code",
   "execution_count": 112,
   "metadata": {},
   "outputs": [],
   "source": [
    "# Create dataframes specific to programming language\n",
    "java = y[y.language=='JavaScript']\n",
    "python = y[y.language=='Python']\n",
    "HTML = y[y.language=='HTML']\n",
    "shell = y[y.language=='Shell']"
   ]
  },
  {
   "cell_type": "code",
   "execution_count": 116,
   "metadata": {},
   "outputs": [],
   "source": [
    "# create strings out of the lemmatized contenst from each dataframe\n",
    "all_words = ' '.join(y.lemmatized_readme_contents)\n",
    "java_words = ' '.join(java.lemmatized_readme_contents)\n",
    "python_words = ' '.join(python.lemmatized_readme_contents)\n",
    "HTML_words = ' '.join(HTML.lemmatized_readme_contents)\n",
    "shell_words = ' '.join(shell.lemmatized_readme_contents)"
   ]
  },
  {
   "cell_type": "code",
   "execution_count": 147,
   "metadata": {},
   "outputs": [
    {
     "data": {
      "application/javascript": [
       "\n",
       "        if (window._pyforest_update_imports_cell) { window._pyforest_update_imports_cell('import pandas as pd'); }\n",
       "    "
      ],
      "text/plain": [
       "<IPython.core.display.Javascript object>"
      ]
     },
     "metadata": {},
     "output_type": "display_data"
    }
   ],
   "source": [
    "# all words value counts out of top 30\n",
    "all_stop = (pd.Series(data = all_words.split()).value_counts().head(30))"
   ]
  },
  {
   "cell_type": "code",
   "execution_count": 177,
   "metadata": {},
   "outputs": [
    {
     "data": {
      "application/javascript": [
       "\n",
       "        if (window._pyforest_update_imports_cell) { window._pyforest_update_imports_cell('import pandas as pd'); }\n",
       "    "
      ],
      "text/plain": [
       "<IPython.core.display.Javascript object>"
      ]
     },
     "metadata": {},
     "output_type": "display_data"
    }
   ],
   "source": [
    "# make a l out of the top 30 from all words\n",
    "all = pd.DataFrame(all_stop, columns=['count']).index"
   ]
  },
  {
   "cell_type": "code",
   "execution_count": 222,
   "metadata": {},
   "outputs": [
    {
     "data": {
      "application/javascript": [
       "\n",
       "        if (window._pyforest_update_imports_cell) { window._pyforest_update_imports_cell('import pandas as pd'); }\n",
       "    "
      ],
      "text/plain": [
       "<IPython.core.display.Javascript object>"
      ]
     },
     "metadata": {},
     "output_type": "display_data"
    }
   ],
   "source": [
    "all_freq = pd.Series(data = all_words.split()).value_counts().head(30)"
   ]
  },
  {
   "cell_type": "code",
   "execution_count": 218,
   "metadata": {},
   "outputs": [
    {
     "data": {
      "application/javascript": [
       "\n",
       "        if (window._pyforest_update_imports_cell) { window._pyforest_update_imports_cell('import pandas as pd'); }\n",
       "    "
      ],
      "text/plain": [
       "<IPython.core.display.Javascript object>"
      ]
     },
     "metadata": {},
     "output_type": "display_data"
    }
   ],
   "source": [
    "java_freq = pd.Series(data = java_words.split()).value_counts().head(30)"
   ]
  },
  {
   "cell_type": "code",
   "execution_count": 219,
   "metadata": {},
   "outputs": [
    {
     "data": {
      "application/javascript": [
       "\n",
       "        if (window._pyforest_update_imports_cell) { window._pyforest_update_imports_cell('import pandas as pd'); }\n",
       "    "
      ],
      "text/plain": [
       "<IPython.core.display.Javascript object>"
      ]
     },
     "metadata": {},
     "output_type": "display_data"
    }
   ],
   "source": [
    "HTML_freq = pd.Series(data = HTML_words.split()).value_counts().head(30)"
   ]
  },
  {
   "cell_type": "code",
   "execution_count": 220,
   "metadata": {},
   "outputs": [
    {
     "data": {
      "application/javascript": [
       "\n",
       "        if (window._pyforest_update_imports_cell) { window._pyforest_update_imports_cell('import pandas as pd'); }\n",
       "    "
      ],
      "text/plain": [
       "<IPython.core.display.Javascript object>"
      ]
     },
     "metadata": {},
     "output_type": "display_data"
    }
   ],
   "source": [
    "shell_freq = pd.Series(data = shell_words.split()).value_counts().head(30)"
   ]
  },
  {
   "cell_type": "code",
   "execution_count": 221,
   "metadata": {},
   "outputs": [
    {
     "data": {
      "application/javascript": [
       "\n",
       "        if (window._pyforest_update_imports_cell) { window._pyforest_update_imports_cell('import pandas as pd'); }\n",
       "    "
      ],
      "text/plain": [
       "<IPython.core.display.Javascript object>"
      ]
     },
     "metadata": {},
     "output_type": "display_data"
    }
   ],
   "source": [
    "python_freq = pd.Series(data = python_words.split()).value_counts().head(30)"
   ]
  },
  {
   "cell_type": "code",
   "execution_count": 223,
   "metadata": {},
   "outputs": [
    {
     "data": {
      "application/javascript": [
       "\n",
       "        if (window._pyforest_update_imports_cell) { window._pyforest_update_imports_cell('import pandas as pd'); }\n",
       "    "
      ],
      "text/plain": [
       "<IPython.core.display.Javascript object>"
      ]
     },
     "metadata": {},
     "output_type": "display_data"
    },
    {
     "data": {
      "text/html": [
       "<div>\n",
       "<style scoped>\n",
       "    .dataframe tbody tr th:only-of-type {\n",
       "        vertical-align: middle;\n",
       "    }\n",
       "\n",
       "    .dataframe tbody tr th {\n",
       "        vertical-align: top;\n",
       "    }\n",
       "\n",
       "    .dataframe thead th {\n",
       "        text-align: right;\n",
       "    }\n",
       "</style>\n",
       "<table border=\"1\" class=\"dataframe\">\n",
       "  <thead>\n",
       "    <tr style=\"text-align: right;\">\n",
       "      <th></th>\n",
       "      <th>all</th>\n",
       "      <th>java</th>\n",
       "      <th>HTML</th>\n",
       "      <th>shell</th>\n",
       "      <th>python</th>\n",
       "    </tr>\n",
       "  </thead>\n",
       "  <tbody>\n",
       "    <tr>\n",
       "      <th>0</th>\n",
       "      <td>0</td>\n",
       "      <td>0</td>\n",
       "      <td>0</td>\n",
       "      <td>0</td>\n",
       "      <td>484</td>\n",
       "    </tr>\n",
       "    <tr>\n",
       "      <th>2</th>\n",
       "      <td>0</td>\n",
       "      <td>0</td>\n",
       "      <td>161</td>\n",
       "      <td>0</td>\n",
       "      <td>0</td>\n",
       "    </tr>\n",
       "    <tr>\n",
       "      <th>2017</th>\n",
       "      <td>0</td>\n",
       "      <td>0</td>\n",
       "      <td>0</td>\n",
       "      <td>431</td>\n",
       "      <td>0</td>\n",
       "    </tr>\n",
       "    <tr>\n",
       "      <th>2018</th>\n",
       "      <td>0</td>\n",
       "      <td>0</td>\n",
       "      <td>0</td>\n",
       "      <td>311</td>\n",
       "      <td>0</td>\n",
       "    </tr>\n",
       "    <tr>\n",
       "      <th>add</th>\n",
       "      <td>0</td>\n",
       "      <td>0</td>\n",
       "      <td>0</td>\n",
       "      <td>255</td>\n",
       "      <td>0</td>\n",
       "    </tr>\n",
       "  </tbody>\n",
       "</table>\n",
       "</div>"
      ],
      "text/plain": [
       "      all  java  HTML  shell  python\n",
       "0       0     0     0      0     484\n",
       "2       0     0   161      0       0\n",
       "2017    0     0     0    431       0\n",
       "2018    0     0     0    311       0\n",
       "add     0     0     0    255       0"
      ]
     },
     "execution_count": 223,
     "metadata": {},
     "output_type": "execute_result"
    }
   ],
   "source": [
    "word_counts = (pd.concat([all_freq, java_freq, HTML_freq, shell_freq, python_freq], axis=1, sort=True)\n",
    "                .set_axis(['all', 'java', 'HTML', 'shell', 'python'], axis=1, inplace=False)\n",
    "                .fillna(0)\n",
    "                .apply(lambda s: s.astype(int)))\n",
    "\n",
    "word_counts.head()"
   ]
  },
  {
   "cell_type": "code",
   "execution_count": 224,
   "metadata": {},
   "outputs": [
    {
     "data": {
      "text/html": [
       "<div>\n",
       "<style scoped>\n",
       "    .dataframe tbody tr th:only-of-type {\n",
       "        vertical-align: middle;\n",
       "    }\n",
       "\n",
       "    .dataframe tbody tr th {\n",
       "        vertical-align: top;\n",
       "    }\n",
       "\n",
       "    .dataframe thead th {\n",
       "        text-align: right;\n",
       "    }\n",
       "</style>\n",
       "<table border=\"1\" class=\"dataframe\">\n",
       "  <thead>\n",
       "    <tr style=\"text-align: right;\">\n",
       "      <th></th>\n",
       "      <th>all</th>\n",
       "      <th>java</th>\n",
       "      <th>HTML</th>\n",
       "      <th>shell</th>\n",
       "      <th>python</th>\n",
       "    </tr>\n",
       "  </thead>\n",
       "  <tbody>\n",
       "    <tr>\n",
       "      <th>open</th>\n",
       "      <td>2116</td>\n",
       "      <td>292</td>\n",
       "      <td>152</td>\n",
       "      <td>221</td>\n",
       "      <td>1451</td>\n",
       "    </tr>\n",
       "    <tr>\n",
       "      <th>git</th>\n",
       "      <td>2017</td>\n",
       "      <td>0</td>\n",
       "      <td>0</td>\n",
       "      <td>574</td>\n",
       "      <td>1376</td>\n",
       "    </tr>\n",
       "    <tr>\n",
       "      <th>install</th>\n",
       "      <td>1956</td>\n",
       "      <td>0</td>\n",
       "      <td>0</td>\n",
       "      <td>0</td>\n",
       "      <td>1872</td>\n",
       "    </tr>\n",
       "    <tr>\n",
       "      <th>python</th>\n",
       "      <td>1737</td>\n",
       "      <td>193</td>\n",
       "      <td>293</td>\n",
       "      <td>0</td>\n",
       "      <td>1122</td>\n",
       "    </tr>\n",
       "    <tr>\n",
       "      <th>codea</th>\n",
       "      <td>1724</td>\n",
       "      <td>0</td>\n",
       "      <td>0</td>\n",
       "      <td>0</td>\n",
       "      <td>1724</td>\n",
       "    </tr>\n",
       "    <tr>\n",
       "      <th>source</th>\n",
       "      <td>1612</td>\n",
       "      <td>1035</td>\n",
       "      <td>141</td>\n",
       "      <td>229</td>\n",
       "      <td>0</td>\n",
       "    </tr>\n",
       "    <tr>\n",
       "      <th>detail</th>\n",
       "      <td>1474</td>\n",
       "      <td>0</td>\n",
       "      <td>0</td>\n",
       "      <td>0</td>\n",
       "      <td>1433</td>\n",
       "    </tr>\n",
       "    <tr>\n",
       "      <th>clone</th>\n",
       "      <td>1410</td>\n",
       "      <td>0</td>\n",
       "      <td>0</td>\n",
       "      <td>0</td>\n",
       "      <td>1353</td>\n",
       "    </tr>\n",
       "    <tr>\n",
       "      <th>month</th>\n",
       "      <td>1407</td>\n",
       "      <td>0</td>\n",
       "      <td>0</td>\n",
       "      <td>0</td>\n",
       "      <td>1389</td>\n",
       "    </tr>\n",
       "    <tr>\n",
       "      <th>tool</th>\n",
       "      <td>1363</td>\n",
       "      <td>426</td>\n",
       "      <td>246</td>\n",
       "      <td>431</td>\n",
       "      <td>0</td>\n",
       "    </tr>\n",
       "  </tbody>\n",
       "</table>\n",
       "</div>"
      ],
      "text/plain": [
       "          all  java  HTML  shell  python\n",
       "open     2116   292   152    221    1451\n",
       "git      2017     0     0    574    1376\n",
       "install  1956     0     0      0    1872\n",
       "python   1737   193   293      0    1122\n",
       "codea    1724     0     0      0    1724\n",
       "source   1612  1035   141    229       0\n",
       "detail   1474     0     0      0    1433\n",
       "clone    1410     0     0      0    1353\n",
       "month    1407     0     0      0    1389\n",
       "tool     1363   426   246    431       0"
      ]
     },
     "execution_count": 224,
     "metadata": {},
     "output_type": "execute_result"
    }
   ],
   "source": [
    "# most frequently occuring word\n",
    "word_counts.sort_values(by='all', ascending=False).head(10)"
   ]
  },
  {
   "cell_type": "code",
   "execution_count": 225,
   "metadata": {},
   "outputs": [
    {
     "data": {
      "application/javascript": [
       "\n",
       "        if (window._pyforest_update_imports_cell) { window._pyforest_update_imports_cell('import pandas as pd'); }\n",
       "    "
      ],
      "text/plain": [
       "<IPython.core.display.Javascript object>"
      ]
     },
     "metadata": {},
     "output_type": "display_data"
    },
    {
     "data": {
      "text/html": [
       "<div>\n",
       "<style scoped>\n",
       "    .dataframe tbody tr th:only-of-type {\n",
       "        vertical-align: middle;\n",
       "    }\n",
       "\n",
       "    .dataframe tbody tr th {\n",
       "        vertical-align: top;\n",
       "    }\n",
       "\n",
       "    .dataframe thead th {\n",
       "        text-align: right;\n",
       "    }\n",
       "</style>\n",
       "<table border=\"1\" class=\"dataframe\">\n",
       "  <thead>\n",
       "    <tr style=\"text-align: right;\">\n",
       "      <th></th>\n",
       "      <th>all</th>\n",
       "      <th>java</th>\n",
       "      <th>HTML</th>\n",
       "      <th>shell</th>\n",
       "      <th>python</th>\n",
       "    </tr>\n",
       "  </thead>\n",
       "  <tbody>\n",
       "    <tr>\n",
       "      <th>github</th>\n",
       "      <td>1138</td>\n",
       "      <td>0</td>\n",
       "      <td>0</td>\n",
       "      <td>0</td>\n",
       "      <td>824</td>\n",
       "    </tr>\n",
       "    <tr>\n",
       "      <th>height13codesummary</th>\n",
       "      <td>0</td>\n",
       "      <td>0</td>\n",
       "      <td>0</td>\n",
       "      <td>0</td>\n",
       "      <td>479</td>\n",
       "    </tr>\n",
       "    <tr>\n",
       "      <th>height16px</th>\n",
       "      <td>0</td>\n",
       "      <td>0</td>\n",
       "      <td>0</td>\n",
       "      <td>0</td>\n",
       "      <td>566</td>\n",
       "    </tr>\n",
       "    <tr>\n",
       "      <th>hugo</th>\n",
       "      <td>0</td>\n",
       "      <td>0</td>\n",
       "      <td>127</td>\n",
       "      <td>0</td>\n",
       "      <td>0</td>\n",
       "    </tr>\n",
       "    <tr>\n",
       "      <th>year</th>\n",
       "      <td>1069</td>\n",
       "      <td>0</td>\n",
       "      <td>0</td>\n",
       "      <td>0</td>\n",
       "      <td>971</td>\n",
       "    </tr>\n",
       "    <tr>\n",
       "      <th>zsh</th>\n",
       "      <td>0</td>\n",
       "      <td>0</td>\n",
       "      <td>0</td>\n",
       "      <td>390</td>\n",
       "      <td>0</td>\n",
       "    </tr>\n",
       "    <tr>\n",
       "      <th>freesvghttpsgithubcomlisadziubaawesomedesigntoolsblobmastermediafreesvg</th>\n",
       "      <td>0</td>\n",
       "      <td>302</td>\n",
       "      <td>0</td>\n",
       "      <td>0</td>\n",
       "      <td>0</td>\n",
       "    </tr>\n",
       "    <tr>\n",
       "      <th>git</th>\n",
       "      <td>2017</td>\n",
       "      <td>0</td>\n",
       "      <td>0</td>\n",
       "      <td>574</td>\n",
       "      <td>1376</td>\n",
       "    </tr>\n",
       "    <tr>\n",
       "      <th>github</th>\n",
       "      <td>1138</td>\n",
       "      <td>0</td>\n",
       "      <td>0</td>\n",
       "      <td>0</td>\n",
       "      <td>824</td>\n",
       "    </tr>\n",
       "    <tr>\n",
       "      <th>go</th>\n",
       "      <td>0</td>\n",
       "      <td>156</td>\n",
       "      <td>0</td>\n",
       "      <td>0</td>\n",
       "      <td>0</td>\n",
       "    </tr>\n",
       "    <tr>\n",
       "      <th>year</th>\n",
       "      <td>1069</td>\n",
       "      <td>0</td>\n",
       "      <td>0</td>\n",
       "      <td>0</td>\n",
       "      <td>971</td>\n",
       "    </tr>\n",
       "    <tr>\n",
       "      <th>zsh</th>\n",
       "      <td>0</td>\n",
       "      <td>0</td>\n",
       "      <td>0</td>\n",
       "      <td>390</td>\n",
       "      <td>0</td>\n",
       "    </tr>\n",
       "    <tr>\n",
       "      <th>hugo</th>\n",
       "      <td>0</td>\n",
       "      <td>0</td>\n",
       "      <td>127</td>\n",
       "      <td>0</td>\n",
       "      <td>0</td>\n",
       "    </tr>\n",
       "    <tr>\n",
       "      <th>includes</th>\n",
       "      <td>0</td>\n",
       "      <td>0</td>\n",
       "      <td>0</td>\n",
       "      <td>264</td>\n",
       "      <td>0</td>\n",
       "    </tr>\n",
       "    <tr>\n",
       "      <th>ipfs</th>\n",
       "      <td>0</td>\n",
       "      <td>0</td>\n",
       "      <td>134</td>\n",
       "      <td>0</td>\n",
       "      <td>0</td>\n",
       "    </tr>\n",
       "    <tr>\n",
       "      <th>javascript</th>\n",
       "      <td>0</td>\n",
       "      <td>201</td>\n",
       "      <td>0</td>\n",
       "      <td>0</td>\n",
       "      <td>0</td>\n",
       "    </tr>\n",
       "    <tr>\n",
       "      <th>work</th>\n",
       "      <td>0</td>\n",
       "      <td>0</td>\n",
       "      <td>0</td>\n",
       "      <td>256</td>\n",
       "      <td>0</td>\n",
       "    </tr>\n",
       "    <tr>\n",
       "      <th>zsh</th>\n",
       "      <td>0</td>\n",
       "      <td>0</td>\n",
       "      <td>0</td>\n",
       "      <td>390</td>\n",
       "      <td>0</td>\n",
       "    </tr>\n",
       "    <tr>\n",
       "      <th>height13codesummary</th>\n",
       "      <td>0</td>\n",
       "      <td>0</td>\n",
       "      <td>0</td>\n",
       "      <td>0</td>\n",
       "      <td>479</td>\n",
       "    </tr>\n",
       "    <tr>\n",
       "      <th>height16px</th>\n",
       "      <td>0</td>\n",
       "      <td>0</td>\n",
       "      <td>0</td>\n",
       "      <td>0</td>\n",
       "      <td>566</td>\n",
       "    </tr>\n",
       "    <tr>\n",
       "      <th>hugo</th>\n",
       "      <td>0</td>\n",
       "      <td>0</td>\n",
       "      <td>127</td>\n",
       "      <td>0</td>\n",
       "      <td>0</td>\n",
       "    </tr>\n",
       "    <tr>\n",
       "      <th>img</th>\n",
       "      <td>1346</td>\n",
       "      <td>0</td>\n",
       "      <td>0</td>\n",
       "      <td>0</td>\n",
       "      <td>1156</td>\n",
       "    </tr>\n",
       "    <tr>\n",
       "      <th>width16px</th>\n",
       "      <td>0</td>\n",
       "      <td>0</td>\n",
       "      <td>0</td>\n",
       "      <td>0</td>\n",
       "      <td>566</td>\n",
       "    </tr>\n",
       "    <tr>\n",
       "      <th>year</th>\n",
       "      <td>1069</td>\n",
       "      <td>0</td>\n",
       "      <td>0</td>\n",
       "      <td>0</td>\n",
       "      <td>971</td>\n",
       "    </tr>\n",
       "  </tbody>\n",
       "</table>\n",
       "</div>"
      ],
      "text/plain": [
       "                                                     all  java  HTML  shell  \\\n",
       "github                                              1138     0     0      0   \n",
       "height13codesummary                                    0     0     0      0   \n",
       "height16px                                             0     0     0      0   \n",
       "hugo                                                   0     0   127      0   \n",
       "year                                                1069     0     0      0   \n",
       "zsh                                                    0     0     0    390   \n",
       "freesvghttpsgithubcomlisadziubaawesomedesigntoo...     0   302     0      0   \n",
       "git                                                 2017     0     0    574   \n",
       "github                                              1138     0     0      0   \n",
       "go                                                     0   156     0      0   \n",
       "year                                                1069     0     0      0   \n",
       "zsh                                                    0     0     0    390   \n",
       "hugo                                                   0     0   127      0   \n",
       "includes                                               0     0     0    264   \n",
       "ipfs                                                   0     0   134      0   \n",
       "javascript                                             0   201     0      0   \n",
       "work                                                   0     0     0    256   \n",
       "zsh                                                    0     0     0    390   \n",
       "height13codesummary                                    0     0     0      0   \n",
       "height16px                                             0     0     0      0   \n",
       "hugo                                                   0     0   127      0   \n",
       "img                                                 1346     0     0      0   \n",
       "width16px                                              0     0     0      0   \n",
       "year                                                1069     0     0      0   \n",
       "\n",
       "                                                    python  \n",
       "github                                                 824  \n",
       "height13codesummary                                    479  \n",
       "height16px                                             566  \n",
       "hugo                                                     0  \n",
       "year                                                   971  \n",
       "zsh                                                      0  \n",
       "freesvghttpsgithubcomlisadziubaawesomedesigntoo...       0  \n",
       "git                                                   1376  \n",
       "github                                                 824  \n",
       "go                                                       0  \n",
       "year                                                   971  \n",
       "zsh                                                      0  \n",
       "hugo                                                     0  \n",
       "includes                                                 0  \n",
       "ipfs                                                     0  \n",
       "javascript                                               0  \n",
       "work                                                     0  \n",
       "zsh                                                      0  \n",
       "height13codesummary                                    479  \n",
       "height16px                                             566  \n",
       "hugo                                                     0  \n",
       "img                                                   1156  \n",
       "width16px                                              566  \n",
       "year                                                   971  "
      ]
     },
     "execution_count": 225,
     "metadata": {},
     "output_type": "execute_result"
    }
   ],
   "source": [
    "# any words unique to each language\n",
    "pd.concat([word_counts[word_counts.java == 0].sort_values(by='java').tail(6),\n",
    "           word_counts[word_counts.HTML == 0].sort_values(by='HTML').tail(6),\n",
    "           word_counts[word_counts.python == 0].sort_values(by='python').tail(6),\n",
    "           word_counts[word_counts.shell == 0].sort_values(by='shell').tail(6)]\n",
    "            )"
   ]
  },
  {
   "cell_type": "code",
   "execution_count": 226,
   "metadata": {},
   "outputs": [],
   "source": [
    "%matplotlib inline\n",
    "import matplotlib.pyplot as plt\n",
    "import seaborn as sns"
   ]
  },
  {
   "cell_type": "code",
   "execution_count": 230,
   "metadata": {},
   "outputs": [
    {
     "data": {
      "text/plain": [
       "Text(0.5, 1.0, 'Proportion of Spam vs Ham for the 20 most common words')"
      ]
     },
     "execution_count": 230,
     "metadata": {},
     "output_type": "execute_result"
    },
    {
     "data": {
      "image/png": "[encoded data removed]",
      "text/plain": [
       "<Figure size 432x288 with 1 Axes>"
      ]
     },
     "metadata": {
      "needs_background": "light"
     },
     "output_type": "display_data"
    }
   ],
   "source": [
    "# figure out the percentage of spam vs ham\n",
    "(word_counts\n",
    " .assign(p_java=word_counts.java / word_counts['all'],\n",
    "         p_HTML=word_counts.HTML / word_counts['all'],\n",
    "         p_shell=word_counts.shell / word_counts['all'],\n",
    "         p_python=word_counts.python / word_counts['all'],)\n",
    " .sort_values(by='all')\n",
    " [['p_java', 'p_HTML', 'p_shell', 'p_python']]\n",
    " .tail(20)\n",
    " .sort_values('p_java')\n",
    " .plot.barh(stacked=True))\n",
    "\n",
    "plt.title('Proportion of Spam vs Ham for the 20 most common words')"
   ]
  },
  {
   "cell_type": "markdown",
   "metadata": {},
   "source": [
    "#### Repeat after adding top 30 common words to stop list"
   ]
  },
  {
   "cell_type": "code",
   "execution_count": 209,
   "metadata": {},
   "outputs": [],
   "source": [
    "# add the top 30 common words to stopwords\n",
    "z = prepare2.prep_article_data(readme_culled, 'readme_contents', prepare2.re_tokenize, extra_words=all, exclude_words=[])"
   ]
  },
  {
   "cell_type": "code",
   "execution_count": 210,
   "metadata": {},
   "outputs": [],
   "source": [
    "# Create dataframes specific to programming language\n",
    "java_z = z[z.language=='JavaScript']\n",
    "python_z = z[z.language=='Python']\n",
    "HTML_z = z[z.language=='HTML']\n",
    "shell_z = z[z.language=='Shell']"
   ]
  },
  {
   "cell_type": "code",
   "execution_count": 211,
   "metadata": {},
   "outputs": [],
   "source": [
    "# create strings out of the lemmatized contenst from each dataframe\n",
    "all_words_z = ' '.join(z.lemmatized_readme_contents)\n",
    "java_words_z = ' '.join(java_z.lemmatized_readme_contents)\n",
    "python_words_z = ' '.join(python_z.lemmatized_readme_contents)\n",
    "HTML_words_z = ' '.join(HTML_z.lemmatized_readme_contents)\n",
    "shell_words_z = ' '.join(shell_z.lemmatized_readme_contents)"
   ]
  },
  {
   "cell_type": "code",
   "execution_count": 232,
   "metadata": {},
   "outputs": [
    {
     "data": {
      "application/javascript": [
       "\n",
       "        if (window._pyforest_update_imports_cell) { window._pyforest_update_imports_cell('import pandas as pd'); }\n",
       "    "
      ],
      "text/plain": [
       "<IPython.core.display.Javascript object>"
      ]
     },
     "metadata": {},
     "output_type": "display_data"
    },
    {
     "data": {
      "application/javascript": [
       "\n",
       "        if (window._pyforest_update_imports_cell) { window._pyforest_update_imports_cell('import pandas as pd'); }\n",
       "    "
      ],
      "text/plain": [
       "<IPython.core.display.Javascript object>"
      ]
     },
     "metadata": {},
     "output_type": "display_data"
    },
    {
     "data": {
      "application/javascript": [
       "\n",
       "        if (window._pyforest_update_imports_cell) { window._pyforest_update_imports_cell('import pandas as pd'); }\n",
       "    "
      ],
      "text/plain": [
       "<IPython.core.display.Javascript object>"
      ]
     },
     "metadata": {},
     "output_type": "display_data"
    },
    {
     "data": {
      "application/javascript": [
       "\n",
       "        if (window._pyforest_update_imports_cell) { window._pyforest_update_imports_cell('import pandas as pd'); }\n",
       "    "
      ],
      "text/plain": [
       "<IPython.core.display.Javascript object>"
      ]
     },
     "metadata": {},
     "output_type": "display_data"
    },
    {
     "data": {
      "application/javascript": [
       "\n",
       "        if (window._pyforest_update_imports_cell) { window._pyforest_update_imports_cell('import pandas as pd'); }\n",
       "    "
      ],
      "text/plain": [
       "<IPython.core.display.Javascript object>"
      ]
     },
     "metadata": {},
     "output_type": "display_data"
    }
   ],
   "source": [
    "all_freq_z = pd.Series(data = all_words_z.split()).value_counts().head(30)\n",
    "java_freq_z = pd.Series(data = java_words_z.split()).value_counts().head(30)\n",
    "python_freq_z = pd.Series(data = python_words_z.split()).value_counts().head(30)\n",
    "HTML_freq_z = pd.Series(data = HTML_words_z.split()).value_counts().head(30)\n",
    "shell_freq_z = pd.Series(data = shell_words_z.split()).value_counts().head(30)"
   ]
  },
  {
   "cell_type": "code",
   "execution_count": 235,
   "metadata": {},
   "outputs": [
    {
     "data": {
      "application/javascript": [
       "\n",
       "        if (window._pyforest_update_imports_cell) { window._pyforest_update_imports_cell('import pandas as pd'); }\n",
       "    "
      ],
      "text/plain": [
       "<IPython.core.display.Javascript object>"
      ]
     },
     "metadata": {},
     "output_type": "display_data"
    },
    {
     "data": {
      "text/html": [
       "<div>\n",
       "<style scoped>\n",
       "    .dataframe tbody tr th:only-of-type {\n",
       "        vertical-align: middle;\n",
       "    }\n",
       "\n",
       "    .dataframe tbody tr th {\n",
       "        vertical-align: top;\n",
       "    }\n",
       "\n",
       "    .dataframe thead th {\n",
       "        text-align: right;\n",
       "    }\n",
       "</style>\n",
       "<table border=\"1\" class=\"dataframe\">\n",
       "  <thead>\n",
       "    <tr style=\"text-align: right;\">\n",
       "      <th></th>\n",
       "      <th>all_z</th>\n",
       "      <th>java_z</th>\n",
       "      <th>HTML_z</th>\n",
       "      <th>shell_z</th>\n",
       "      <th>python_z</th>\n",
       "    </tr>\n",
       "  </thead>\n",
       "  <tbody>\n",
       "    <tr>\n",
       "      <th>0</th>\n",
       "      <td>508</td>\n",
       "      <td>0</td>\n",
       "      <td>0</td>\n",
       "      <td>0</td>\n",
       "      <td>484</td>\n",
       "    </tr>\n",
       "    <tr>\n",
       "      <th>1</th>\n",
       "      <td>549</td>\n",
       "      <td>0</td>\n",
       "      <td>0</td>\n",
       "      <td>0</td>\n",
       "      <td>398</td>\n",
       "    </tr>\n",
       "    <tr>\n",
       "      <th>2</th>\n",
       "      <td>680</td>\n",
       "      <td>0</td>\n",
       "      <td>161</td>\n",
       "      <td>0</td>\n",
       "      <td>386</td>\n",
       "    </tr>\n",
       "    <tr>\n",
       "      <th>2017</th>\n",
       "      <td>484</td>\n",
       "      <td>0</td>\n",
       "      <td>0</td>\n",
       "      <td>431</td>\n",
       "      <td>0</td>\n",
       "    </tr>\n",
       "    <tr>\n",
       "      <th>2018</th>\n",
       "      <td>0</td>\n",
       "      <td>0</td>\n",
       "      <td>0</td>\n",
       "      <td>311</td>\n",
       "      <td>0</td>\n",
       "    </tr>\n",
       "  </tbody>\n",
       "</table>\n",
       "</div>"
      ],
      "text/plain": [
       "      all_z  java_z  HTML_z  shell_z  python_z\n",
       "0       508       0       0        0       484\n",
       "1       549       0       0        0       398\n",
       "2       680       0     161        0       386\n",
       "2017    484       0       0      431         0\n",
       "2018      0       0       0      311         0"
      ]
     },
     "execution_count": 235,
     "metadata": {},
     "output_type": "execute_result"
    }
   ],
   "source": [
    "word_counts_z = (pd.concat([all_freq_z, java_freq_z, HTML_freq_z, shell_freq_z, python_freq_z], axis=1, sort=True)\n",
    "                .set_axis(['all_z', 'java_z', 'HTML_z', 'shell_z', 'python_z'], axis=1, inplace=False)\n",
    "                .fillna(0)\n",
    "                .apply(lambda s: s.astype(int)))\n",
    "\n",
    "word_counts_z.head()"
   ]
  },
  {
   "cell_type": "code",
   "execution_count": 239,
   "metadata": {},
   "outputs": [
    {
     "data": {
      "text/html": [
       "<div>\n",
       "<style scoped>\n",
       "    .dataframe tbody tr th:only-of-type {\n",
       "        vertical-align: middle;\n",
       "    }\n",
       "\n",
       "    .dataframe tbody tr th {\n",
       "        vertical-align: top;\n",
       "    }\n",
       "\n",
       "    .dataframe thead th {\n",
       "        text-align: right;\n",
       "    }\n",
       "</style>\n",
       "<table border=\"1\" class=\"dataframe\">\n",
       "  <thead>\n",
       "    <tr style=\"text-align: right;\">\n",
       "      <th></th>\n",
       "      <th>all_z</th>\n",
       "      <th>java_z</th>\n",
       "      <th>HTML_z</th>\n",
       "      <th>shell_z</th>\n",
       "      <th>python_z</th>\n",
       "    </tr>\n",
       "  </thead>\n",
       "  <tbody>\n",
       "    <tr>\n",
       "      <th>2</th>\n",
       "      <td>680</td>\n",
       "      <td>0</td>\n",
       "      <td>161</td>\n",
       "      <td>0</td>\n",
       "      <td>386</td>\n",
       "    </tr>\n",
       "    <tr>\n",
       "      <th>based</th>\n",
       "      <td>673</td>\n",
       "      <td>0</td>\n",
       "      <td>154</td>\n",
       "      <td>218</td>\n",
       "      <td>0</td>\n",
       "    </tr>\n",
       "    <tr>\n",
       "      <th>simple</th>\n",
       "      <td>669</td>\n",
       "      <td>198</td>\n",
       "      <td>103</td>\n",
       "      <td>0</td>\n",
       "      <td>0</td>\n",
       "    </tr>\n",
       "    <tr>\n",
       "      <th>language</th>\n",
       "      <td>661</td>\n",
       "      <td>0</td>\n",
       "      <td>0</td>\n",
       "      <td>0</td>\n",
       "      <td>413</td>\n",
       "    </tr>\n",
       "    <tr>\n",
       "      <th>td</th>\n",
       "      <td>660</td>\n",
       "      <td>0</td>\n",
       "      <td>0</td>\n",
       "      <td>0</td>\n",
       "      <td>660</td>\n",
       "    </tr>\n",
       "    <tr>\n",
       "      <th>system</th>\n",
       "      <td>647</td>\n",
       "      <td>185</td>\n",
       "      <td>0</td>\n",
       "      <td>209</td>\n",
       "      <td>0</td>\n",
       "    </tr>\n",
       "    <tr>\n",
       "      <th>width13</th>\n",
       "      <td>642</td>\n",
       "      <td>0</td>\n",
       "      <td>0</td>\n",
       "      <td>0</td>\n",
       "      <td>642</td>\n",
       "    </tr>\n",
       "    <tr>\n",
       "      <th>styledisplayinline</th>\n",
       "      <td>642</td>\n",
       "      <td>0</td>\n",
       "      <td>0</td>\n",
       "      <td>0</td>\n",
       "      <td>642</td>\n",
       "    </tr>\n",
       "    <tr>\n",
       "      <th>codeimg</th>\n",
       "      <td>628</td>\n",
       "      <td>0</td>\n",
       "      <td>0</td>\n",
       "      <td>0</td>\n",
       "      <td>628</td>\n",
       "    </tr>\n",
       "    <tr>\n",
       "      <th>learning</th>\n",
       "      <td>625</td>\n",
       "      <td>0</td>\n",
       "      <td>138</td>\n",
       "      <td>0</td>\n",
       "      <td>339</td>\n",
       "    </tr>\n",
       "  </tbody>\n",
       "</table>\n",
       "</div>"
      ],
      "text/plain": [
       "                    all_z  java_z  HTML_z  shell_z  python_z\n",
       "2                     680       0     161        0       386\n",
       "based                 673       0     154      218         0\n",
       "simple                669     198     103        0         0\n",
       "language              661       0       0        0       413\n",
       "td                    660       0       0        0       660\n",
       "system                647     185       0      209         0\n",
       "width13               642       0       0        0       642\n",
       "styledisplayinline    642       0       0        0       642\n",
       "codeimg               628       0       0        0       628\n",
       "learning              625       0     138        0       339"
      ]
     },
     "execution_count": 239,
     "metadata": {},
     "output_type": "execute_result"
    }
   ],
   "source": [
    "# most frequently occuring word in z\n",
    "word_counts_z.sort_values(by='all_z', ascending=False).head(10)"
   ]
  },
  {
   "cell_type": "code",
   "execution_count": 241,
   "metadata": {},
   "outputs": [
    {
     "data": {
      "application/javascript": [
       "\n",
       "        if (window._pyforest_update_imports_cell) { window._pyforest_update_imports_cell('import pandas as pd'); }\n",
       "    "
      ],
      "text/plain": [
       "<IPython.core.display.Javascript object>"
      ]
     },
     "metadata": {},
     "output_type": "display_data"
    },
    {
     "data": {
      "text/html": [
       "<div>\n",
       "<style scoped>\n",
       "    .dataframe tbody tr th:only-of-type {\n",
       "        vertical-align: middle;\n",
       "    }\n",
       "\n",
       "    .dataframe tbody tr th {\n",
       "        vertical-align: top;\n",
       "    }\n",
       "\n",
       "    .dataframe thead th {\n",
       "        text-align: right;\n",
       "    }\n",
       "</style>\n",
       "<table border=\"1\" class=\"dataframe\">\n",
       "  <thead>\n",
       "    <tr style=\"text-align: right;\">\n",
       "      <th></th>\n",
       "      <th>all_z</th>\n",
       "      <th>java_z</th>\n",
       "      <th>HTML_z</th>\n",
       "      <th>shell_z</th>\n",
       "      <th>python_z</th>\n",
       "    </tr>\n",
       "  </thead>\n",
       "  <tbody>\n",
       "    <tr>\n",
       "      <th>component</th>\n",
       "      <td>0</td>\n",
       "      <td>0</td>\n",
       "      <td>124</td>\n",
       "      <td>0</td>\n",
       "      <td>0</td>\n",
       "    </tr>\n",
       "    <tr>\n",
       "      <th>commit</th>\n",
       "      <td>0</td>\n",
       "      <td>0</td>\n",
       "      <td>0</td>\n",
       "      <td>0</td>\n",
       "      <td>372</td>\n",
       "    </tr>\n",
       "    <tr>\n",
       "      <th>command</th>\n",
       "      <td>616</td>\n",
       "      <td>0</td>\n",
       "      <td>0</td>\n",
       "      <td>428</td>\n",
       "      <td>0</td>\n",
       "    </tr>\n",
       "    <tr>\n",
       "      <th>codeimg</th>\n",
       "      <td>628</td>\n",
       "      <td>0</td>\n",
       "      <td>0</td>\n",
       "      <td>0</td>\n",
       "      <td>628</td>\n",
       "    </tr>\n",
       "    <tr>\n",
       "      <th>decoration</th>\n",
       "      <td>0</td>\n",
       "      <td>0</td>\n",
       "      <td>0</td>\n",
       "      <td>253</td>\n",
       "      <td>0</td>\n",
       "    </tr>\n",
       "    <tr>\n",
       "      <th>zsh</th>\n",
       "      <td>0</td>\n",
       "      <td>0</td>\n",
       "      <td>0</td>\n",
       "      <td>390</td>\n",
       "      <td>0</td>\n",
       "    </tr>\n",
       "    <tr>\n",
       "      <th>conda</th>\n",
       "      <td>552</td>\n",
       "      <td>0</td>\n",
       "      <td>0</td>\n",
       "      <td>0</td>\n",
       "      <td>547</td>\n",
       "    </tr>\n",
       "    <tr>\n",
       "      <th>commit</th>\n",
       "      <td>0</td>\n",
       "      <td>0</td>\n",
       "      <td>0</td>\n",
       "      <td>0</td>\n",
       "      <td>372</td>\n",
       "    </tr>\n",
       "    <tr>\n",
       "      <th>command</th>\n",
       "      <td>616</td>\n",
       "      <td>0</td>\n",
       "      <td>0</td>\n",
       "      <td>428</td>\n",
       "      <td>0</td>\n",
       "    </tr>\n",
       "    <tr>\n",
       "      <th>color</th>\n",
       "      <td>0</td>\n",
       "      <td>128</td>\n",
       "      <td>0</td>\n",
       "      <td>0</td>\n",
       "      <td>0</td>\n",
       "    </tr>\n",
       "    <tr>\n",
       "      <th>create</th>\n",
       "      <td>0</td>\n",
       "      <td>183</td>\n",
       "      <td>0</td>\n",
       "      <td>0</td>\n",
       "      <td>0</td>\n",
       "    </tr>\n",
       "    <tr>\n",
       "      <th>zsh</th>\n",
       "      <td>0</td>\n",
       "      <td>0</td>\n",
       "      <td>0</td>\n",
       "      <td>390</td>\n",
       "      <td>0</td>\n",
       "    </tr>\n",
       "    <tr>\n",
       "      <th>design</th>\n",
       "      <td>504</td>\n",
       "      <td>268</td>\n",
       "      <td>0</td>\n",
       "      <td>0</td>\n",
       "      <td>0</td>\n",
       "    </tr>\n",
       "    <tr>\n",
       "      <th>decoration</th>\n",
       "      <td>0</td>\n",
       "      <td>0</td>\n",
       "      <td>0</td>\n",
       "      <td>253</td>\n",
       "      <td>0</td>\n",
       "    </tr>\n",
       "    <tr>\n",
       "      <th>de</th>\n",
       "      <td>0</td>\n",
       "      <td>0</td>\n",
       "      <td>0</td>\n",
       "      <td>281</td>\n",
       "      <td>0</td>\n",
       "    </tr>\n",
       "    <tr>\n",
       "      <th>cs</th>\n",
       "      <td>0</td>\n",
       "      <td>134</td>\n",
       "      <td>0</td>\n",
       "      <td>0</td>\n",
       "      <td>0</td>\n",
       "    </tr>\n",
       "    <tr>\n",
       "      <th>ffmpeg</th>\n",
       "      <td>0</td>\n",
       "      <td>0</td>\n",
       "      <td>113</td>\n",
       "      <td>0</td>\n",
       "      <td>0</td>\n",
       "    </tr>\n",
       "    <tr>\n",
       "      <th>zsh</th>\n",
       "      <td>0</td>\n",
       "      <td>0</td>\n",
       "      <td>0</td>\n",
       "      <td>390</td>\n",
       "      <td>0</td>\n",
       "    </tr>\n",
       "    <tr>\n",
       "      <th>create</th>\n",
       "      <td>0</td>\n",
       "      <td>183</td>\n",
       "      <td>0</td>\n",
       "      <td>0</td>\n",
       "      <td>0</td>\n",
       "    </tr>\n",
       "    <tr>\n",
       "      <th>covid19</th>\n",
       "      <td>0</td>\n",
       "      <td>273</td>\n",
       "      <td>0</td>\n",
       "      <td>0</td>\n",
       "      <td>0</td>\n",
       "    </tr>\n",
       "    <tr>\n",
       "      <th>coronavirus</th>\n",
       "      <td>0</td>\n",
       "      <td>159</td>\n",
       "      <td>0</td>\n",
       "      <td>0</td>\n",
       "      <td>0</td>\n",
       "    </tr>\n",
       "    <tr>\n",
       "      <th>condaforge</th>\n",
       "      <td>529</td>\n",
       "      <td>0</td>\n",
       "      <td>0</td>\n",
       "      <td>0</td>\n",
       "      <td>529</td>\n",
       "    </tr>\n",
       "    <tr>\n",
       "      <th>developer</th>\n",
       "      <td>0</td>\n",
       "      <td>0</td>\n",
       "      <td>103</td>\n",
       "      <td>0</td>\n",
       "      <td>0</td>\n",
       "    </tr>\n",
       "    <tr>\n",
       "      <th>width16px</th>\n",
       "      <td>566</td>\n",
       "      <td>0</td>\n",
       "      <td>0</td>\n",
       "      <td>0</td>\n",
       "      <td>566</td>\n",
       "    </tr>\n",
       "  </tbody>\n",
       "</table>\n",
       "</div>"
      ],
      "text/plain": [
       "             all_z  java_z  HTML_z  shell_z  python_z\n",
       "component        0       0     124        0         0\n",
       "commit           0       0       0        0       372\n",
       "command        616       0       0      428         0\n",
       "codeimg        628       0       0        0       628\n",
       "decoration       0       0       0      253         0\n",
       "zsh              0       0       0      390         0\n",
       "conda          552       0       0        0       547\n",
       "commit           0       0       0        0       372\n",
       "command        616       0       0      428         0\n",
       "color            0     128       0        0         0\n",
       "create           0     183       0        0         0\n",
       "zsh              0       0       0      390         0\n",
       "design         504     268       0        0         0\n",
       "decoration       0       0       0      253         0\n",
       "de               0       0       0      281         0\n",
       "cs               0     134       0        0         0\n",
       "ffmpeg           0       0     113        0         0\n",
       "zsh              0       0       0      390         0\n",
       "create           0     183       0        0         0\n",
       "covid19          0     273       0        0         0\n",
       "coronavirus      0     159       0        0         0\n",
       "condaforge     529       0       0        0       529\n",
       "developer        0       0     103        0         0\n",
       "width16px      566       0       0        0       566"
      ]
     },
     "execution_count": 241,
     "metadata": {},
     "output_type": "execute_result"
    }
   ],
   "source": [
    "# any words unique to each language\n",
    "pd.concat([word_counts_z[word_counts_z.java_z == 0].sort_values(by='java_z').tail(6),\n",
    "           word_counts_z[word_counts_z.HTML_z == 0].sort_values(by='HTML_z').tail(6),\n",
    "           word_counts_z[word_counts_z.python_z == 0].sort_values(by='python_z').tail(6),\n",
    "           word_counts_z[word_counts_z.shell_z == 0].sort_values(by='shell_z').tail(6)]\n",
    "            )"
   ]
  },
  {
   "cell_type": "code",
   "execution_count": 242,
   "metadata": {},
   "outputs": [
    {
     "data": {
      "text/plain": [
       "Text(0.5, 1.0, 'Proportion of Spam vs Ham for the 20 most common words')"
      ]
     },
     "execution_count": 242,
     "metadata": {},
     "output_type": "execute_result"
    },
    {
     "data": {
      "image/png": "[encoded data removed]",
      "text/plain": [
       "<Figure size 432x288 with 1 Axes>"
      ]
     },
     "metadata": {
      "needs_background": "light"
     },
     "output_type": "display_data"
    }
   ],
   "source": [
    "# figure out the percentage of spam vs ham\n",
    "(word_counts_z\n",
    " .assign(p_java_z=word_counts_z.java_z / word_counts_z['all_z'],\n",
    "         p_HTML_z=word_counts_z.HTML_z / word_counts_z['all_z'],\n",
    "         p_shell_z=word_counts_z.shell_z / word_counts_z['all_z'],\n",
    "         p_python_z=word_counts_z.python_z / word_counts_z['all_z'],)\n",
    " .sort_values(by='all_z')\n",
    " [['p_java_z', 'p_HTML_z', 'p_shell_z', 'p_python_z']]\n",
    " .tail(20)\n",
    " .sort_values('p_java_z')\n",
    " .plot.barh(stacked=True))\n",
    "\n",
    "plt.title('Proportion of Spam vs Ham for the 20 most common words')"
   ]
  },
  {
   "cell_type": "markdown",
   "metadata": {},
   "source": [
    "# MISC"
   ]
  },
  {
   "cell_type": "code",
   "execution_count": 212,
   "metadata": {},
   "outputs": [
    {
     "data": {
      "application/javascript": [
       "\n",
       "        if (window._pyforest_update_imports_cell) { window._pyforest_update_imports_cell('import pandas as pd'); }\n",
       "    "
      ],
      "text/plain": [
       "<IPython.core.display.Javascript object>"
      ]
     },
     "metadata": {},
     "output_type": "display_data"
    },
    {
     "data": {
      "text/plain": [
       "mit                                                                        356\n",
       "php                                                                        354\n",
       "freesvghttpsgithubcomlisadziubaawesomedesigntoolsblobmastermediafreesvg    302\n",
       "covid19                                                                    273\n",
       "design                                                                     268\n",
       "free                                                                       236\n",
       "server                                                                     212\n",
       "javascript                                                                 201\n",
       "gpl30                                                                      201\n",
       "simple                                                                     198\n",
       "app                                                                        187\n",
       "system                                                                     185\n",
       "create                                                                     183\n",
       "management                                                                 169\n",
       "coronavirus                                                                159\n",
       "go                                                                         156\n",
       "nodejs                                                                     156\n",
       "software                                                                   151\n",
       "help                                                                       151\n",
       "platform                                                                   151\n",
       "user                                                                       149\n",
       "api                                                                        147\n",
       "agpl30                                                                     147\n",
       "support                                                                    141\n",
       "website                                                                    137\n",
       "image                                                                      135\n",
       "cs                                                                         134\n",
       "color                                                                      128\n",
       "new                                                                        128\n",
       "build                                                                      126\n",
       "dtype: int64"
      ]
     },
     "execution_count": 212,
     "metadata": {},
     "output_type": "execute_result"
    }
   ],
   "source": [
    "pd.Series(data = java_words_z.split()).value_counts().head(30)"
   ]
  },
  {
   "cell_type": "code",
   "execution_count": 196,
   "metadata": {},
   "outputs": [
    {
     "data": {
      "application/javascript": [
       "\n",
       "        if (window._pyforest_update_imports_cell) { window._pyforest_update_imports_cell('import pandas as pd'); }\n",
       "    "
      ],
      "text/plain": [
       "<IPython.core.display.Javascript object>"
      ]
     },
     "metadata": {},
     "output_type": "display_data"
    },
    {
     "data": {
      "text/plain": [
       "td                                     660\n",
       "styledisplayinline                     642\n",
       "width13                                642\n",
       "codeimg                                628\n",
       "height16px                             566\n",
       "width16px                              566\n",
       "conda                                  547\n",
       "condaforge                             529\n",
       "0                                      484\n",
       "height13codesummary                    479\n",
       "language                               413\n",
       "1                                      398\n",
       "2                                      386\n",
       "3                                      380\n",
       "ba                                     379\n",
       "hrefhttpbitly34mbwt8mitacodesummary    375\n",
       "commit                                 372\n",
       "tr                                     348\n",
       "hrefhttpbitly34mbwt8mitacode           346\n",
       "learning                               339\n",
       "wagtail                                328\n",
       "8                                      319\n",
       "6                                      309\n",
       "scala                                  293\n",
       "4                                      289\n",
       "model                                  289\n",
       "channel                                287\n",
       "detection                              286\n",
       "9                                      279\n",
       "english                                277\n",
       "dtype: int64"
      ]
     },
     "execution_count": 196,
     "metadata": {},
     "output_type": "execute_result"
    }
   ],
   "source": [
    "pd.Series(data = python_words_z.split()).value_counts().head(30)"
   ]
  },
  {
   "cell_type": "code",
   "execution_count": 197,
   "metadata": {},
   "outputs": [
    {
     "data": {
      "application/javascript": [
       "\n",
       "        if (window._pyforest_update_imports_cell) { window._pyforest_update_imports_cell('import pandas as pd'); }\n",
       "    "
      ],
      "text/plain": [
       "<IPython.core.display.Javascript object>"
      ]
     },
     "metadata": {},
     "output_type": "display_data"
    },
    {
     "data": {
      "text/plain": [
       "angular        346\n",
       "quantum        342\n",
       "kubernetes     247\n",
       "jmeter         227\n",
       "webpack        225\n",
       "podcast        187\n",
       "2              161\n",
       "based          154\n",
       "learning       138\n",
       "maintainer     136\n",
       "ipfs           134\n",
       "service        132\n",
       "hugo           127\n",
       "component      124\n",
       "software       117\n",
       "resource       117\n",
       "streaming      116\n",
       "development    114\n",
       "ffmpeg         113\n",
       "hl             106\n",
       "image          106\n",
       "earth          105\n",
       "developer      103\n",
       "simple         103\n",
       "javascript      99\n",
       "platform        99\n",
       "cloud           97\n",
       "play            95\n",
       "api             93\n",
       "testing         93\n",
       "dtype: int64"
      ]
     },
     "execution_count": 197,
     "metadata": {},
     "output_type": "execute_result"
    }
   ],
   "source": [
    "pd.Series(data = HTML_words_z.split()).value_counts().head(30)"
   ]
  },
  {
   "cell_type": "code",
   "execution_count": null,
   "metadata": {},
   "outputs": [],
   "source": [
    "# figure out the percentage of each language\n",
    "(word_counts\n",
    " .assign(p_java=all_words.JavaScript / word_counts['all'],\n",
    "         p_python=all_couns.spam / word_counts['all'],\n",
    "         p_spam=word_counts.spam / word_counts['all'],\n",
    "         p_ham=word_counts.ham / word_counts['all'])\n",
    " .sort_values(by='all')\n",
    " [['p_spam', 'p_ham']]\n",
    " .tail(20)\n",
    " .sort_values('p_ham')\n",
    " .plot.barh(stacked=True))\n",
    "\n",
    "plt.title('Proportion of Spam vs Ham for the 20 most common words')"
   ]
  },
  {
   "cell_type": "code",
   "execution_count": 216,
   "metadata": {},
   "outputs": [],
   "source": [
    "\n",
    "from math import log\n",
    "from numpy import array\n",
    "from numpy import argmax\n",
    " \n",
    "# beam search\n",
    "def beam_search_decoder(data, k):\n",
    "\tsequences = [[list(), 0.0]]\n",
    "\t# walk over each step in sequence\n",
    "\tfor row in data:\n",
    "\t\tall_candidates = list()\n",
    "\t\t# expand each current candidate\n",
    "\t\tfor i in range(len(sequences)):\n",
    "\t\t\tseq, score = sequences[i]\n",
    "\t\t\tfor j in range(len(row)):\n",
    "\t\t\t\tcandidate = [seq + [j], score - log(row[j])]\n",
    "\t\t\t\tall_candidates.append(candidate)\n",
    "\t\t# order all candidates by score\n",
    "\t\tordered = sorted(all_candidates, key=lambda tup:tup[1])\n",
    "\t\t# select k best\n",
    "\t\tsequences = ordered[:k]\n",
    "\treturn sequences\n",
    " "
   ]
  },
  {
   "cell_type": "code",
   "execution_count": null,
   "metadata": {},
   "outputs": [],
   "source": []
  },
  {
   "cell_type": "code",
   "execution_count": null,
   "metadata": {},
   "outputs": [],
   "source": []
  },
  {
   "cell_type": "code",
   "execution_count": null,
   "metadata": {},
   "outputs": [],
   "source": []
  },
  {
   "cell_type": "code",
   "execution_count": null,
   "metadata": {},
   "outputs": [],
   "source": []
  },
  {
   "cell_type": "code",
   "execution_count": null,
   "metadata": {},
   "outputs": [],
   "source": []
  },
  {
   "cell_type": "code",
   "execution_count": null,
   "metadata": {},
   "outputs": [],
   "source": []
  },
  {
   "cell_type": "code",
   "execution_count": null,
   "metadata": {},
   "outputs": [],
   "source": []
  },
  {
   "cell_type": "code",
   "execution_count": 185,
   "metadata": {},
   "outputs": [],
   "source": [
    "def tokenize(df, column):\n",
    "    \"\"\"\n",
    "    Tokenize alpha-numeric words. Set all tokens to lower-case and \n",
    "    remove short terms having less than 3 characters.\n",
    "    \"\"\"\n",
    "    # creates tokenizer based on regular expressions\n",
    "    wordTokenizer = RegexTokenizer(\n",
    "        inputCol=column, \n",
    "        outputCol='_'+column, \n",
    "        pattern='\\w+'\n",
    "    )\n",
    "    \n",
    "    # transform: string --> array<string>\n",
    "    df = wordTokenizer.transform(df) \n",
    "    \n",
    "    df = replace(df, column, '_'+column)\n",
    "    return df"
   ]
  },
  {
   "cell_type": "code",
   "execution_count": 83,
   "metadata": {},
   "outputs": [],
   "source": [
    "def tokenize(p_df, in_column, out_column):\n",
    "    \"\"\"\n",
    "    Tokenizes a column in a DataFrame.\n",
    "    :param p_df: A DataFrame.\n",
    "    :param in_column: Name of the input column.\n",
    "    :param out_column: Name of the output column.\n",
    "    :return: A DataFrame.\n",
    "    \"\"\"\n",
    "    tokenizer = RegexTokenizer(inputCol=in_column, outputCol=out_column, pattern=r'\\w+')\n",
    "    return tokenizer.transform(p_df)"
   ]
  },
  {
   "cell_type": "code",
   "execution_count": 126,
   "metadata": {},
   "outputs": [],
   "source": [
    "def tokenize(df, column):\n",
    "    \"\"\"\n",
    "    Tokenize alpha-numeric words. Set all tokens to lower-case and \n",
    "    remove short terms having less than 3 characters.\n",
    "    \"\"\"\n",
    "    # creates tokenizer based on regular expressions\n",
    "    wordTokenizer = RegexTokenizer(\n",
    "        inputCol=column, \n",
    "        outputCol='_'+column, \n",
    "        pattern='\\w+'\n",
    "    )\n",
    "    \n",
    "    # transform: string --> array<string>\n",
    "    df = wordTokenizer.transform(df) \n",
    "    \n",
    "    df = replace(df, column, '_'+column)\n",
    "    return df"
   ]
  },
  {
   "cell_type": "code",
   "execution_count": null,
   "metadata": {},
   "outputs": [],
   "source": []
  },
  {
   "cell_type": "code",
   "execution_count": null,
   "metadata": {},
   "outputs": [],
   "source": []
  }
 ],
 "metadata": {
  "kernelspec": {
   "display_name": "Python 3",
   "language": "python",
   "name": "python3"
  },
  "language_info": {
   "codemirror_mode": {
    "name": "ipython",
    "version": 3
   },
   "file_extension": ".py",
   "mimetype": "text/x-python",
   "name": "python",
   "nbconvert_exporter": "python",
   "pygments_lexer": "ipython3",
   "version": "3.8.5"
  }
 },
 "nbformat": 4,
 "nbformat_minor": 4
}
