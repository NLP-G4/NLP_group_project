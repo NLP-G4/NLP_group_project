{
 "cells": [
  {
   "cell_type": "markdown",
   "metadata": {},
   "source": [
    "# NLP Group Project\n",
    "### Alberto Puentes, Parker Voit, Tyler Applegate\n",
    "#### Florence Cohort, 2021_08_03"
   ]
  },
  {
   "cell_type": "code",
   "execution_count": 1,
   "metadata": {},
   "outputs": [],
   "source": [
    "# general imports\n",
    "import requests\n",
    "from requests import get\n",
    "from bs4 import BeautifulSoup\n",
    "import os\n",
    "import re\n",
    "import numpy as np\n",
    "import pandas as pd\n",
    "import markdown \n",
    "import nltk\n",
    "import csv\n",
    "\n",
    "# visualization imports\n",
    "import matplotlib.pyplot as plt\n",
    "import seaborn as sns\n",
    "from wordcloud import WordCloud, ImageColorGenerator\n",
    "\n",
    "# our function modules\n",
    "import acquire\n",
    "import prepare\n",
    "\n",
    "# imports for modeling\n",
    "from sklearn.model_selection import train_test_split\n",
    "from sklearn.tree import DecisionTreeClassifier\n",
    "from sklearn.ensemble import RandomForestClassifier\n",
    "from sklearn.neighbors import KNeighborsClassifier\n",
    "from sklearn.metrics import classification_report, confusion_matrix, recall_score, plot_confusion_matrix\n",
    "\n",
    "# Ignore Warnings\n",
    "import warnings\n",
    "warnings.filterwarnings(\"ignore\")\n",
    "\n"
   ]
  },
  {
   "cell_type": "markdown",
   "metadata": {},
   "source": [
    "## Project Overview"
   ]
  },
  {
   "cell_type": "markdown",
   "metadata": {},
   "source": [
    "## Key Findings:\n",
    "- We found that our [**model**] outperformed all other models, including the baseline. \n",
    "- This model achieved [**percent**] overall accuracy on our training data, [**percent**] on our validate set, and finally [**percent**] on the unseen test data set.\n",
    "- With more time, we would like to explore [**Hawaii, Portugal, and New Zealand**]"
   ]
  },
  {
   "cell_type": "markdown",
   "metadata": {},
   "source": [
    "## Data Acquisition"
   ]
  },
  {
   "cell_type": "code",
   "execution_count": 2,
   "metadata": {},
   "outputs": [],
   "source": [
    "# use our function to pull in raw data\n",
    "repo_df = acquire.get_github_data(cached = True)"
   ]
  },
  {
   "cell_type": "code",
   "execution_count": 3,
   "metadata": {},
   "outputs": [
    {
     "name": "stdout",
     "output_type": "stream",
     "text": [
      "This dataframe has 120 rows and 3 columns.\n",
      "----------------------------------\n",
      "\n",
      "<class 'pandas.core.frame.DataFrame'>\n",
      "Int64Index: 120 entries, 0 to 119\n",
      "Data columns (total 3 columns):\n",
      " #   Column           Non-Null Count  Dtype \n",
      "---  ------           --------------  ----- \n",
      " 0   repo             120 non-null    object\n",
      " 1   language         120 non-null    object\n",
      " 2   readme_contents  119 non-null    object\n",
      "dtypes: object(3)\n",
      "memory usage: 3.8+ KB\n",
      "None\n",
      "----------------------------------\n",
      "\n",
      "Unique value counts of each column\n",
      "\n",
      "repo               120\n",
      "language             4\n",
      "readme_contents    119\n",
      "dtype: int64\n",
      "----------------------------------\n",
      "\n",
      "Stats on Numeric Columns\n",
      "\n",
      "                                  repo language  \\\n",
      "count                              120      120   \n",
      "unique                             120        4   \n",
      "top     /detailyang/awesome-cheatsheet     HTML   \n",
      "freq                                 1       30   \n",
      "\n",
      "                                          readme_contents  \n",
      "count                                                 119  \n",
      "unique                                                119  \n",
      "top     # Awesome JSON Datasets (Etc.) [![Awesome](htt...  \n",
      "freq                                                    1  \n",
      "----------------------------------\n",
      "\n",
      "Target Value Counts\n",
      "HTML          30\n",
      "Shell         30\n",
      "Python        30\n",
      "JavaScript    30\n",
      "Name: language, dtype: int64\n"
     ]
    }
   ],
   "source": [
    "acquire.overview(repo_df)"
   ]
  },
  {
   "cell_type": "markdown",
   "metadata": {},
   "source": [
    "### Data Acquisition - Key Findings & Takeaways:\n",
    "- We are looking at 120 observations, evenly distributed across 4 programming languages\n",
    "- There appears to be 1 null value\n",
    "- There are also multiple files that are in foreign languages\n",
    "- For our first iteration, we are going to drop the null value, and foreign language repos"
   ]
  },
  {
   "cell_type": "markdown",
   "metadata": {},
   "source": [
    "## Data Preparation"
   ]
  },
  {
   "cell_type": "code",
   "execution_count": 4,
   "metadata": {},
   "outputs": [
    {
     "name": "stdout",
     "output_type": "stream",
     "text": [
      "This dataframe has 102 rows and 6 columns.\n",
      "----------------------------------\n",
      "\n",
      "<class 'pandas.core.frame.DataFrame'>\n",
      "Int64Index: 102 entries, 0 to 119\n",
      "Data columns (total 6 columns):\n",
      " #   Column               Non-Null Count  Dtype \n",
      "---  ------               --------------  ----- \n",
      " 0   repo                 102 non-null    object\n",
      " 1   language             102 non-null    object\n",
      " 2   readme_contents      102 non-null    object\n",
      " 3   cleaned_language     102 non-null    object\n",
      " 4   stemmed_language     102 non-null    object\n",
      " 5   lemmatized_language  102 non-null    object\n",
      "dtypes: object(6)\n",
      "memory usage: 5.6+ KB\n",
      "None\n",
      "----------------------------------\n",
      "\n",
      "Unique value counts of each column\n",
      "\n",
      "repo                   102\n",
      "language                 4\n",
      "readme_contents        102\n",
      "cleaned_language         4\n",
      "stemmed_language         4\n",
      "lemmatized_language      4\n",
      "dtype: int64\n",
      "----------------------------------\n",
      "\n",
      "Stats on Numeric Columns\n",
      "\n",
      "                            repo language  \\\n",
      "count                        102      102   \n",
      "unique                       102        4   \n",
      "top     /k4m4/movies-for-hackers    Shell   \n",
      "freq                           1       29   \n",
      "\n",
      "                                          readme_contents cleaned_language  \\\n",
      "count                                                 102              102   \n",
      "unique                                                102                4   \n",
      "top     ![](https://raw.githubusercontent.com/jagracey...            shell   \n",
      "freq                                                    1               29   \n",
      "\n",
      "       stemmed_language lemmatized_language  \n",
      "count               102                 102  \n",
      "unique                4                   4  \n",
      "top               shell               shell  \n",
      "freq                 29                  29  \n",
      "----------------------------------\n",
      "\n",
      "Target Value Counts\n",
      "Shell         29\n",
      "Python        27\n",
      "JavaScript    24\n",
      "HTML          22\n",
      "Name: language, dtype: int64\n"
     ]
    }
   ],
   "source": [
    "# perform our inital data prep and look at key stats\n",
    "df = prepare.prep_article_data(repo_df, 'language', tokenizer=prepare.tokenize)\n",
    "acquire.overview(df)"
   ]
  },
  {
   "cell_type": "code",
   "execution_count": 9,
   "metadata": {},
   "outputs": [
    {
     "data": {
      "image/png": "[encoded data removed]",
      "text/plain": [
       "<Figure size 432x288 with 1 Axes>"
      ]
     },
     "metadata": {
      "needs_background": "light"
     },
     "output_type": "display_data"
    }
   ],
   "source": [
    "# visualize distribution of target variable\n",
    "\n",
    "df.language.value_counts().plot.barh()\n",
    "plt.title('Distribution of Programming Languages')\n",
    "plt.xlabel(\"Count\")\n",
    "plt.show()"
   ]
  },
  {
   "cell_type": "code",
   "execution_count": 7,
   "metadata": {},
   "outputs": [],
   "source": [
    "# split our data prior to exploration, stratifying on target variable 'language'\n",
    "train, validate, test = prepare.train_validate_test_split(df, 'language')"
   ]
  },
  {
   "cell_type": "code",
   "execution_count": 11,
   "metadata": {},
   "outputs": [
    {
     "name": "stdout",
     "output_type": "stream",
     "text": [
      "This dataframe has 56 rows and 6 columns.\n",
      "----------------------------------\n",
      "\n",
      "<class 'pandas.core.frame.DataFrame'>\n",
      "Int64Index: 56 entries, 86 to 3\n",
      "Data columns (total 6 columns):\n",
      " #   Column               Non-Null Count  Dtype \n",
      "---  ------               --------------  ----- \n",
      " 0   repo                 56 non-null     object\n",
      " 1   language             56 non-null     object\n",
      " 2   readme_contents      56 non-null     object\n",
      " 3   cleaned_language     56 non-null     object\n",
      " 4   stemmed_language     56 non-null     object\n",
      " 5   lemmatized_language  56 non-null     object\n",
      "dtypes: object(6)\n",
      "memory usage: 3.1+ KB\n",
      "None\n",
      "----------------------------------\n",
      "\n",
      "Unique value counts of each column\n",
      "\n",
      "repo                   56\n",
      "language                4\n",
      "readme_contents        56\n",
      "cleaned_language        4\n",
      "stemmed_language        4\n",
      "lemmatized_language     4\n",
      "dtype: int64\n",
      "----------------------------------\n",
      "\n",
      "Stats on Numeric Columns\n",
      "\n",
      "                           repo language  \\\n",
      "count                        56       56   \n",
      "unique                       56        4   \n",
      "top     /chrissimpkins/codeface    Shell   \n",
      "freq                          1       16   \n",
      "\n",
      "                                          readme_contents cleaned_language  \\\n",
      "count                                                  56               56   \n",
      "unique                                                 56                4   \n",
      "top     ![](https://raw.githubusercontent.com/jagracey...            shell   \n",
      "freq                                                    1               16   \n",
      "\n",
      "       stemmed_language lemmatized_language  \n",
      "count                56                  56  \n",
      "unique                4                   4  \n",
      "top               shell               shell  \n",
      "freq                 16                  16  \n",
      "----------------------------------\n",
      "\n",
      "Target Value Counts\n",
      "Shell         16\n",
      "Python        15\n",
      "JavaScript    13\n",
      "HTML          12\n",
      "Name: language, dtype: int64\n"
     ]
    }
   ],
   "source": [
    "# what does our training set look like?\n",
    "acquire.overview(train)"
   ]
  },
  {
   "cell_type": "code",
   "execution_count": null,
   "metadata": {},
   "outputs": [],
   "source": []
  },
  {
   "cell_type": "code",
   "execution_count": null,
   "metadata": {},
   "outputs": [],
   "source": []
  },
  {
   "cell_type": "code",
   "execution_count": null,
   "metadata": {},
   "outputs": [],
   "source": []
  },
  {
   "cell_type": "code",
   "execution_count": null,
   "metadata": {},
   "outputs": [],
   "source": []
  },
  {
   "cell_type": "code",
   "execution_count": null,
   "metadata": {},
   "outputs": [],
   "source": []
  },
  {
   "cell_type": "code",
   "execution_count": null,
   "metadata": {},
   "outputs": [],
   "source": []
  },
  {
   "cell_type": "markdown",
   "metadata": {},
   "source": [
    "### Data Preparation - Key Findings & Takeaways:"
   ]
  },
  {
   "cell_type": "markdown",
   "metadata": {},
   "source": [
    "## Data Exploration"
   ]
  },
  {
   "cell_type": "code",
   "execution_count": null,
   "metadata": {},
   "outputs": [],
   "source": []
  },
  {
   "cell_type": "markdown",
   "metadata": {},
   "source": [
    "### Data Exploration - Key Findings & Takeaways:"
   ]
  },
  {
   "cell_type": "markdown",
   "metadata": {},
   "source": [
    "## Model Building"
   ]
  },
  {
   "cell_type": "code",
   "execution_count": null,
   "metadata": {},
   "outputs": [],
   "source": []
  },
  {
   "cell_type": "markdown",
   "metadata": {},
   "source": [
    "### Model Building - Key Findings & Takeaways:"
   ]
  },
  {
   "cell_type": "markdown",
   "metadata": {},
   "source": [
    "## Model Evaluation"
   ]
  },
  {
   "cell_type": "code",
   "execution_count": null,
   "metadata": {},
   "outputs": [],
   "source": []
  },
  {
   "cell_type": "markdown",
   "metadata": {},
   "source": [
    "### Model Evaluation - Key Findings & Takeaways:"
   ]
  },
  {
   "cell_type": "markdown",
   "metadata": {},
   "source": [
    "## Final Conclusions & Next Steps"
   ]
  },
  {
   "cell_type": "code",
   "execution_count": null,
   "metadata": {},
   "outputs": [],
   "source": []
  }
 ],
 "metadata": {
  "kernelspec": {
   "display_name": "Python 3.8.5 64-bit ('base': conda)",
   "language": "python",
   "name": "python385jvsc74a57bd0b64057e63add2b45b1ffc7eab9b09c8889b419c878e2fdf0d08f837f0fc857a7"
  },
  "language_info": {
   "codemirror_mode": {
    "name": "ipython",
    "version": 3
   },
   "file_extension": ".py",
   "mimetype": "text/x-python",
   "name": "python",
   "nbconvert_exporter": "python",
   "pygments_lexer": "ipython3",
   "version": "3.8.5"
  }
 },
 "nbformat": 4,
 "nbformat_minor": 4
}
