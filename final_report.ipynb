{
 "cells": [
  {
   "cell_type": "markdown",
   "metadata": {},
   "source": [
    "# NLP Group Project\n",
    "### Alberto Puentes, Parker Voit, Tyler Applegate\n",
    "#### Florence Cohort, 2021_08_03"
   ]
  },
  {
   "cell_type": "code",
   "execution_count": 1,
   "metadata": {},
   "outputs": [],
   "source": [
    "# general imports\n",
    "import requests\n",
    "from requests import get\n",
    "from bs4 import BeautifulSoup\n",
    "import os\n",
    "import re\n",
    "import numpy as np\n",
    "import pandas as pd\n",
    "import markdown \n",
    "import nltk\n",
    "import csv\n",
    "\n",
    "# visualization imports\n",
    "import matplotlib.pyplot as plt\n",
    "import seaborn as sns\n",
    "from wordcloud import WordCloud, ImageColorGenerator\n",
    "\n",
    "# our function modules\n",
    "import acquire\n",
    "import prepare\n",
    "import explore\n",
    "\n",
    "# imports for modeling\n",
    "from sklearn.model_selection import train_test_split\n",
    "from sklearn.tree import DecisionTreeClassifier\n",
    "from sklearn.ensemble import RandomForestClassifier\n",
    "from sklearn.neighbors import KNeighborsClassifier\n",
    "from sklearn.metrics import classification_report, confusion_matrix, recall_score, plot_confusion_matrix\n",
    "\n",
    "# Ignore Warnings\n",
    "import warnings\n",
    "warnings.filterwarnings(\"ignore\")\n",
    "\n"
   ]
  },
  {
   "cell_type": "markdown",
   "metadata": {},
   "source": [
    "## Project Overview"
   ]
  },
  {
   "cell_type": "markdown",
   "metadata": {},
   "source": [
    "## Key Findings:\n",
    "- We found that our [**model**] outperformed all other models, including the baseline. \n",
    "- This model achieved [**percent**] overall accuracy on our training data, [**percent**] on our validate set, and finally [**percent**] on the unseen test data set.\n",
    "- With more time, we would like to explore [**Hawaii, Portugal, and New Zealand**]"
   ]
  },
  {
   "cell_type": "markdown",
   "metadata": {},
   "source": [
    "## Data Acquisition"
   ]
  },
  {
   "cell_type": "code",
   "execution_count": 2,
   "metadata": {},
   "outputs": [],
   "source": [
    "# use our function to pull in raw data\n",
    "repo_df = acquire.get_github_data(cached = True)"
   ]
  },
  {
   "cell_type": "code",
   "execution_count": 3,
   "metadata": {},
   "outputs": [
    {
     "name": "stdout",
     "output_type": "stream",
     "text": [
      "This dataframe has 120 rows and 3 columns.\n",
      "----------------------------------\n",
      "\n",
      "<class 'pandas.core.frame.DataFrame'>\n",
      "Int64Index: 120 entries, 0 to 119\n",
      "Data columns (total 3 columns):\n",
      " #   Column           Non-Null Count  Dtype \n",
      "---  ------           --------------  ----- \n",
      " 0   repo             120 non-null    object\n",
      " 1   language         120 non-null    object\n",
      " 2   readme_contents  119 non-null    object\n",
      "dtypes: object(3)\n",
      "memory usage: 3.8+ KB\n",
      "None\n",
      "----------------------------------\n",
      "\n",
      "Unique value counts of each column\n",
      "\n",
      "repo               120\n",
      "language             4\n",
      "readme_contents    119\n",
      "dtype: int64\n",
      "----------------------------------\n",
      "\n",
      "Stats on Numeric Columns\n",
      "\n",
      "                             repo    language  \\\n",
      "count                         120         120   \n",
      "unique                        120           4   \n",
      "top     /aitemr/awesome-git-hooks  JavaScript   \n",
      "freq                            1          30   \n",
      "\n",
      "                                          readme_contents  \n",
      "count                                                 119  \n",
      "unique                                                119  \n",
      "top     # Awesome Home Assistant [![Awesome](https://a...  \n",
      "freq                                                    1  \n",
      "----------------------------------\n",
      "\n",
      "Target Value Counts\n",
      "JavaScript    30\n",
      "Python        30\n",
      "HTML          30\n",
      "Shell         30\n",
      "Name: language, dtype: int64\n"
     ]
    }
   ],
   "source": [
    "acquire.overview(repo_df)"
   ]
  },
  {
   "cell_type": "markdown",
   "metadata": {},
   "source": [
    "### Data Acquisition - Key Findings & Takeaways:\n",
    "- We are looking at 120 observations, evenly distributed across 4 programming languages\n",
    "- There appears to be 1 null value\n",
    "- There are also multiple files that are in foreign languages\n",
    "- For our first iteration, we are going to drop the null value, and foreign language repos"
   ]
  },
  {
   "cell_type": "markdown",
   "metadata": {},
   "source": [
    "## Data Preparation"
   ]
  },
  {
   "cell_type": "code",
   "execution_count": 4,
   "metadata": {},
   "outputs": [
    {
     "name": "stdout",
     "output_type": "stream",
     "text": [
      "This dataframe has 102 rows and 6 columns.\n",
      "----------------------------------\n",
      "\n",
      "<class 'pandas.core.frame.DataFrame'>\n",
      "Int64Index: 102 entries, 0 to 119\n",
      "Data columns (total 6 columns):\n",
      " #   Column                      Non-Null Count  Dtype \n",
      "---  ------                      --------------  ----- \n",
      " 0   repo                        102 non-null    object\n",
      " 1   language                    102 non-null    object\n",
      " 2   readme_contents             102 non-null    object\n",
      " 3   cleaned_readme_contents     102 non-null    object\n",
      " 4   stemmed_readme_contents     102 non-null    object\n",
      " 5   lemmatized_readme_contents  102 non-null    object\n",
      "dtypes: object(6)\n",
      "memory usage: 5.6+ KB\n",
      "None\n",
      "----------------------------------\n",
      "\n",
      "Unique value counts of each column\n",
      "\n",
      "repo                          102\n",
      "language                        4\n",
      "readme_contents               102\n",
      "cleaned_readme_contents       102\n",
      "stemmed_readme_contents       102\n",
      "lemmatized_readme_contents    102\n",
      "dtype: int64\n",
      "----------------------------------\n",
      "\n",
      "Stats on Numeric Columns\n",
      "\n",
      "                             repo language  \\\n",
      "count                         102      102   \n",
      "unique                        102        4   \n",
      "top     /aitemr/awesome-git-hooks    Shell   \n",
      "freq                            1       29   \n",
      "\n",
      "                                          readme_contents  \\\n",
      "count                                                 102   \n",
      "unique                                                102   \n",
      "top     # Awesome Home Assistant [![Awesome](https://a...   \n",
      "freq                                                    1   \n",
      "\n",
      "                                  cleaned_readme_contents  \\\n",
      "count                                                 102   \n",
      "unique                                                102   \n",
      "top     anomaly detection learning resources image htt...   \n",
      "freq                                                    1   \n",
      "\n",
      "                                  stemmed_readme_contents  \\\n",
      "count                                                 102   \n",
      "unique                                                102   \n",
      "top     awesomeconsoleservic curat list awesom consol ...   \n",
      "freq                                                    1   \n",
      "\n",
      "                               lemmatized_readme_contents  \n",
      "count                                                 102  \n",
      "unique                                                102  \n",
      "top     cheatsheet begin_html end_html blog httpscheat...  \n",
      "freq                                                    1  \n",
      "----------------------------------\n",
      "\n",
      "Target Value Counts\n",
      "Shell         29\n",
      "Python        27\n",
      "JavaScript    24\n",
      "HTML          22\n",
      "Name: language, dtype: int64\n"
     ]
    }
   ],
   "source": [
    "# perform our inital data prep and look at key stats\n",
    "df = prepare.prep_article_data(repo_df, 'readme_contents', tokenizer=prepare.tokenize)\n",
    "acquire.overview(df)"
   ]
  },
  {
   "cell_type": "code",
   "execution_count": 5,
   "metadata": {},
   "outputs": [
    {
     "data": {
      "image/png": "[encoded data removed]",
      "text/plain": [
       "<Figure size 432x288 with 1 Axes>"
      ]
     },
     "metadata": {
      "needs_background": "light"
     },
     "output_type": "display_data"
    }
   ],
   "source": [
    "# visualize distribution of target variable\n",
    "\n",
    "df.language.value_counts().plot.barh()\n",
    "plt.title('Distribution of Programming Languages')\n",
    "plt.xlabel(\"Count\")\n",
    "plt.show()"
   ]
  },
  {
   "cell_type": "code",
   "execution_count": 6,
   "metadata": {},
   "outputs": [],
   "source": [
    "# split our data prior to exploration, stratifying on target variable 'language'\n",
    "train, validate, test = prepare.train_validate_test_split(df, 'language')"
   ]
  },
  {
   "cell_type": "code",
   "execution_count": 7,
   "metadata": {},
   "outputs": [
    {
     "name": "stdout",
     "output_type": "stream",
     "text": [
      "This dataframe has 56 rows and 6 columns.\n",
      "----------------------------------\n",
      "\n",
      "<class 'pandas.core.frame.DataFrame'>\n",
      "Int64Index: 56 entries, 86 to 3\n",
      "Data columns (total 6 columns):\n",
      " #   Column                      Non-Null Count  Dtype \n",
      "---  ------                      --------------  ----- \n",
      " 0   repo                        56 non-null     object\n",
      " 1   language                    56 non-null     object\n",
      " 2   readme_contents             56 non-null     object\n",
      " 3   cleaned_readme_contents     56 non-null     object\n",
      " 4   stemmed_readme_contents     56 non-null     object\n",
      " 5   lemmatized_readme_contents  56 non-null     object\n",
      "dtypes: object(6)\n",
      "memory usage: 3.1+ KB\n",
      "None\n",
      "----------------------------------\n",
      "\n",
      "Unique value counts of each column\n",
      "\n",
      "repo                          56\n",
      "language                       4\n",
      "readme_contents               56\n",
      "cleaned_readme_contents       56\n",
      "stemmed_readme_contents       56\n",
      "lemmatized_readme_contents    56\n",
      "dtype: int64\n",
      "----------------------------------\n",
      "\n",
      "Stats on Numeric Columns\n",
      "\n",
      "                               repo language  \\\n",
      "count                            56       56   \n",
      "unique                           56        4   \n",
      "top     /theNewDynamic/awesome-hugo    Shell   \n",
      "freq                              1       16   \n",
      "\n",
      "                                          readme_contents  \\\n",
      "count                                                  56   \n",
      "unique                                                 56   \n",
      "top     # Awesome Dropwizard [![Awesome](https://cdn.r...   \n",
      "freq                                                    1   \n",
      "\n",
      "                                  cleaned_readme_contents  \\\n",
      "count                                                  56   \n",
      "unique                                                 56   \n",
      "top     awesomezshplugins status collection zsh framew...   \n",
      "freq                                                    1   \n",
      "\n",
      "                                  stemmed_readme_contents  \\\n",
      "count                                                  56   \n",
      "unique                                                 56   \n",
      "top     awesomeconsoleservic curat list awesom consol ...   \n",
      "freq                                                    1   \n",
      "\n",
      "                               lemmatized_readme_contents  \n",
      "count                                                  56  \n",
      "unique                                                 56  \n",
      "top     mind expanding book check latest project diffb...  \n",
      "freq                                                    1  \n",
      "----------------------------------\n",
      "\n",
      "Target Value Counts\n",
      "Shell         16\n",
      "Python        15\n",
      "JavaScript    13\n",
      "HTML          12\n",
      "Name: language, dtype: int64\n"
     ]
    }
   ],
   "source": [
    "# what does our training set look like?\n",
    "acquire.overview(train)"
   ]
  },
  {
   "cell_type": "code",
   "execution_count": 8,
   "metadata": {},
   "outputs": [
    {
     "data": {
      "text/html": [
       "<div>\n",
       "<style scoped>\n",
       "    .dataframe tbody tr th:only-of-type {\n",
       "        vertical-align: middle;\n",
       "    }\n",
       "\n",
       "    .dataframe tbody tr th {\n",
       "        vertical-align: top;\n",
       "    }\n",
       "\n",
       "    .dataframe thead th {\n",
       "        text-align: right;\n",
       "    }\n",
       "</style>\n",
       "<table border=\"1\" class=\"dataframe\">\n",
       "  <thead>\n",
       "    <tr style=\"text-align: right;\">\n",
       "      <th></th>\n",
       "      <th>repo</th>\n",
       "      <th>language</th>\n",
       "      <th>readme_contents</th>\n",
       "      <th>cleaned_readme_contents</th>\n",
       "      <th>stemmed_readme_contents</th>\n",
       "      <th>lemmatized_readme_contents</th>\n",
       "    </tr>\n",
       "  </thead>\n",
       "  <tbody>\n",
       "    <tr>\n",
       "      <th>0</th>\n",
       "      <td>/awesome-selfhosted/awesome-selfhosted</td>\n",
       "      <td>JavaScript</td>\n",
       "      <td># Awesome-Selfhosted\\n\\n[![Awesome](https://cd...</td>\n",
       "      <td>awesomeselfhosted selfhosting practice locally...</td>\n",
       "      <td>awesomeselfhost selfhost practic local host ma...</td>\n",
       "      <td>awesomeselfhosted selfhosting practice locally...</td>\n",
       "    </tr>\n",
       "    <tr>\n",
       "      <th>2</th>\n",
       "      <td>/goabstract/Awesome-Design-Tools</td>\n",
       "      <td>JavaScript</td>\n",
       "      <td>&lt;div class=\"hidden-in-page\"&gt;\\n\\n# Awesome Desi...</td>\n",
       "      <td>awesome design tools awesome design pluginshtt...</td>\n",
       "      <td>awesom design tool awesom design pluginshttpsg...</td>\n",
       "      <td>awesome design tool awesome design pluginshttp...</td>\n",
       "    </tr>\n",
       "    <tr>\n",
       "      <th>3</th>\n",
       "      <td>/viatsko/awesome-vscode</td>\n",
       "      <td>JavaScript</td>\n",
       "      <td>\\n&lt;br/&gt;\\n&lt;div align=\"center\"&gt;\\n  &lt;img width=\"3...</td>\n",
       "      <td>curated list delightful visual studio codehttp...</td>\n",
       "      <td>curat list delight visual studio codehttpscode...</td>\n",
       "      <td>curated list delightful visual studio codehttp...</td>\n",
       "    </tr>\n",
       "    <tr>\n",
       "      <th>5</th>\n",
       "      <td>/davidsonfellipe/awesome-wpo</td>\n",
       "      <td>JavaScript</td>\n",
       "      <td># Awesome WPO [![Awesome](https://cdn.rawgit.c...</td>\n",
       "      <td>awesome wpo curated list web performance optim...</td>\n",
       "      <td>awesom wpo curat list web perform optim everyo...</td>\n",
       "      <td>awesome wpo curated list web performance optim...</td>\n",
       "    </tr>\n",
       "    <tr>\n",
       "      <th>6</th>\n",
       "      <td>/shekhargulati/52-technologies-in-2016</td>\n",
       "      <td>JavaScript</td>\n",
       "      <td>\\n52 technologies in 2016 [![GitHub Stats](htt...</td>\n",
       "      <td>52 technologies 2016 taken challenge learn new...</td>\n",
       "      <td>52 technolog 2016 taken challeng learn new tec...</td>\n",
       "      <td>52 technology 2016 taken challenge learn new t...</td>\n",
       "    </tr>\n",
       "    <tr>\n",
       "      <th>...</th>\n",
       "      <td>...</td>\n",
       "      <td>...</td>\n",
       "      <td>...</td>\n",
       "      <td>...</td>\n",
       "      <td>...</td>\n",
       "      <td>...</td>\n",
       "    </tr>\n",
       "    <tr>\n",
       "      <th>115</th>\n",
       "      <td>/buren/awesome-sweden</td>\n",
       "      <td>Shell</td>\n",
       "      <td># Sweden [![awesome](https://awesome.re/badge-...</td>\n",
       "      <td>sweden list curated list awesome things use co...</td>\n",
       "      <td>sweden list curat list awesom thing use code s...</td>\n",
       "      <td>sweden list curated list awesome thing use cod...</td>\n",
       "    </tr>\n",
       "    <tr>\n",
       "      <th>116</th>\n",
       "      <td>/jeffreytse/jekyll-deploy-action</td>\n",
       "      <td>Shell</td>\n",
       "      <td>&lt;div align=\"center\"&gt;\\n  &lt;br&gt;\\n\\n  &lt;a href=\"htt...</td>\n",
       "      <td>github action deploy jekyll site conveniently ...</td>\n",
       "      <td>github action deploy jekyl site conveni github...</td>\n",
       "      <td>github action deploy jekyll site conveniently ...</td>\n",
       "    </tr>\n",
       "    <tr>\n",
       "      <th>117</th>\n",
       "      <td>/tajmone/awesome-interactive-fiction</td>\n",
       "      <td>Shell</td>\n",
       "      <td>= Awesome Interactive Fiction link:https://awe...</td>\n",
       "      <td>awesome interactive fiction linkhttpsawesomere...</td>\n",
       "      <td>awesom interact fiction linkhttpsawesomereimag...</td>\n",
       "      <td>awesome interactive fiction linkhttpsawesomere...</td>\n",
       "    </tr>\n",
       "    <tr>\n",
       "      <th>118</th>\n",
       "      <td>/stve/awesome-dropwizard</td>\n",
       "      <td>Shell</td>\n",
       "      <td># Awesome Dropwizard [![Awesome](https://cdn.r...</td>\n",
       "      <td>awesome dropwizard useful resources creating a...</td>\n",
       "      <td>awesom dropwizard use resourc creat app dropwi...</td>\n",
       "      <td>awesome dropwizard useful resource creating ap...</td>\n",
       "    </tr>\n",
       "    <tr>\n",
       "      <th>119</th>\n",
       "      <td>/opensourcecities/montreal</td>\n",
       "      <td>Shell</td>\n",
       "      <td># Open Source Montréal\\n\\n[![Join the chat at ...</td>\n",
       "      <td>open source montreal directory companies peopl...</td>\n",
       "      <td>open sourc montreal directori compani peopl pr...</td>\n",
       "      <td>open source montreal directory company people ...</td>\n",
       "    </tr>\n",
       "  </tbody>\n",
       "</table>\n",
       "<p>102 rows × 6 columns</p>\n",
       "</div>"
      ],
      "text/plain": [
       "                                       repo    language  \\\n",
       "0    /awesome-selfhosted/awesome-selfhosted  JavaScript   \n",
       "2          /goabstract/Awesome-Design-Tools  JavaScript   \n",
       "3                   /viatsko/awesome-vscode  JavaScript   \n",
       "5              /davidsonfellipe/awesome-wpo  JavaScript   \n",
       "6    /shekhargulati/52-technologies-in-2016  JavaScript   \n",
       "..                                      ...         ...   \n",
       "115                   /buren/awesome-sweden       Shell   \n",
       "116        /jeffreytse/jekyll-deploy-action       Shell   \n",
       "117    /tajmone/awesome-interactive-fiction       Shell   \n",
       "118                /stve/awesome-dropwizard       Shell   \n",
       "119              /opensourcecities/montreal       Shell   \n",
       "\n",
       "                                       readme_contents  \\\n",
       "0    # Awesome-Selfhosted\\n\\n[![Awesome](https://cd...   \n",
       "2    <div class=\"hidden-in-page\">\\n\\n# Awesome Desi...   \n",
       "3    \\n<br/>\\n<div align=\"center\">\\n  <img width=\"3...   \n",
       "5    # Awesome WPO [![Awesome](https://cdn.rawgit.c...   \n",
       "6    \\n52 technologies in 2016 [![GitHub Stats](htt...   \n",
       "..                                                 ...   \n",
       "115  # Sweden [![awesome](https://awesome.re/badge-...   \n",
       "116  <div align=\"center\">\\n  <br>\\n\\n  <a href=\"htt...   \n",
       "117  = Awesome Interactive Fiction link:https://awe...   \n",
       "118  # Awesome Dropwizard [![Awesome](https://cdn.r...   \n",
       "119  # Open Source Montréal\\n\\n[![Join the chat at ...   \n",
       "\n",
       "                               cleaned_readme_contents  \\\n",
       "0    awesomeselfhosted selfhosting practice locally...   \n",
       "2    awesome design tools awesome design pluginshtt...   \n",
       "3    curated list delightful visual studio codehttp...   \n",
       "5    awesome wpo curated list web performance optim...   \n",
       "6    52 technologies 2016 taken challenge learn new...   \n",
       "..                                                 ...   \n",
       "115  sweden list curated list awesome things use co...   \n",
       "116  github action deploy jekyll site conveniently ...   \n",
       "117  awesome interactive fiction linkhttpsawesomere...   \n",
       "118  awesome dropwizard useful resources creating a...   \n",
       "119  open source montreal directory companies peopl...   \n",
       "\n",
       "                               stemmed_readme_contents  \\\n",
       "0    awesomeselfhost selfhost practic local host ma...   \n",
       "2    awesom design tool awesom design pluginshttpsg...   \n",
       "3    curat list delight visual studio codehttpscode...   \n",
       "5    awesom wpo curat list web perform optim everyo...   \n",
       "6    52 technolog 2016 taken challeng learn new tec...   \n",
       "..                                                 ...   \n",
       "115  sweden list curat list awesom thing use code s...   \n",
       "116  github action deploy jekyl site conveni github...   \n",
       "117  awesom interact fiction linkhttpsawesomereimag...   \n",
       "118  awesom dropwizard use resourc creat app dropwi...   \n",
       "119  open sourc montreal directori compani peopl pr...   \n",
       "\n",
       "                            lemmatized_readme_contents  \n",
       "0    awesomeselfhosted selfhosting practice locally...  \n",
       "2    awesome design tool awesome design pluginshttp...  \n",
       "3    curated list delightful visual studio codehttp...  \n",
       "5    awesome wpo curated list web performance optim...  \n",
       "6    52 technology 2016 taken challenge learn new t...  \n",
       "..                                                 ...  \n",
       "115  sweden list curated list awesome thing use cod...  \n",
       "116  github action deploy jekyll site conveniently ...  \n",
       "117  awesome interactive fiction linkhttpsawesomere...  \n",
       "118  awesome dropwizard useful resource creating ap...  \n",
       "119  open source montreal directory company people ...  \n",
       "\n",
       "[102 rows x 6 columns]"
      ]
     },
     "execution_count": 8,
     "metadata": {},
     "output_type": "execute_result"
    }
   ],
   "source": [
    "df"
   ]
  },
  {
   "cell_type": "code",
   "execution_count": null,
   "metadata": {},
   "outputs": [],
   "source": []
  },
  {
   "cell_type": "code",
   "execution_count": null,
   "metadata": {},
   "outputs": [],
   "source": []
  },
  {
   "cell_type": "code",
   "execution_count": null,
   "metadata": {},
   "outputs": [],
   "source": []
  },
  {
   "cell_type": "code",
   "execution_count": null,
   "metadata": {},
   "outputs": [],
   "source": []
  },
  {
   "cell_type": "code",
   "execution_count": null,
   "metadata": {},
   "outputs": [],
   "source": []
  },
  {
   "cell_type": "markdown",
   "metadata": {},
   "source": [
    "### Data Preparation - Key Findings & Takeaways:"
   ]
  },
  {
   "cell_type": "markdown",
   "metadata": {},
   "source": [
    "## Data Exploration"
   ]
  },
  {
   "cell_type": "code",
   "execution_count": 9,
   "metadata": {},
   "outputs": [],
   "source": [
    "list1 = train['readme_contents']\n",
    "str1 = ''.join(list1)"
   ]
  },
  {
   "cell_type": "code",
   "execution_count": 10,
   "metadata": {},
   "outputs": [
    {
     "data": {
      "image/png": "[encoded data removed]",
      "text/plain": [
       "<Figure size 1440x288 with 2 Axes>"
      ]
     },
     "metadata": {
      "needs_background": "light"
     },
     "output_type": "display_data"
    }
   ],
   "source": [
    "explore.word_count_word_cloud(str1)"
   ]
  },
  {
   "cell_type": "code",
   "execution_count": null,
   "metadata": {},
   "outputs": [],
   "source": []
  },
  {
   "cell_type": "code",
   "execution_count": null,
   "metadata": {},
   "outputs": [],
   "source": []
  },
  {
   "cell_type": "code",
   "execution_count": null,
   "metadata": {},
   "outputs": [],
   "source": []
  },
  {
   "cell_type": "code",
   "execution_count": null,
   "metadata": {},
   "outputs": [],
   "source": []
  },
  {
   "cell_type": "code",
   "execution_count": null,
   "metadata": {},
   "outputs": [],
   "source": []
  },
  {
   "cell_type": "markdown",
   "metadata": {},
   "source": [
    "### Data Exploration - Key Findings & Takeaways:"
   ]
  },
  {
   "cell_type": "markdown",
   "metadata": {},
   "source": [
    "## Model Building"
   ]
  },
  {
   "cell_type": "code",
   "execution_count": null,
   "metadata": {},
   "outputs": [],
   "source": []
  },
  {
   "cell_type": "markdown",
   "metadata": {},
   "source": [
    "### Model Building - Key Findings & Takeaways:"
   ]
  },
  {
   "cell_type": "markdown",
   "metadata": {},
   "source": [
    "## Model Evaluation"
   ]
  },
  {
   "cell_type": "code",
   "execution_count": null,
   "metadata": {},
   "outputs": [],
   "source": []
  },
  {
   "cell_type": "markdown",
   "metadata": {},
   "source": [
    "### Model Evaluation - Key Findings & Takeaways:"
   ]
  },
  {
   "cell_type": "markdown",
   "metadata": {},
   "source": [
    "## Final Conclusions & Next Steps"
   ]
  },
  {
   "cell_type": "code",
   "execution_count": null,
   "metadata": {},
   "outputs": [],
   "source": []
  }
 ],
 "metadata": {
  "kernelspec": {
   "display_name": "Python 3.8.5 64-bit ('base': conda)",
   "language": "python",
   "name": "python385jvsc74a57bd0b64057e63add2b45b1ffc7eab9b09c8889b419c878e2fdf0d08f837f0fc857a7"
  },
  "language_info": {
   "codemirror_mode": {
    "name": "ipython",
    "version": 3
   },
   "file_extension": ".py",
   "mimetype": "text/x-python",
   "name": "python",
   "nbconvert_exporter": "python",
   "pygments_lexer": "ipython3",
   "version": "3.8.5"
  }
 },
 "nbformat": 4,
 "nbformat_minor": 4
}
