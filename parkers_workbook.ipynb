{
 "cells": [
  {
   "cell_type": "code",
   "execution_count": 1,
   "metadata": {},
   "outputs": [],
   "source": [
    "from requests import get\n",
    "from bs4 import BeautifulSoup\n",
    "import os\n",
    "import re\n",
    "import acquire, prepare\n",
    "import pandas as pd\n",
    "import nltk"
   ]
  },
  {
   "cell_type": "code",
   "execution_count": 2,
   "metadata": {},
   "outputs": [],
   "source": [
    "#url = 'https://github.com/topics/awesome'\n",
    "#headers = {'User-Agent': 'Codeup Data Science'} # Some websites don't accept the pyhon-requests default user-agent\n",
    "#response = get(url, headers=headers)"
   ]
  },
  {
   "cell_type": "code",
   "execution_count": 3,
   "metadata": {},
   "outputs": [],
   "source": [
    "#soup = BeautifulSoup(response.text, 'html.parser')"
   ]
  },
  {
   "cell_type": "code",
   "execution_count": 4,
   "metadata": {},
   "outputs": [],
   "source": [
    "#repo = soup.find_all('h3', class_='f3 color-text-secondary text-normal lh-condensed')"
   ]
  },
  {
   "cell_type": "code",
   "execution_count": 5,
   "metadata": {
    "tags": []
   },
   "outputs": [],
   "source": [
    "#repo"
   ]
  },
  {
   "cell_type": "code",
   "execution_count": 6,
   "metadata": {},
   "outputs": [],
   "source": [
    "#repo = soup.find_all('a', class_='text-bold')"
   ]
  },
  {
   "cell_type": "code",
   "execution_count": 7,
   "metadata": {
    "tags": []
   },
   "outputs": [],
   "source": [
    "#[i['href'] for i in repo]"
   ]
  },
  {
   "cell_type": "code",
   "execution_count": 8,
   "metadata": {},
   "outputs": [],
   "source": [
    "#url = 'https://github.com/topics/awesome?l=javascript'\n",
    "#headers = {'User-Agent': 'Codeup Data Science'} # Some websites don't accept the pyhon-requests default user-agent\n",
    "#response = get(url, headers=headers)"
   ]
  },
  {
   "cell_type": "code",
   "execution_count": 9,
   "metadata": {},
   "outputs": [],
   "source": [
    "#soup = BeautifulSoup(response.text, 'html.parser')"
   ]
  },
  {
   "cell_type": "code",
   "execution_count": 10,
   "metadata": {},
   "outputs": [],
   "source": [
    "#repo = soup.find_all('a', class_ = 'text-bold')"
   ]
  },
  {
   "cell_type": "code",
   "execution_count": 11,
   "metadata": {},
   "outputs": [],
   "source": [
    "#js = [i['href'] for i in repo]"
   ]
  },
  {
   "cell_type": "code",
   "execution_count": 12,
   "metadata": {
    "tags": []
   },
   "outputs": [],
   "source": [
    "#js"
   ]
  },
  {
   "cell_type": "code",
   "execution_count": 13,
   "metadata": {},
   "outputs": [],
   "source": [
    "#url = 'https://github.com/topics/awesome?l=python'\n",
    "#headers = {'User-Agent': 'Codeup Data Science'} # Some websites don't accept the pyhon-requests default user-agent\n",
    "#response = get(url, headers=headers)"
   ]
  },
  {
   "cell_type": "code",
   "execution_count": 14,
   "metadata": {},
   "outputs": [],
   "source": [
    "#soup = BeautifulSoup(response.text, 'html.parser')\n",
    "#repo = soup.find_all('a', class_ = 'text-bold')"
   ]
  },
  {
   "cell_type": "code",
   "execution_count": 15,
   "metadata": {},
   "outputs": [],
   "source": [
    "#py = [i['href'] for i in repo]"
   ]
  },
  {
   "cell_type": "code",
   "execution_count": 16,
   "metadata": {
    "tags": []
   },
   "outputs": [],
   "source": [
    "#py"
   ]
  },
  {
   "cell_type": "code",
   "execution_count": 17,
   "metadata": {},
   "outputs": [],
   "source": [
    "#url = 'https://github.com/topics/awesome?l=html'\n",
    "#headers = {'User-Agent': 'Codeup Data Science'} # Some websites don't accept the pyhon-requests default user-agent\n",
    "#response = get(url, headers=headers)"
   ]
  },
  {
   "cell_type": "code",
   "execution_count": 18,
   "metadata": {},
   "outputs": [],
   "source": [
    "#soup = BeautifulSoup(response.text, 'html.parser')\n",
    "#repo = soup.find_all('a', class_ = 'text-bold')"
   ]
  },
  {
   "cell_type": "code",
   "execution_count": 19,
   "metadata": {},
   "outputs": [],
   "source": [
    "#html = [i['href'] for i in repo]"
   ]
  },
  {
   "cell_type": "code",
   "execution_count": 20,
   "metadata": {
    "tags": []
   },
   "outputs": [],
   "source": [
    "#html"
   ]
  },
  {
   "cell_type": "code",
   "execution_count": 21,
   "metadata": {},
   "outputs": [],
   "source": [
    "#url = 'https://github.com/topics/awesome?l=shell'\n",
    "#headers = {'User-Agent': 'Codeup Data Science'} # Some websites don't accept the pyhon-requests default user-agent\n",
    "#response = get(url, headers=headers)"
   ]
  },
  {
   "cell_type": "code",
   "execution_count": 22,
   "metadata": {},
   "outputs": [],
   "source": [
    "#soup = BeautifulSoup(response.text, 'html.parser')\n",
    "#repo = soup.find_all('a', class_ = 'text-bold')"
   ]
  },
  {
   "cell_type": "code",
   "execution_count": 23,
   "metadata": {},
   "outputs": [],
   "source": [
    "#shell = [i['href'] for i in repo]"
   ]
  },
  {
   "cell_type": "code",
   "execution_count": 24,
   "metadata": {},
   "outputs": [],
   "source": [
    "#shell"
   ]
  },
  {
   "cell_type": "code",
   "execution_count": 25,
   "metadata": {},
   "outputs": [],
   "source": [
    "#repos = [js + py + html + shell]"
   ]
  },
  {
   "cell_type": "code",
   "execution_count": 26,
   "metadata": {},
   "outputs": [],
   "source": [
    "#repos = repos[0]"
   ]
  },
  {
   "cell_type": "code",
   "execution_count": 27,
   "metadata": {
    "tags": []
   },
   "outputs": [],
   "source": [
    "#repos"
   ]
  },
  {
   "cell_type": "code",
   "execution_count": 28,
   "metadata": {},
   "outputs": [],
   "source": [
    "#pd.DataFrame(acquire.scrape_github_data())"
   ]
  },
  {
   "cell_type": "code",
   "execution_count": 29,
   "metadata": {},
   "outputs": [],
   "source": [
    "repo_df = acquire.get_github_data(cached = True)"
   ]
  },
  {
   "cell_type": "code",
   "execution_count": 30,
   "metadata": {},
   "outputs": [
    {
     "data": {
      "text/html": [
       "<div>\n",
       "<style scoped>\n",
       "    .dataframe tbody tr th:only-of-type {\n",
       "        vertical-align: middle;\n",
       "    }\n",
       "\n",
       "    .dataframe tbody tr th {\n",
       "        vertical-align: top;\n",
       "    }\n",
       "\n",
       "    .dataframe thead th {\n",
       "        text-align: right;\n",
       "    }\n",
       "</style>\n",
       "<table border=\"1\" class=\"dataframe\">\n",
       "  <thead>\n",
       "    <tr style=\"text-align: right;\">\n",
       "      <th></th>\n",
       "      <th>repo</th>\n",
       "      <th>language</th>\n",
       "      <th>readme_contents</th>\n",
       "    </tr>\n",
       "  </thead>\n",
       "  <tbody>\n",
       "    <tr>\n",
       "      <th>0</th>\n",
       "      <td>/awesome-selfhosted/awesome-selfhosted</td>\n",
       "      <td>JavaScript</td>\n",
       "      <td># Awesome-Selfhosted\\n\\n[![Awesome](https://cd...</td>\n",
       "    </tr>\n",
       "    <tr>\n",
       "      <th>1</th>\n",
       "      <td>/jaywcjlove/awesome-mac</td>\n",
       "      <td>JavaScript</td>\n",
       "      <td>Awesome Mac\\n----\\n&lt;!--rehype:style=font-size:...</td>\n",
       "    </tr>\n",
       "    <tr>\n",
       "      <th>2</th>\n",
       "      <td>/goabstract/Awesome-Design-Tools</td>\n",
       "      <td>JavaScript</td>\n",
       "      <td>&lt;div class=\"hidden-in-page\"&gt;\\n\\n# Awesome Desi...</td>\n",
       "    </tr>\n",
       "    <tr>\n",
       "      <th>3</th>\n",
       "      <td>/viatsko/awesome-vscode</td>\n",
       "      <td>JavaScript</td>\n",
       "      <td>\\n&lt;br/&gt;\\n&lt;div align=\"center\"&gt;\\n  &lt;img width=\"3...</td>\n",
       "    </tr>\n",
       "    <tr>\n",
       "      <th>4</th>\n",
       "      <td>/ascoders/weekly</td>\n",
       "      <td>JavaScript</td>\n",
       "      <td># 前端精读\\n\\n&lt;a href=\"https://travis-ci.org/ascod...</td>\n",
       "    </tr>\n",
       "    <tr>\n",
       "      <th>...</th>\n",
       "      <td>...</td>\n",
       "      <td>...</td>\n",
       "      <td>...</td>\n",
       "    </tr>\n",
       "    <tr>\n",
       "      <th>115</th>\n",
       "      <td>/buren/awesome-sweden</td>\n",
       "      <td>Shell</td>\n",
       "      <td># Sweden [![awesome](https://awesome.re/badge-...</td>\n",
       "    </tr>\n",
       "    <tr>\n",
       "      <th>116</th>\n",
       "      <td>/jeffreytse/jekyll-deploy-action</td>\n",
       "      <td>Shell</td>\n",
       "      <td>&lt;div align=\"center\"&gt;\\n  &lt;br&gt;\\n\\n  &lt;a href=\"htt...</td>\n",
       "    </tr>\n",
       "    <tr>\n",
       "      <th>117</th>\n",
       "      <td>/tajmone/awesome-interactive-fiction</td>\n",
       "      <td>Shell</td>\n",
       "      <td>= Awesome Interactive Fiction link:https://awe...</td>\n",
       "    </tr>\n",
       "    <tr>\n",
       "      <th>118</th>\n",
       "      <td>/stve/awesome-dropwizard</td>\n",
       "      <td>Shell</td>\n",
       "      <td># Awesome Dropwizard [![Awesome](https://cdn.r...</td>\n",
       "    </tr>\n",
       "    <tr>\n",
       "      <th>119</th>\n",
       "      <td>/opensourcecities/montreal</td>\n",
       "      <td>Shell</td>\n",
       "      <td># Open Source Montréal\\n\\n[![Join the chat at ...</td>\n",
       "    </tr>\n",
       "  </tbody>\n",
       "</table>\n",
       "<p>120 rows × 3 columns</p>\n",
       "</div>"
      ],
      "text/plain": [
       "                                       repo    language  \\\n",
       "0    /awesome-selfhosted/awesome-selfhosted  JavaScript   \n",
       "1                   /jaywcjlove/awesome-mac  JavaScript   \n",
       "2          /goabstract/Awesome-Design-Tools  JavaScript   \n",
       "3                   /viatsko/awesome-vscode  JavaScript   \n",
       "4                          /ascoders/weekly  JavaScript   \n",
       "..                                      ...         ...   \n",
       "115                   /buren/awesome-sweden       Shell   \n",
       "116        /jeffreytse/jekyll-deploy-action       Shell   \n",
       "117    /tajmone/awesome-interactive-fiction       Shell   \n",
       "118                /stve/awesome-dropwizard       Shell   \n",
       "119              /opensourcecities/montreal       Shell   \n",
       "\n",
       "                                       readme_contents  \n",
       "0    # Awesome-Selfhosted\\n\\n[![Awesome](https://cd...  \n",
       "1    Awesome Mac\\n----\\n<!--rehype:style=font-size:...  \n",
       "2    <div class=\"hidden-in-page\">\\n\\n# Awesome Desi...  \n",
       "3    \\n<br/>\\n<div align=\"center\">\\n  <img width=\"3...  \n",
       "4    # 前端精读\\n\\n<a href=\"https://travis-ci.org/ascod...  \n",
       "..                                                 ...  \n",
       "115  # Sweden [![awesome](https://awesome.re/badge-...  \n",
       "116  <div align=\"center\">\\n  <br>\\n\\n  <a href=\"htt...  \n",
       "117  = Awesome Interactive Fiction link:https://awe...  \n",
       "118  # Awesome Dropwizard [![Awesome](https://cdn.r...  \n",
       "119  # Open Source Montréal\\n\\n[![Join the chat at ...  \n",
       "\n",
       "[120 rows x 3 columns]"
      ]
     },
     "execution_count": 30,
     "metadata": {},
     "output_type": "execute_result"
    }
   ],
   "source": [
    "repo_df"
   ]
  },
  {
   "cell_type": "code",
   "execution_count": 31,
   "metadata": {},
   "outputs": [],
   "source": [
    "from markdown import markdown"
   ]
  },
  {
   "cell_type": "code",
   "execution_count": 32,
   "metadata": {},
   "outputs": [
    {
     "data": {
      "text/html": [
       "<div>\n",
       "<style scoped>\n",
       "    .dataframe tbody tr th:only-of-type {\n",
       "        vertical-align: middle;\n",
       "    }\n",
       "\n",
       "    .dataframe tbody tr th {\n",
       "        vertical-align: top;\n",
       "    }\n",
       "\n",
       "    .dataframe thead th {\n",
       "        text-align: right;\n",
       "    }\n",
       "</style>\n",
       "<table border=\"1\" class=\"dataframe\">\n",
       "  <thead>\n",
       "    <tr style=\"text-align: right;\">\n",
       "      <th></th>\n",
       "      <th>repo</th>\n",
       "      <th>language</th>\n",
       "      <th>readme_contents</th>\n",
       "    </tr>\n",
       "  </thead>\n",
       "  <tbody>\n",
       "    <tr>\n",
       "      <th>0</th>\n",
       "      <td>/awesome-selfhosted/awesome-selfhosted</td>\n",
       "      <td>JavaScript</td>\n",
       "      <td># Awesome-Selfhosted\\n\\n[![Awesome](https://cd...</td>\n",
       "    </tr>\n",
       "    <tr>\n",
       "      <th>1</th>\n",
       "      <td>/jaywcjlove/awesome-mac</td>\n",
       "      <td>JavaScript</td>\n",
       "      <td>Awesome Mac\\n----\\n&lt;!--rehype:style=font-size:...</td>\n",
       "    </tr>\n",
       "    <tr>\n",
       "      <th>2</th>\n",
       "      <td>/goabstract/Awesome-Design-Tools</td>\n",
       "      <td>JavaScript</td>\n",
       "      <td>&lt;div class=\"hidden-in-page\"&gt;\\n\\n# Awesome Desi...</td>\n",
       "    </tr>\n",
       "    <tr>\n",
       "      <th>3</th>\n",
       "      <td>/viatsko/awesome-vscode</td>\n",
       "      <td>JavaScript</td>\n",
       "      <td>\\n&lt;br/&gt;\\n&lt;div align=\"center\"&gt;\\n  &lt;img width=\"3...</td>\n",
       "    </tr>\n",
       "    <tr>\n",
       "      <th>4</th>\n",
       "      <td>/ascoders/weekly</td>\n",
       "      <td>JavaScript</td>\n",
       "      <td># 前端精读\\n\\n&lt;a href=\"https://travis-ci.org/ascod...</td>\n",
       "    </tr>\n",
       "    <tr>\n",
       "      <th>...</th>\n",
       "      <td>...</td>\n",
       "      <td>...</td>\n",
       "      <td>...</td>\n",
       "    </tr>\n",
       "    <tr>\n",
       "      <th>115</th>\n",
       "      <td>/buren/awesome-sweden</td>\n",
       "      <td>Shell</td>\n",
       "      <td># Sweden [![awesome](https://awesome.re/badge-...</td>\n",
       "    </tr>\n",
       "    <tr>\n",
       "      <th>116</th>\n",
       "      <td>/jeffreytse/jekyll-deploy-action</td>\n",
       "      <td>Shell</td>\n",
       "      <td>&lt;div align=\"center\"&gt;\\n  &lt;br&gt;\\n\\n  &lt;a href=\"htt...</td>\n",
       "    </tr>\n",
       "    <tr>\n",
       "      <th>117</th>\n",
       "      <td>/tajmone/awesome-interactive-fiction</td>\n",
       "      <td>Shell</td>\n",
       "      <td>= Awesome Interactive Fiction link:https://awe...</td>\n",
       "    </tr>\n",
       "    <tr>\n",
       "      <th>118</th>\n",
       "      <td>/stve/awesome-dropwizard</td>\n",
       "      <td>Shell</td>\n",
       "      <td># Awesome Dropwizard [![Awesome](https://cdn.r...</td>\n",
       "    </tr>\n",
       "    <tr>\n",
       "      <th>119</th>\n",
       "      <td>/opensourcecities/montreal</td>\n",
       "      <td>Shell</td>\n",
       "      <td># Open Source Montréal\\n\\n[![Join the chat at ...</td>\n",
       "    </tr>\n",
       "  </tbody>\n",
       "</table>\n",
       "<p>120 rows × 3 columns</p>\n",
       "</div>"
      ],
      "text/plain": [
       "                                       repo    language  \\\n",
       "0    /awesome-selfhosted/awesome-selfhosted  JavaScript   \n",
       "1                   /jaywcjlove/awesome-mac  JavaScript   \n",
       "2          /goabstract/Awesome-Design-Tools  JavaScript   \n",
       "3                   /viatsko/awesome-vscode  JavaScript   \n",
       "4                          /ascoders/weekly  JavaScript   \n",
       "..                                      ...         ...   \n",
       "115                   /buren/awesome-sweden       Shell   \n",
       "116        /jeffreytse/jekyll-deploy-action       Shell   \n",
       "117    /tajmone/awesome-interactive-fiction       Shell   \n",
       "118                /stve/awesome-dropwizard       Shell   \n",
       "119              /opensourcecities/montreal       Shell   \n",
       "\n",
       "                                       readme_contents  \n",
       "0    # Awesome-Selfhosted\\n\\n[![Awesome](https://cd...  \n",
       "1    Awesome Mac\\n----\\n<!--rehype:style=font-size:...  \n",
       "2    <div class=\"hidden-in-page\">\\n\\n# Awesome Desi...  \n",
       "3    \\n<br/>\\n<div align=\"center\">\\n  <img width=\"3...  \n",
       "4    # 前端精读\\n\\n<a href=\"https://travis-ci.org/ascod...  \n",
       "..                                                 ...  \n",
       "115  # Sweden [![awesome](https://awesome.re/badge-...  \n",
       "116  <div align=\"center\">\\n  <br>\\n\\n  <a href=\"htt...  \n",
       "117  = Awesome Interactive Fiction link:https://awe...  \n",
       "118  # Awesome Dropwizard [![Awesome](https://cdn.r...  \n",
       "119  # Open Source Montréal\\n\\n[![Join the chat at ...  \n",
       "\n",
       "[120 rows x 3 columns]"
      ]
     },
     "execution_count": 32,
     "metadata": {},
     "output_type": "execute_result"
    }
   ],
   "source": [
    "repo_df"
   ]
  },
  {
   "cell_type": "code",
   "execution_count": 33,
   "metadata": {},
   "outputs": [],
   "source": [
    "repo_df = repo_df.drop(labels=[1,4,12,18,19,28,31,44,54,67,68,72,74,79,81,87,95], axis=0)"
   ]
  },
  {
   "cell_type": "code",
   "execution_count": 34,
   "metadata": {},
   "outputs": [
    {
     "name": "stdout",
     "output_type": "stream",
     "text": [
      "                     repo language  \\\n",
      "42  /rossant/awesome-math   Python   \n",
      "\n",
      "                                      readme_contents  \n",
      "42  # Awesome Math [![Awesome](https://cdn.rawgit....  \n"
     ]
    }
   ],
   "source": [
    "print(repo_df.iloc[35:36])"
   ]
  },
  {
   "cell_type": "code",
   "execution_count": 35,
   "metadata": {},
   "outputs": [],
   "source": [
    "repo_df = repo_df.dropna()"
   ]
  },
  {
   "cell_type": "code",
   "execution_count": 36,
   "metadata": {},
   "outputs": [
    {
     "data": {
      "text/plain": [
       "(102, 3)"
      ]
     },
     "execution_count": 36,
     "metadata": {},
     "output_type": "execute_result"
    }
   ],
   "source": [
    "repo_df.shape"
   ]
  },
  {
   "cell_type": "code",
   "execution_count": 37,
   "metadata": {},
   "outputs": [],
   "source": [
    "repo_clean = prepare.prep_article_data(repo_df, 'readme_contents')"
   ]
  },
  {
   "cell_type": "code",
   "execution_count": 62,
   "metadata": {
    "collapsed": true,
    "jupyter": {
     "outputs_hidden": true
    },
    "tags": []
   },
   "outputs": [
    {
     "data": {
      "text/plain": [
       "'# Awesome Math [![Awesome](https://cdn.rawgit.com/sindresorhus/awesome/d7305f38d29fed78fa85652e3a63e154dd8e8829/media/badge.svg)](https://github.com/sindresorhus/awesome)\\n\\nA curated list of awesome mathematics resources.\\n\\n# Contents\\n\\n<!-- START_TOC -->\\n\\n* [Contents](#contents)\\n* [General Resources](#general-resources)\\n    * [Learning Platforms](#learning-platforms)\\n    * [Learn to Learn](#learn-to-learn)\\n    * [Youtube Series](#youtube-series)\\n    * [Tools](#tools)\\n    * [Questions and Answers](#questions-and-answers)\\n    * [Encyclopedia](#encyclopedia)\\n    * [Books](#books)\\n    * [Blogs](#blogs)\\n    * [Misc](#misc)\\n* [Lecture Notes](#lecture-notes)\\n    * [Foundations of Mathematics](#foundations-of-mathematics)\\n        * [Transition To Pure Rigour Math](#transition-to-pure-rigour-math)\\n        * [Set Theory](#set-theory)\\n        * [Logic](#logic)\\n        * [Category Theory](#category-theory)\\n        * [Type Theory](#type-theory)\\n        * [Homotopy Type Theory](#homotopy-type-theory)\\n        * [Surreal Numbers](#surreal-numbers)\\n    * [Number Theory](#number-theory)\\n        * [Algebraic Number Theory](#algebraic-number-theory)\\n        * [Analytic Number Theory](#analytic-number-theory)\\n    * [Algebra](#algebra)\\n        * [Abstract Algebra](#abstract-algebra)\\n        * [Group Theory](#group-theory)\\n        * [Linear Algebra](#linear-algebra)\\n        * [Ring Theory](#ring-theory)\\n        * [Galois Theory](#galois-theory)\\n        * [Lie Algebras](#lie-algebras)\\n    * [Combinatorics](#combinatorics)\\n        * [Graph Theory](#graph-theory)\\n    * [Geometry and Topology](#geometry-and-topology)\\n        * [Differential Geometry](#differential-geometry)\\n        * [Algebraic Geometry](#algebraic-geometry)\\n        * [Topology](#topology)\\n        * [Algebraic Topology](#algebraic-topology)\\n    * [Analysis](#analysis)\\n        * [Real Analysis](#real-analysis)\\n        * [Harmonic Analysis](#harmonic-analysis)\\n        * [Complex Analysis](#complex-analysis)\\n        * [Functional Analysis](#functional-analysis)\\n        * [Measure Theory](#measure-theory)\\n        * [Ordinary Differential Equations](#ordinary-differential-equations)\\n        * [Partial Differential Equations](#partial-differential-equations)\\n    * [Probability and Statistics](#probability-and-statistics)\\n        * [Probability Theory](#probability-theory)\\n        * [Statistics](#statistics)\\n        * [Statistical Learning](#statistical-learning)\\n        * [Stochastic processes](#stochastic-processes)\\n    * [Numerical Analysis](#numerical-analysis)\\n    * [Signal processing](#signal-processing)\\n    * [Mathematics for Computer Science](#mathematics-for-computer-science)\\n    * [Mathematical Biology](#mathematical-biology)\\n    * [Mathematical Physics](#mathematical-physics)\\n* [Students Lecture Notes](#students-lecture-notes)\\n* [License](#license)\\n\\n<!-- END_TOC -->\\n\\n# General Resources\\n\\n## Learning Platforms\\n\\n* [Khan Academy](https://www.khanacademy.org/math)\\n* [Coursera](https://www.coursera.org/courses?query=mathematics&languages=en)\\n* [MIT OpenCourseWare](http://ocw.mit.edu/courses/mathematics/)\\n* [edX](https://www.edx.org/course/subject/math)\\n* [Brilliant](https://brilliant.org/courses/#math-foundational)\\n* [WooTube](https://misterwootube.com/)\\n* [Mathigon](https://mathigon.org/)\\n* [Calculus.org](http://calculus.org/)\\n\\n## Learn to Learn\\n\\n* [Understanding Mathematics](https://github.com/nelson-brochado/understanding-math)\\n\\n## Youtube Series\\n\\n* [Brandon Foltz](https://www.youtube.com/user/BCFoltz/playlists?view=1&sort=da&flow=grid)\\n* [3blue1brown](https://www.youtube.com/channel/UCYO_jab_esuFRV4b17AJtAw/playlists)\\n* [NPTEL](https://www.youtube.com/watch?v=VVYLpmKRfQ8&list=PL6C92B335BD4238AB)\\n* [Prof. Leonard](https://www.youtube.com/watch?v=9FtHB7V14Fo&list=PL5102DFDC6790F3D0)\\n* [Crash Course](https://www.youtube.com/watch?v=zouPoc49xbk&list=PL8dPuuaLjXtNM_Y-bUAhblSAdWRnmBUcr)\\n* [Harvard](https://www.youtube.com/watch?v=KbB0FjPg0mw&list=PL2SOU6wwxB0uwwH80KTQ6ht66KWxbzTIo)\\n* [MIT](https://www.youtube.com/watch?v=VPZD_aij8H0&list=PLUl4u3cNGP60uVBMaoNERc6knT_MgPKS0)\\n\\n## Tools\\n\\n* [Symbolab](https://www.symbolab.com/)\\n* [Desmos](https://www.desmos.com/calculator)\\n* [Math Words](http://www.mathwords.com/)\\n* [Wolfram Alpha](http://www.wolframalpha.com/)\\n* [Maxima](https://maxima.sourceforge.io/)\\n* [Sympy](https://www.sympy.org/)\\n* [Sagemath](http://www.sagemath.org/)\\n* [Unit Converter](https://unitconverter.net)\\n* [GeoGebra](https://www.geogebra.org/?lang=en)\\n* [Macaulay2](http://www2.macaulay2.com/Macaulay2/)\\n* [Singular](https://www.singular.uni-kl.de/)\\n* [GNU Octave](https://www.gnu.org/software/octave/)\\n* [Magma](http://magma.maths.usyd.edu.au/magma/)\\n* [Maple](https://www.maplesoft.com/products/Maple/)\\n* [Matlab](https://www.mathworks.com/products/matlab.html)\\n* [Wolfram Mathematica](https://www.wolfram.com/mathematica/)\\n* [Free Math](https://freemathapp.org)\\n\\n## Questions and Answers\\n\\n* [Mathematics Stack Exchange](http://math.stackexchange.com/)\\n* [MathOverflow](http://mathoverflow.net/) - for professional mathematicians\\n\\n## Encyclopedia\\n\\n* [Encyclopedia of Mathematics](https://www.encyclopediaofmath.org)\\n* [Planetmath](http://planetmath.org/)\\n* [ProofWiki](https://proofwiki.org/wiki/Main_Page)\\n* [Wolfram Mathworld](http://mathworld.wolfram.com/)\\n\\n## Books\\n\\n* [Calculus: Basic Concepts for High Schools](https://archive.org/details/TarasovCalculus) - L.V. Tarasov\\n* [Basics of Algebra, Topology, and Differential Calculus](http://www.cis.upenn.edu/~jean/math-basics.pdf) - Jean Gallier (University of Pennsylvania)\\n* [Multivariable Calculus](http://people.math.gatech.edu/%7Ecain/notes/calculus.html) - G. Cain, J. Herod (Georgia Tech)\\n* [Wikibooks](https://en.wikibooks.org/wiki/Wikibooks:Mathematics_bookshelf)\\n* [Online Mathematics Textbooks](https://people.math.gatech.edu/~cain/textbooks/onlinebooks.html)\\n* [Beginning and Intermediate Algebra](http://www.wallace.ccfaculty.org/book/Beginning_and_Intermediate_Algebra.pdf)\\n* [Free Mathematics Books](https://github.com/EbookFoundation/free-programming-books/blob/master/free-programming-books.md#mathematics)\\n* [Trigonometry](http://www.mecmath.net/trig/trigbook.pdf)\\n\\n## Blogs\\n\\n* [BetterExplained](https://betterexplained.com/) - Maintained by Kalid Azad\\n* [ILoveMaths](http://ilovemaths.com/) - For grades 6 thru 12 in K-12 system\\n* [3blue1brown](https://www.3blue1brown.com/) - Animated Maths\\n* [Mathsisfun](https://www.mathsisfun.com) simple text light weight site for students upto highschool\\n* [MathematicsIsAScience](https://calculus123.com/wiki/Peter_Saveliev) - Peter Saveliev (Professor of mathematics at Marshall University, Huntington WV, USA)\\n\\n## Misc\\n* [Areas of mathematics on Wikipedia](https://en.wikipedia.org/wiki/Areas_of_mathematics)\\n* [Paul\\'s Online Math Notes](http://tutorial.math.lamar.edu/) - Paul Dawkins (Lamar University)\\n* [List of electronic textbooks](http://faculty.atu.edu/mfinan/nnotes.html) - Marcel B. Finan (Arkansas Tech University)\\n* [Topology Atlas](http://at.yorku.ca/topology/)\\n* [Recreations in Math](http://djm.cc/library/Recreations_in_Mathematics_Licks_edited.pdf) - H. E. Licks (1917)\\n* [Magic Squares and Cubes](http://djm.cc/library/Magic_Squares_Cubes_Andrews_edited.pdf) - W. S. Andrews (1917)\\n* [Convex Optimization](https://web.stanford.edu/~boyd/cvxbook/) - Stephen Boyd and Lieven Vandenberghe\\n\\n# Lecture Notes\\n\\n## Foundations of Mathematics\\n### Transition To Pure Rigour Math\\n* [Basic Concepts of Mathematics](http://www.trillia.com/zakon1.html) - Elias Zakon\\n* [Book of Proof](https://www.people.vcu.edu/~rhammack/BookOfProof/) - Richard Hammak (Virginia Commonwealth University)\\n\\n### Set Theory\\n\\n* [Sets, Relations, Functions](http://www.cosc.brocku.ca/~duentsch/papers/methprimer1.html) - Ivo Düntsch, Günther Gediga\\n* [An Introduction to Set Theory](http://www.math.toronto.edu/weiss/set_theory.pdf) - William A. R. Weiss\\n* [Set Theory and Foundations of Mathematics](http://www.settheory.net/) - Sylvain Poirier\\n* [Set Theory on the Stanford Encyclopedia of Philosophy](http://plato.stanford.edu/entries/set-theory/)\\n\\n### Logic\\n\\n* [Introduction to Logic](https://pdfs.semanticscholar.org/6967/f52773d9c2ccfc94658657a5761e0f00e95a.pdf) - Michael Genesereth, Eric Kao (Stanford University)\\n* [An Introduction to Formal Logic](https://www.fecundity.com/codex/forallx.pdf) - P.D. Magnus (University at Albany)\\n* [A Problem Course in Mathematical Logic](http://euclid.trentu.ca/math/sb/pcml/pcml-16.pdf) - Stefan Bilaniuk (Trent University)\\n* [Language, Proof, and Logic](http://homepages.uc.edu/~martinj/Symbolic_Logic/341%20Syllabus,%20Textbook,%20Handouts,%20Notes/LPL%20textbook.pdf) - Jon Barwise, John Etchemendy\\n* [Mathematical Logic](http://www.mathematik.uni-muenchen.de/~schwicht/lectures/logic/ws03/ml.pdf) - Helmut Schwichtenberg\\n* [Mathematical Logic](http://www.personal.psu.edu/t20/notes/logic.pdf) - Stephen G. Simpson (Pennsylvania State University)\\n* [Formal Logic](http://maude.sip.ucm.es/~miguelpt/papers/flogic.pdf) - Miguel Palomino\\n* [Predictive Arithmetic](https://web.math.princeton.edu/~nelson/books/pa.pdf) - Edward Nelson\\n* [Proofs and Concepts: the fundamentals of abstract mathematics](http://people.uleth.ca/~dave.morris/books/proofs+concepts.html) - Joy Morris, Dave Morris\\n* [Mathematical Reasoning: Writing and Proof](https://www.tedsundstrom.com/mathreasoning) - Ted Sundstrom\\n* [Logic and Proof](http://leanprover.github.io/logic_and_proof/) -  Jeremy Avigad, Robert Y. Lewis, and Floris van Doorn\\n* [QED - an interactive textbook](https://teorth.github.io/QED) - Terence Tao\\n* [Open Logic Textbook](http://builds.openlogicproject.org/) - collaborative effort, main contributors listed [here](https://openlogicproject.org/people/)\\n\\n### Category Theory\\n\\n* [Introduction to Category Theory and Categorical Logic](http://www.mathematik.tu-darmstadt.de/~streicher/CTCL.pdf) - Thomas Streicher\\n* [An Introduction to Category Theory](http://www.cs.man.ac.uk/~hsimmons/zCATS.pdf) - Harold Simmons\\n* [Category Theory](http://citeseerx.ist.psu.edu/viewdoc/download?doi=10.1.1.211.4754&rep=rep1&type=pdf) - Steve Awodey (Carnegie Mellon University)\\n* [Category Theory](http://www.mathematik.uni-muenchen.de/~pareigis/Vorlesungen/04SS/Cats1.pdf) - B. Pareigis\\n* [Category Theory for Computing Science](https://web.archive.org/web/20181221233252/http://www.math.mcgill.ca/triples/Barr-Wells-ctcs.pdf) - Michael Barr, Charles Wells\\n* [Toposes, Triples and Theories](http://www.tac.mta.ca/tac/reprints/articles/12/tr12.pdf) - Michael Barr, Charles Wells\\n* [Abelian Categories](http://www.tac.mta.ca/tac/reprints/articles/3/tr3abs.html) - Peter Freyd\\n* [Categories and Groupoids](http://www.tac.mta.ca/tac/reprints/articles/7/tr7abs.html) - P. J. Higgins\\n* [Basic Concepts of Enriched Category Theory](http://www.tac.mta.ca/tac/reprints/articles/10/tr10abs.html) - G. M. Kelley\\n* [Abstract and Concrete Categories: The Joy of Cats](http://www.tac.mta.ca/tac/reprints/articles/17/tr17abs.html) - Jiri Adamek, Horst Herrlich, George Strecker\\n* [Seven Sketches in Compositionality: An Invitation to Applied Category Theory](http://math.mit.edu/~dspivak/teaching/sp18/7Sketches.pdf) - Brendan Fong and David I. Spivak (MIT)\\n* [Category Theory in Context](http://www.math.jhu.edu/~eriehl/context/) - Emily Riehl (John Hopkins University)  \\n\\n### Type Theory\\n* [Proofs and Types](http://www.paultaylor.eu/stable/prot.pdf) - Jean-Yves Girard\\n* [Intuitionistic Type Theory](https://archive-pml.github.io/martin-lof/pdfs/Bibliopolis-Book-retypeset-1984.pdf) - Per Martin-Lof\\n* [Type Theory and Functional Programming](https://www.cs.kent.ac.uk/people/staff/sjt/TTFP/) - Simon Thompson\\n* [Programming in Martin-Lof’s Type Theory](http://www.cse.chalmers.se/research/group/logic/book/book.pdf) - Bengt Nordstrom, Kent Petersson, Jan M. Smith\\n\\n### Homotopy Type Theory\\n\\n* [Homotopy Type Theory](https://hottheory.files.wordpress.com/2013/03/hott-online-611-ga1a258c.pdf)\\n\\n### Surreal Numbers\\n\\n* [Surreal Numbers - How two ex-students turned on to pure mathematics and found total happiness](http://www.math.harvard.edu/~knill/teaching/mathe320_2015_fall/blog15/surreal1.pdf) - D. E. Knuth\\n* [An Introduction to Surreal Numbers](https://www.whitman.edu/Documents/Academics/Mathematics/Grimm.pdf) - Gretchen Grimm\\n* [Surreal Numbers and Games](http://web.mit.edu/sp.268/www/2010/surreal.pdf)\\n* [Conway names, the simplicity hierarchy and the surreal number tree](http://www.ohio.edu/people/ehrlich/ConwayNames.pdf) - Philip Ehrlich\\n\\n\\n## Number Theory\\n\\n* [Elementary Number Theory: Primes, Congruences, and Secrets](http://wstein.org/ent/ent.pdf) - William Stein\\n* [Elementary Number Theory](http://math.utoledo.edu/~codenth/Spring_13/3200/ENT-books/Elementary_Number_Theory-Clark.pdf) - W. Edwin Clark (University of South Florida)\\n* [A Course on Number Theory](http://www.maths.qmul.ac.uk/~pjc/notes/nt.pdf) - Peter J. Cameron\\n* [A Computational Introduction to Number Theory and Algebra](http://shoup.net/ntb/ntb-v2.pdf) - Victor Shoup\\n* [Number Theory: A Contemporary Introduction](http://alpha.math.uga.edu/~pete/4400FULL.pdf) - Pete L. Clark\\n* [An Introduction to the Theory of Numbers](http://www.trillia.com/moser-number.html) - Leo Moser\\n* [Yet Another Introductary Number Theory Textbook](https://www.poritz.net/jonathan/share/yaintt/) - Jonathan A. Poritz\\n* [Elementary Number Theory](https://napocaro.files.wordpress.com/2015/02/david_m-_burton_elementary_number_theory_sixth_bookfi-org.pdf) - David M. Burton\\n\\n### Algebraic Number Theory\\n\\n* [Introduction to Algebraic Number Theory](http://www1.spms.ntu.edu.sg/~frederique/ANT10.pdf)\\n* [Introduction to Algebraic Number Theory](http://www1.spms.ntu.edu.sg/~frederique/ANT10.pdf) - F. Oggier\\n* [Algebraic Number Theory](http://www.jmilne.org/math/CourseNotes/ANT.pdf) - J.S. Milne\\n* [Algebraic Number Theory Course Notes](http://people.math.gatech.edu/~mbaker/pdf/ANTBook.pdf) - Matthew Baker (Georgia Tech)\\n* [A Course In Algebraic Number Theory](http://www.math.uiuc.edu/~r-ash/ANT.html) - Robert Ash\\n\\n### Analytic Number Theory\\n\\n* [Introduction to Analytic Number Theory](http://www.math.uiuc.edu/~hildebr/ant/main.pdf) - A.J. Hildebrand (University of Illinois)\\n* [Elements of Analytic Number Theory](http://math.nsc.ru/~vdovin/lectures/numth_eng.pdf) - P. S. Kolesnikov, E. P. Vdovin (Novosibirsk)\\n* [Analytic Number Theory](http://www.mathematik.uni-muenchen.de/~forster/v/ann/annth_all.pdf) - Otto Forster (LMU Munich)\\n* [Analytic Number Theory - Lecture Notes based on Davenport’s book](http://www2.math.uu.se/~astrombe/analtalt08/www_notes.pdf) - Andreas Strömbergsson\\n\\n\\n## Algebra\\n\\n* [A Course in Universal Algebra](http://www.math.uwaterloo.ca/~snburris/htdocs/ualg.html) - S. Burris, H.P. Sankappanavar\\n* [A Course in Commutative Algebra](https://faculty.math.illinois.edu/~r-ash/ComAlg.html) - Robert Ash\\n* [First Course in Algebra](http://djm.cc/library/First_Algebra_Hawkes_Luby_Touton_edited.pdf) - Herbert E. Hawkes, William A. Luby, Frank C. Touton (1910)\\n* [Second Course in Algebra](http://djm.cc/library/Second_Algebra_Hawkes_Luby_Touton_edited.pdf) - Herbert E. Hawkes, William A. Luby, Frank C. Touton (1911)\\n* [Algebra: An Elementary Text-Book, Part I](http://djm.cc/library/Algebra_Elementary_Text-Book_Part_I_Chrystal_edited.pdf) - G. Chrystal (1904)\\n* [Algebra: An Elementary Text-Book, Part II](http://djm.cc/library/Algebra_Elementary_Text-Book_Part_II_Chrystal_edited02.pdf) - G. Chrystal (1900)\\n* [Understanding Algebra](https://jamesbrennan.org/algebra) - James W. Brennan\\n\\n### Abstract Algebra\\n\\n* [Introduction to Abstract Algebra](https://zodml.org/sites/default/files/Introduction_to_Abstract_Algebra_0.pdf) - D. S. Malik, John N. Mordeson, M.K. Sen (Creighton University)\\n* [Introduction to Modern Algebra](http://aleph0.clarku.edu/~djoyce/ma225/algebra.pdf) - David Joyce (Clark University)\\n* [Algebraic Methods](http://www1.spms.ntu.edu.sg/~frederique/AA11.pdf) - F. Oggier\\n* [Abstract Algebra : Theory and Applications](http://abstract.ups.edu/download/aata-20150812.pdf) - Thomas W. Judson, Robert A. Beezer (Austin State University)\\n* [An Undergraduate Course in Abstract Algebra](http://www.maths.usyd.edu.au/u/bobh/UoS/rfwhole.pdf) - Robert Howlett\\n* [Elements of Abstract and Linear Algebra](http://www.math.miami.edu/~ec/book) - E.H. Connell (University of Miami)\\n* [Abstract Algebra: The Basic Graduate Year](http://www.math.uiuc.edu/~r-ash/Algebra.html) - Robert Ash\\n* [Abstract Algebra: Harvard Extension (Archived)](https://web.archive.org/web/20150528171650/extension.harvard.edu/open-learning-initiative/abstract-algebra) - Benedict Gross\\n* [Abstract Algebra: Harvard Extension Videos](https://www.youtube.com/playlist?list=PLA58AC5CABC1321A3) - Benedict Gross\\n\\n### Group Theory\\n\\n* [Notes on Group Theory](https://www2.bc.edu/mark-reeder/Groups.pdf) - Mark Reeder\\n* [Group Theory](http://www.jmilne.org/math/CourseNotes/GT.pdf) - J.S. Milne\\n* [Notes on Finite Group Theory](http://www.maths.qmul.ac.uk/~pjc/notes/gt.pdf) - Peter J. Cameron\\n* [Group Theory](http://www.cns.gatech.edu/GroupTheory/index.html) - Pedrag Civitanovic\\n\\n### Linear Algebra\\n\\n* [Fundamentals of Linear Algebra](http://www.math.ubc.ca/~carrell/NB.pdf) - James B. Carrell\\n* [Linear Algebra and Matrices](https://web.archive.org/web/20140824074655/http://mathstat.helsinki.fi/~fluch/linear_algebra_1-sp07/la1.pdf) - Martin Fluch\\n* [Vector Space Theory](http://www.maths.usyd.edu.au/u/bobh/UoS/MATH2902/vswhole.pdf) - Robert Howlett\\n* [Linear Algebra](http://joshua.smcvt.edu/linearalgebra) - Jim Hefferon\\n* [Linear Algebra](http://www.calpoly.edu/~jborzell/Courses/Year%2010-11/Fall%202010/Petersen-Linear_Algebra-Math_306.pdf) - Peter Petersen\\n* [MIT OpenCourseWare Lectures on Linear Algebra (18.06) as Jupyter Notebooks](https://github.com/juanklopper/MIT_OCW_Linear_Algebra_18_06) - Juan Klopper\\n* [Linear Algebra](http://joshua.smcvt.edu/linalg.html) - Jim Hefferon\\n* [Elementary Linear Algebra](http://www.numbertheory.org/book/) - Keith Matthews\\n* [A First Courses in Linear Algebra](http://linear.ups.edu/) - Rob Breezer\\n* [Linear Algebra](https://www.math.ucdavis.edu/~linear/) - David Cherney, Tom Denton, Andrew Waldron\\n* [Introduction to vectors and tensors, Vol 1: linear and multilinear algebra](http://oaktrust.library.tamu.edu/handle/1969.1/2502) - Ray M Bowen, C. C. Wang\\n* [Introduction to vectors and tensors, Vol 2: vector and tensor analysis](http://oaktrust.library.tamu.edu/handle/1969.1/3609) - Ray M Bowen, C. C. Wang\\n* [Introduction to Applied Linear Algebra](https://web.stanford.edu/~boyd/vmls/vmls.pdf) - Stephen Boyd (Stanford University), Lieven Vandenberghe (UCLA)\\n* [Linear Algebra Done Wrong](https://www.math.brown.edu/~treil/papers/LADW/LADW_2017-09-04.pdf) - Sergei Treil\\n* [Immersive Linear Algebra](http://immersivemath.com/ila/index.html) - J. Ström, K. Åström, and T. Akenine-Möller\\n* [Interactive Linear Algebra](https://textbooks.math.gatech.edu/ila/) - Dan Margalit and Joseph Rabinoff\\n* [Linear Algebra, Infinite Dimensions, and Maple](https://people.math.gatech.edu/~herod/Hspace/Hspace.html) - James Herod\\n\\n### Ring Theory\\n\\n* [Foundations of Module and Ring Theory](http://www.math.uni-duesseldorf.de/~wisbauer/book.pdf) - Robert Wisbauer (University of Düsseldorf)\\n\\n### Galois Theory\\n\\n* [An Introduction to Galois Theory](http://www.maths.gla.ac.uk/~ajb/dvi-ps/Galois.pdf) - Andrew Baker (University of Glasgow)\\n* [Fields and Galois Theory](http://www.jmilne.org/math/CourseNotes/FT.pdf) - J.S. Milne\\n* [Galois theory](http://homepages.warwick.ac.uk/~masda/MA3D5/Galois.pdf) - Miles Reid\\n* [Galois Theory](https://math.illinoisstate.edu/schebol/teaching/407-14-files/Stewart-galois_theory.pdf) - Ian Stewart\\n\\n### Lie Algebras\\n\\n* [Lie Algebras](http://www.math.harvard.edu/~shlomo/docs/lie_algebras.pdf) - Shlomo Sternberg\\n\\n## Combinatorics\\n\\n* [Basic Combinatorics](http://www.math.utk.edu/~wagner/papers/comb.pdf) - Carl G. Wagner (University of Tennessee)\\n* [Applied Combinatorics](http://people.math.gatech.edu/~trotter/book.pdf) - Mitchel T. Keller, William T. Trotter\\n* [Notes on Combinatorics](http://www.maths.qmul.ac.uk/~pjc/notes/comb.pdf) - Peter J. Cameron\\n* [Analytic Combinatorics](http://algo.inria.fr/flajolet/Publications/book.pdf) - Philippe Flajolet, Robert Sedgewick\\n* [generatingfunctionology](http://www.math.upenn.edu/~wilf/DownldGF.html) - Herbert Wilf\\n\\n### Graph Theory\\n\\n* [Graph Theory: Lecture Notes](http://www.personal.psu.edu/cxg286/Math485.pdf) - Christopher Griffin\\n* [Graph Theory](http://www.cs.unibo.it/babaoglu/courses/cas00-01/tutorials/GraphTheory.pdf) - Reinhard Diestel\\n\\n\\n## Geometry and Topology\\n\\n* [Fundamentals of Geometry](http://polly.phys.msu.ru/~belyaev/geometry.pdf) - Oleg A. Belyaev\\n* [A=B](https://www.math.upenn.edu/~wilf/AeqB.html) - M. Petkovsek, H. Wilf, D. Zeilberger\\n* [Elements](http://aleph0.clarku.edu/~djoyce/java/elements/toc.html) - Euclid\\n* [Euclid\\'s Elements Redux](http://starrhorse.com/euclid/) - Daniel Callahan\\n* [Mathematical Illustrations](http://www.math.ubc.ca/~cass/graphics/manual/) - Bill Casselman\\n* [Byrne\\'s Euclid](https://www.c82.net/euclid/) - Oliver Byrne\\n* [Plane Geometry](http://djm.cc/library/Plane_Geometry_Wentworth_Smith_edited.pdf) - George Wentworth and David Eugene Smith (1913)\\n* [Planes and Spherical Trigonometry](http://djm.cc/library/Plane_Spherical_Trigonometry_Wentworth_Smith_edited_2.pdf) - George Wentworth and David Eugene Smith (1915)\\n* [Coordinate Geometry](http://djm.cc/library/Coordinate_Geometry_Fine_Thompson_edited03.pdf) - Henry Buchard Fine and Henry Dallas Thompson (1911)\\n* [Analytic Geometry](http://djm.cc/library/Analytic_Geometry_Siceloff_Wentworth_Smith_edited.pdf) - Lewis Parker Siceloff, George Wentworth, David Eugene Smith (1922)\\n\\n### Differential Geometry\\n\\n* [Introduction to Differential Geometry](https://people.math.ethz.ch/~salamon/PREPRINTS/diffgeo.pdf) - Joel W. Robbin, Dietmar A. Salamon\\n* [Notes on Differential Geometry and Lie Groups](http://www.seas.upenn.edu/~jean/diffgeom.pdf) - Jean Gallier (University of Pennsylvania)\\n* [Topics in Differential Geometry](http://www.mat.univie.ac.at/~michor/dgbook.pdf) - Peter W. Michor\\n* [Lectures on Differential Geometry](http://mysite.science.uottawa.ca/rossmann/Differential%20Geometry%20book_files/Diffgeo.pdf) - Wulf Rossmann\\n* [An Introduction to Riemannian Geometry](http://www.matematik.lu.se/matematiklu/personal/sigma/Riemann.pdf) - Sigmundur Gudmundsson (Lund University)\\n* [The Geometry and Topology of Three-Manifolds](http://msri.org/publications/books/gt3m/) - W. Thurston\\n* [Semi-Riemann Geometry and General Relativity](http://www.math.harvard.edu/~shlomo/docs/semi_riemannian_geometry.pdf) - Shlomo Sternberg\\n* [Discrete Differential Geometry](http://www.cs.cmu.edu/~kmcrane/Projects/DDG/paper.pdf) - Keenan Crane\\n\\n### Algebraic Geometry\\n\\n* [A Brief Introduction to Algebraic Geometry](http://www.sci.ccny.cuny.edu/~ksda/PostedPapers/rickksda1107.pdf) - R.C. Churchill\\n* [Introduction to Algebraic Geometry](http://www.math.lsa.umich.edu/~idolga/631.pdf) - Igor V. Dolgachev\\n* [Foundations of Algebraic Geometry](http://math.stanford.edu/~vakil/216blog/FOAGjun1113public.pdf) - Ravi Vakil\\n* [Algebraic Geometry](http://www.cis.upenn.edu/~jean/algeoms.pdf) - Jean Gallier, Stephen S. Shatz (University of Pennsylvania)\\n* [Algebraic Geometry](http://www.jmilne.org/math/CourseNotes/AG.pdf) - J.S. Milne\\n* [Algebraic Geometry](http://www.mathematik.uni-kl.de/~gathmann/class/alggeom-2002/main.pdf) - Andreas Gathmann (University of Kaiserslautern)\\n* [The Stacks Project](https://stacks.math.columbia.edu/) - Maintained by Aise Johan de Jong (Columbia)\\n\\n### Topology\\n\\n* [Elementary Applied Topology](https://www.math.upenn.edu/~ghrist/notes.html) - Robert Ghrist (UPenn)\\n* [Introduction to Topology](http://www.math.colostate.edu/~renzo/teaching/Topology10/Notes.pdf)\\n* [Introduction to Topology](http://www.math.bme.hu/~kalex/Teaching/Spring10/Topology/TopNotes_Spring10.pdf) - Alex Küronya\\n* [Introductory Topology](http://www.math.clemson.edu/~jimlb/Teaching/2009-10/Math986/Topology.pdf) - Jim L. Brown\\n* [General Topology](http://webusers.imj-prg.fr/~pierre.schapira/lectnotes/Topo.pdf) - Pierre Schapira (Paris VI University)\\n* [Elementary Topology Problem Textbook](http://www.pdmi.ras.ru/~olegviro/topoman/eng-book-nopfs.pdf)\\n* [General Topology](http://www.math.ku.dk/~moller/e03/3gt/notes/gtnotes.pdf) - Jesper M. Møller\\n* [Topology Topics](http://mathonline.wikidot.com/topology)\\n\\n### Algebraic Topology\\n\\n* [Algebraic Topology](http://www.math.cornell.edu/~hatcher/AT/AT.pdf) - Allen Hatcher\\n* [A Concise Course in Algebraic Topology](http://www.math.uchicago.edu/~may/CONCISE/ConciseRevised.pdf) - J. P. May\\n* [Introduction to Algebraic Topology](http://www.math.muni.cz/~cadek/at/at.pdf) - Martin Cadek\\n* [Algebra and Topology](http://webusers.imj-prg.fr/~pierre.schapira/lectnotes/AlTo.pdf) - Pierre Schapira (Paris VI University)\\n* [Lecture Notes in Algebraic Topology](http://www.indiana.edu/~jfdavis/teaching/m623/book.pdf) - James F. Davis, Paul Kirk (Indiana University)\\n* [Algebraic Topology](https://www.ma.utexas.edu/ibl1/courses/resources/12_15_07_grad_alg_top_mooremethod.pdf) - Michael Starbird\\n* [Lecture Notes on Algebraic Topology](http://www.math.nus.edu.sg/~matwujie/ma5209.pdf) - Jie Wu\\n\\n\\n## Analysis\\n\\n### Real Analysis\\n\\n* [MIT OpenCourseWare Lectures on Calculus](https://ocw.mit.edu/resources/res-18-001-calculus-online-textbook-spring-2005/textbook/) - G. Strang\\n* [Elementary Calculus: An Approach Using Infinitesimals](http://www.math.wisc.edu/~keisler/calc.html) - Professor H. Jerome Keisler\\n* [An Introduction to Real Analysis](https://www.math.ucdavis.edu/~hunter/intro_analysis_pdf/intro_analysis.pdf) - John K. Hunter (University of California at Davis)\\n* [Introduction to Real Analysis](http://ramanujan.math.trinity.edu/wtrench/texts/TRENCH_REAL_ANALYSIS.PDF) - William F. Trench (Trinity University, Texas)\\n* [Basic Analysis: Introduction to Real Analysis](http://www.jirka.org/ra/realanal.pdf) - Jiří Lebl\\n* [Elementary Real Analysis](http://prac.im.pwr.wroc.pl/~kwasnicki/pl/stuff/tbb-hyper.pdf) - Thomson, Bruckner\\n* [Lecture Notes in Real Analysis](http://ms.mcmaster.ca/~sawyer/Publications/Real_Analysis.pdf) - Eric T. Sawyer (McMaster University)\\n* [Real Analysis](http://math.harvard.edu/~ctm/papers/home/text/class/harvard/212a/course/course.pdf) - C. McMullen\\n* [Real Analysis for Graduate Students](http://bass.math.uconn.edu/3rd.pdf) - Richard F. Bass\\n* [Modern Real Analysis](http://www.math.purdue.edu/~torres/pubs/Modern-real-analysis.pdf) - William P. Ziemer (Indiana University)\\n* [Mathematical Analysis Vol I](http://www.trillia.com/zakon-analysisI.html) - Elias Zakon\\n* [Mathematical Analysis Vol II](http://www.trillia.com/zakon-analysisII.html) - Elias Zakon\\n* [Advanced Calculus](http://www.math.harvard.edu/~shlomo/docs/Advanced_Calculus.pdf) - Lynn Loomis, Schlomo Sternberg\\n* [ Analysis of Functions of a Single Variable](http://spot.colorado.edu/~baggett/analysis.html) - Lawerence Baggett\\n* [The Calculus of Functions of Several Variables](http://www.synechism.org/wp/the-calculus-of-functions-of-several-variables/) - Dan Sloughter\\n* [A ProblemText in Advanced Calculus](http://web.pdx.edu/~erdman/PTAC/problemtext_pdf.pdf) - John M. Erdman\\n* [Calculus and Linear Algebra. Vol. 1](http://hdl.handle.net/2027/spo.5597602.0001.001) - Wilfred Kaplan, Donald J. Lewis\\n* [Calculus and Linear Algebra. Vol. 2](https://quod.lib.umich.edu/s/spobooks/5597602.0002.001) - Wilfred Kaplan, Donald J. Lewis\\n* [Introduction to Calculus I and II](http://www.math.odu.edu/~jhh/counter10.html) - J.H. Heinbockel\\n* [Active Calculus](http://faculty.gvsu.edu/boelkinm/Home/Active_Calculus.html) - Matt Boelkins\\n* [Supplements to the Exercises in Chapters 1-7 of Walter Rudin\\'s \"Principles of Mathematical Analysis\"](https://math.berkeley.edu/~gbergman/ug.hndts/#Rudin) - George M. Bergman\\n* [Calculus Made Easy](http://calculusmadeeasy.org/) - Silvanus P. Thompson (1910)\\n* [Elements of Differential and Integral Calculus](http://djm.cc/library/Elements_Differential_Integral_Calculus_Granville_edited_2.pdf) - William Anthony Granville (1911)\\n* [Precalculus](https://stitz-zeager.com/szprecalculus07042013.pdf) - Carl Stitz, Jeff Zeager\\n\\n### Harmonic Analysis\\n\\n* [Harmonic Analysis Lecture Notes](http://www.math.uiuc.edu/~laugesen/545/545Lectures.pdf) - Richard S. Laugesen (University of Illinois at Urbana–Champaign)\\n* [Harmonic Analysis](http://www.math.uchicago.edu/~schlag/harmonicnotes.pdf) - W. Schlag\\n* [Lecture Notes: Fourier Transform and its Applications](https://see.stanford.edu/materials/lsoftaee261/book-fall-07.pdf) - Brad Osgood\\n* [Fourier Analysis](http://www.reed.edu/physics/courses/Physics331.f08/pdf/Fourier.pdf) - Lucas Illing\\n* [Mathematics of the Discrete Fourier Transform (DFT) with Audio Applications](https://ccrma.stanford.edu/~jos/mdft) - Julius O. Smith III (Stanford University)\\n\\n### Complex Analysis\\n\\n* [Introduction to Complex Analysis](https://mtaylor.web.unc.edu/wp-content/uploads/sites/16915/2018/04/complex.pdf) - Michael Taylor\\n* [An Introduction to Complex Analysis and Geometry](http://www.math.uiuc.edu/~jpda/jpd-complex-geometry-book-5-refs-bip.pdf) - John P. D\\'Angelo (University of Illinois)\\n* [A First Course in Complex Analysis](http://math.sfsu.edu/beck/papers/complex.pdf) - Matthias Beck, Gerald Marchesi, Dennis Pixton, Lucas Sabalka\\n* [A Guide to Complex Variables](http://www.math.wustl.edu/~sk/books/guide.pdf) - Steven G. Krantz\\n* [Complex Analysis](http://www.maths.manchester.ac.uk/~cwalkden/complex-analysis/complex_analysis.pdf) - Charles Walkden\\n* [Complex Analysis](http://www.math.ku.dk/noter/filer/koman-12.pdf) - Christian Berg\\n* [Complex Variables](http://people.math.sc.edu/girardi/m7034/book/AshComplexVariablesWithHyperlinks.pdf) - R. B. Ash, W.P. Novinger\\n* [Complex Analysis](http://www.maths.lth.se/matematiklu/personal/olofsson/CompHT06.pdf) - Christer Bennewitz\\n* [Complex Analysis](https://web.archive.org/web/20150620124453/https://www.math.washington.edu/~marshall/math_536/Notes.pdf) - Donald E. Marshall\\n* [A Concise Course in Complex Analysis and Riemann Surfaces](https://gauss.math.yale.edu/~ws442/complex.pdf) - Wilhelm Schlag\\n* [Complex Analysis](http://people.math.gatech.edu/%7Ecain/winter99/complex.html) - G. Cain (Georgia Tech)\\n* [Complex Analysis](https://complex-analysis.com/) - Juan Carlos Ponce Campuzano\\n\\n### Functional Analysis\\n\\n* [An Introduction to Functional Analysis](http://www.math.uwaterloo.ca/~lwmarcou/Preprints/LinearAnalysis.pdf) - Laurent W. Marcoux (University of Waterloo)\\n* [Functional Analysis: Lecture Notes](http://users.math.msu.edu/users/jeffrey/920/920notes.pdf) - Jeff Schenker (Michigan State University)\\n* [Functional Analysis Lecture Notes](http://www.math.hkbu.edu.hk/~zeng/Teaching/math3680/FAnotes.pdf) - T.B. Ward (University of East Anglia)\\n* [Functional Analysis](http://www.maths.lancs.ac.uk/~belton/www/notes/fa_notes.pdf) - Alexander C. R. Belton\\n* [Topics in Real and Functional Analysis](https://www.mat.univie.ac.at/~gerald/ftp/book-fa/fa.pdf) - Gerald Teschl\\n* [Functional Analysis](http://www2.math.ou.edu/~cremling/teaching/lecturenotes/fa-new/LN-I.pdf) - Christian Remling\\n* [Theory of Functions of a Real Variable](http://www.math.harvard.edu/~shlomo/docs/Real_Variables.pdf) - Shlomo Sternberg\\n* [Functional Analysis](http://spot.colorado.edu/~baggett/functional.html) - Lawerence Baggett\\n\\n### Measure Theory\\n\\n* [An Introduction to Measure Theory](https://terrytao.files.wordpress.com/2011/01/measure-book1.pdf) - Terence Tao (UCLA)\\n* [Lecture Notes on Measure Theory and Functional Analysis](http://www.mat.uniroma2.it/~cannarsa/cam_0607.pdf) - P. Cannarsa, T. D’Aprile\\n* [Lecture Notes in Measure Theory](http://www.math.chalmers.se/~borell/MeasureTheory.pdf) - Christer Borell\\n* [A Crash Course on the Lebesgue Integral and Measure Theory](http://www.gold-saucer.org/math/lebesgue/lebesgue.pdf) - Steve Cheng\\n* [Measure Theory](https://www.math.ucdavis.edu/~hunter/measure_theory/measure_notes.pdf) - John K. Hunter (University of California at Davis)\\n* [Measure and Integration](https://people.math.ethz.ch/~salamon/PREPRINTS/measure.pdf) - Dietmar A. Salamon (ETH Zürich)\\n* [Lecture notes: Measure Theory](http://www.math.ucsd.edu/~bdriver/240-00-01/Lecture_Notes/measurep.pdf) - Bruce K. Driver\\n\\n### Ordinary Differential Equations\\n\\n* [Difference Equations To Differential Equations](http://www.synechism.org/wp/difference-equations-to-differential-equations/) - Dan Sloughter\\n* [Ordinary Differential Equation](https://www.math.uni-bielefeld.de/~grigor/odelec2008.pdf) - Alexander Grigorian (University of Bielefeld)\\n* [Ordinary Differential Equations: Lecture Notes](http://www.cs.bgu.ac.il/~leonid/ode_bio_files/Ionascu_LectNotes.pdf) - Eugen J. Ionascu\\n* [Ordinary Differential Equations](http://www.math.lmu.de/~philip/publications/lectureNotes/ODE.pdf) - Peter Philip\\n* [Ordinary Differential Equations](http://users.math.msu.edu/users/gnagy/teaching/ode.pdf) - Gabriel Nagy\\n* [Ordinary Differential Equations and Dynamical Systems](http://www.mat.univie.ac.at/~gerald/ftp/book-ode/ode.pdf) - Gerald Teschl\\n* [Notes on Differential Equations](http://leipper.org/manuals/zip-fill/dn-difeq-notes.pdf) - Bob Terrell\\n* [Elementary Differential Equations](http://digitalcommons.trinity.edu/mono/8/) - William F. Trench\\n* [Elementary Differential Equations With Boundary Value Problems](http://digitalcommons.trinity.edu/mono/9/) - William F. Trench\\n* [Notes on Diffy Qs: Differential Equations for Engineers](http://www.jirka.org/diffyqs/) - Jiří Lebl\\n* [Differential Equations](http://djm.cc/library/Differential_Equations_Phillips_edited.pdf) - H. B. Phillips (1922)\\n\\n### Partial Differential Equations\\n\\n* [Notes on Partial Differential Equations](https://www.math.ucdavis.edu/~hunter/pdes/pde_notes.pdf) - John K. Hunter (University of California at Davis)\\n* [Partial Differential Equations: Lecture Notes](http://www.math.uni-leipzig.de/~miersemann/pdebook.pdf) - Erich Miersemann (Leipzig University)\\n* [Linear Methods of Applied Mathematics](http://www.mathphysics.com/pde/) - E. Harrell, J. Herod (Georgia Tech)\\n\\n\\n## Probability and Statistics\\n\\n### Probability Theory\\n\\n* [Introduction to Probability](https://www.dartmouth.edu/~chance/teaching_aids/books_articles/probability_book/amsbook.mac.pdf) - Charles M. Grinstead, J. Laurie Snell\\n* [Introduction to Probability](http://vfu.bg/en/e-Learning/Math--Bertsekas_Tsitsiklis_Introduction_to_probability.pdf) - Dimitri P. Bertsekas, John N. Tsitsiklis (MIT)\\n* [A Short Introduction to Probability](http://www.maths.uq.edu.au/~kroese/asitp.pdf) - Dirk P. Kroese (University of Queensland)\\n* [Probability: Theory and Examples](https://www.math.duke.edu/~rtd/PTE/PTE4_1.pdf) - Rick Durrett\\n* [Probability and Statistics Cookbook](https://github.com/mavam/stat-cookbook/releases/download/0.2.3/stat-cookbook.pdf) - Matthias Vallentin (UC Berkeley)\\n* [The Only Probability Cheatsheet You\\'ll Ever Need](http://www.wzchen.com/probability-cheatsheet/) - William Chen\\n* [An Introduction to Probability and Random Processes](http://www.ellerman.org/Davids-Stuff/Maths/Rota-Baclawski-Prob-Theory-79.pdf) - Gian-Carlo Rota, Kenneth Baclawski\\n* [Foundations of Constructive Probability Theory](https://arxiv.org/pdf/1906.01803.pdf) - Yuen-Kwok Chan\\n\\n### Statistics\\n\\n* [Lecture Notes on Statistical Theory](http://homepages.math.uic.edu/~rgmartin/Teaching/Stat411/Notes/411notes.pdf) - Ryan Martin (University of Illinois)\\n* [Introduction to Statistics and Data Analysis for Physicists](http://www-library.desy.de/preparch/books/vstatmp_engl.pdf) - Gerhard Bohm, Günter Zech\\n* [Probability and Mathematical Statistics](http://www.iiserpune.ac.in/~ayan/MTH201/Sahoo_textbook.pdf) - Prasanna Sahoo (University of Louisville)\\n* [Lectures on Statistics](http://math.arizona.edu/~faris/stat.pdf) - William G. Faris\\n* [Statistical Theory](http://pages.pomona.edu/~ajr04747/Fall2009/Math152/Notes/Math152NotesFall09.pdf) - Adolfo J. Rumbos\\n* [Theory of Statistics](http://mason.gmu.edu/~jgentle/books/MathStat.pdf) - James E. Gentle (George Mason University)\\n* [Theory of Statistics](http://math.arizona.edu/~jwatkins/notests.pdf) - Joseph C. Watkins (University of Arizona)\\n* [Glossary of Data Modeling](https://web.archive.org/web/20130523134625/http://www.aiaccess.net/e_gm.htm) - AI Access\\n* [Statistics Papers](http://www.ats.ucla.edu/stat/papers/) - List of statistics papers curated by the Institute for Digital Research and Education (IDRE) at UCLA on methods such as bootstrap and factor invariance.\\n* [NIST Handbook of Statistical Methods](http://itl.nist.gov/div898/handbook/index.htm) - Resource on practical statistics directed towards scientists and engineers.\\n* [Concepts and Applications of Inferential Statistics](http://vassarstats.net/textbook/) - Richard Lowry\\n* [Rough set data analysis: A road to non-invasive knowledge discovery](http://www.cosc.brocku.ca/~duentsch/papers/methprimer2.html) - Ivo Düntsch, Günther Gediga\\n* [Statistical Thinking for the 21st Century](https://statsthinking21.org/) - Russell A. Poldrack\\n* [Odds and Ends: Introducing Probability & Decision with a Visual Emphasis](https://jonathanweisberg.org/vip/) - Jonathan Weisberg\\n* [Seeing Theory](https://seeing-theory.brown.edu/) - Daniel Kunin, Jingru Guo, Tyler Dae Devlin, and Daniel Xiang\\n* [Statistics Done Wrong](https://www.statisticsdonewrong.com/) - Alex Reinhart\\n* [All of Statistics: A Concise Course in Statistical Inference](https://link.springer.com/book/10.1007/978-0-387-21736-9) - Larry Wasserman\\n\\n### Statistical Learning\\n\\n* [An Introduction to Statistical Learning with Applications in R](http://www-bcf.usc.edu/~gareth/ISL/ISLR%20First%20Printing.pdf) - Gareth James, Daniela Witten, Trevor Hastie, Robert Tibshirani\\n* [The Elements of Statistical Learning](http://web.stanford.edu/~hastie/Papers/ESLII.pdf) - Trevor Hastie, Robert Tibshirani, Jerome Friedman\\n* [Statistical Learning Theory](https://web.stanford.edu/class/cs229t/notes.pdf) - Percy Liang\\n* [Reinforcement Learning: An Introduction](https://webdocs.cs.ualberta.ca/~sutton/book/bookdraft2016sep.pdf) - Richard S. Sutton, Andrew G. Barto\\n\\n### Stochastic processes\\n\\n* [Lectures on Stochastic Processes](http://www.math.tifr.res.in/~publ/ln/tifr24.pdf) - K. Ito (Tata Institute of Fundamental Research, Bombay)\\n* [Probability and Stochastic Processes with Applications](http://www.math.harvard.edu/~knill/teaching/math144_1994/probability.pdf) - Oliver Knill (Harvard University)\\n* [Stochastic Processes](http://statweb.stanford.edu/~adembo/math-136/nnotes.pdf) - Amir Dembo (Stanford University)\\n* [Lecture Notes on Stochastic Processes](http://www.mi.fu-berlin.de/wiki/pub/CompMolBio/MarkovKetten15/stochastic_processes_2011.pdf) - Frank Noé, Bettina Keller and Jan-Hendrik Prinz (Freie Universität Berlin)\\n* [Introduction to Stochastic Processes - Lecture Notes](https://www.ma.utexas.edu/users/gordanz/notes/introduction_to_stochastic_processes.pdf) - Gordan Žitković (University of Texas)\\n* [Applied Stochastic Processes in science and engineering](https://www.math.uwaterloo.ca/~mscott/Little_Notes.pdf) - Matt Scott (University of Waterloo)\\n* [An Introduction to Stochastic Processes in Continuous Time](http://www.math.leidenuniv.nl/~spieksma/colleges/sp-master/sp-hvz1.pdf) - Flora Spieksma (Leiden University)\\n* [Markov Chains and Mixing Times](http://pages.uoregon.edu/dlevin/MARKOV/markovmixing.pdf) - David A. Levin, Yuval Peres, Elizabeth L. Wilmer\\n* [Convergence of Stochastic Processes](http://www.stat.yale.edu/~pollard/Books/1984book/pollard1984.pdf) - David Pollard\\n\\n\\n## Numerical Analysis\\n\\n* [Introduction to Numerical Analysis](http://www.math.umd.edu/~dlevy/books/na.pdf) - Doron Levy (University of Maryland)\\n* [A Concise Introduction to Numerical Analysis](http://www.ima.umn.edu/~arnold/597.00-01/nabook.pdf) - Douglas N. Arnold (University of Minnesota)\\n* [Numerical Analysis](http://people.cs.uchicago.edu/~ridg/newna/nalrs.pdf) - L. Ridgway Scott\\n* [Lectures In Basic Computational Numerical Analysis](http://www.engr.uky.edu/~acfd/egr537-lctrs.pdf) - J. M. McDonough (University of Kentucky)\\n* [Advanced Numerical Methods and Their Applications to Industrial Problems: Adaptive Finite Element Methods](http://www.math.uni-bremen.de/~schmidt/SS04/YSU_Notes.pdf) - Alfred Schmidt, Arsen Narimanyan\\n* [Numerical Analysis for Engineers](https://ece.uwaterloo.ca/~dwharder/NumericalAnalysis/) - Douglas Wilhelm Harder\\n\\n\\n## Signal processing\\n\\n* [Introduction to Signal Processing](http://www.ece.rutgers.edu/~orfanidi/intro2sp/orfanidis-i2sp.pdf) - Sophocles J. Orfanidis (Rutgers University)\\n* [Foundations of Signal Processing](http://www.fourierandwavelets.org/FSP_v1.1_2014.pdf) - Martin Vetterli, Jelena Kovacevic, Vivek K Goyal\\n* [An Introduction to Statistical Signal Processing](https://ee.stanford.edu/~gray/sp.pdf) - Robert M. Gray, Lee D. Davisson\\n* [Think DSP](https://greenteapress.com/wp/think-dsp/) - Allen B. Downey\\n* [Linear algebra, signal processing, and wavelets. A unified approach.](https://www.uio.no/studier/emner/matnat/math/MAT-INF2360/v15/kompendium/applinalgpython.pdf) - Øyvind Ryan (University of Oslo)\\n\\n\\n## Mathematics for Computer Science\\n\\n* [Mathematics for Computer Science](https://people.csail.mit.edu/meyer/mcs.pdf) - Eric Lehman, F. Thomson Leighton, Albert R. Meyer\\n* [Algorithms and Complexity](http://www.math.upenn.edu/%7Ewilf/AlgComp3.html) - H. Wilf\\n* [Lecture Notes on Optimization](http://people.eecs.berkeley.edu/~varaiya/papers_ps.dir/NOO.pdf) - Pravin Varaiya\\n* [Information Theory, Inference, and Learning Algorithms](http://www.inference.org.uk/mackay/itila/book.html) - David J. C. MacKay\\n* [The Chaos Textbook: Mathematics in the age of the computer](https://hypertextbook.com/chaos/) - Glenn Elert\\n\\n## Mathematical Biology\\n\\n* [Mathematical Biology](http://www.math.ust.hk/~machas/mathematical-biology.pdf) - Jeffrey Chasnov\\n\\n## Mathematical Physics\\n\\n* [Introduction to Continuum Mechanics](http://oaktrust.library.tamu.edu/handle/1969.1/2501) - Ray. M. Bowen\\n* [Mathematical Tools for Physics](http://www.physics.miami.edu/nearing/mathmethods/) - James Nearing\\n* [Mechanism of the Heavens (1831)](http://www.malaspina.com/etext/heavens.htm) - Mary Somerville\\n\\n# Students Lecture Notes\\n* [Evan Chen](https://web.evanchen.cc/coursework.html) - MIT. 2012 ~ 2018. Covers Combinatorics, Number Theory, Honors Algebra, Set Theory, Real Analysis, Graph Theory, and more.\\n* [Dexter Chua](https://dec41.user.srcf.net/notes/) - Harvard. 2013 ~ 2018. Covers Analysis, Probability, Linear Algebra, Complex Analysis, Numerical Analysis, Statistics, Optimization, Algebraic Topology, Quantum Field Theory, and more.\\n\\n# License\\n\\n[![CC0](http://i.creativecommons.org/p/zero/1.0/88x31.png)](http://creativecommons.org/publicdomain/zero/1.0/)\\n\\nTo the extent possible under law, [Cyrille Rossant](http://cyrille.rossant.net) has waived all copyright and related or neighboring rights to this work.\\n'"
      ]
     },
     "execution_count": 62,
     "metadata": {},
     "output_type": "execute_result"
    }
   ],
   "source": [
    "repo_clean.readme_contents.iloc[35]"
   ]
  },
  {
   "cell_type": "code",
   "execution_count": 64,
   "metadata": {},
   "outputs": [],
   "source": [
    "soup = BeautifulSoup(repo_clean.readme_contents.iloc[35])"
   ]
  },
  {
   "cell_type": "code",
   "execution_count": 75,
   "metadata": {},
   "outputs": [],
   "source": [
    "def remove_html(value):\n",
    "    html = markdown(value)\n",
    "    html = re.sub(r'<pre>(.*?)</pre>', ' ', html)\n",
    "    html = re.sub(r'<code>(.*?)</code >', ' ', html)\n",
    "    soup = BeautifulSoup(html, \"html.parser\")\n",
    "    text = ''.join(soup.findAll(text=True))\n",
    "    text = text.strip().replace('\\n', ' ')\n",
    "    return text"
   ]
  },
  {
   "cell_type": "code",
   "execution_count": null,
   "metadata": {},
   "outputs": [],
   "source": [
    "def remove_all_html(df):\n",
    "    #Apply remove_html to each cell in the column. Maybe iterate? Need to figure out how to use .loc for it\n",
    "    # Then we need to replace each value in the cell with markdown removed\n",
    "    # return the cleaned df.\n",
    "    return df"
   ]
  },
  {
   "cell_type": "code",
   "execution_count": 76,
   "metadata": {},
   "outputs": [
    {
     "data": {
      "text/plain": [
       "'Awesome Math  A curated list of awesome mathematics resources. Contents  START_TOC   Contents General Resources Learning Platforms Learn to Learn Youtube Series Tools Questions and Answers Encyclopedia Books Blogs Misc   Lecture Notes Foundations of Mathematics Transition To Pure Rigour Math Set Theory Logic Category Theory Type Theory Homotopy Type Theory Surreal Numbers   Number Theory Algebraic Number Theory Analytic Number Theory   Algebra Abstract Algebra Group Theory Linear Algebra Ring Theory Galois Theory Lie Algebras   Combinatorics Graph Theory   Geometry and Topology Differential Geometry Algebraic Geometry Topology Algebraic Topology   Analysis Real Analysis Harmonic Analysis Complex Analysis Functional Analysis Measure Theory Ordinary Differential Equations Partial Differential Equations   Probability and Statistics Probability Theory Statistics Statistical Learning Stochastic processes   Numerical Analysis Signal processing Mathematics for Computer Science Mathematical Biology Mathematical Physics   Students Lecture Notes License   END_TOC  General Resources Learning Platforms  Khan Academy Coursera MIT OpenCourseWare edX Brilliant WooTube Mathigon Calculus.org  Learn to Learn  Understanding Mathematics  Youtube Series  Brandon Foltz 3blue1brown NPTEL Prof. Leonard Crash Course Harvard MIT  Tools  Symbolab Desmos Math Words Wolfram Alpha Maxima Sympy Sagemath Unit Converter GeoGebra Macaulay2 Singular GNU Octave Magma Maple Matlab Wolfram Mathematica Free Math  Questions and Answers  Mathematics Stack Exchange MathOverflow - for professional mathematicians  Encyclopedia  Encyclopedia of Mathematics Planetmath ProofWiki Wolfram Mathworld  Books  Calculus: Basic Concepts for High Schools - L.V. Tarasov Basics of Algebra, Topology, and Differential Calculus - Jean Gallier (University of Pennsylvania) Multivariable Calculus - G. Cain, J. Herod (Georgia Tech) Wikibooks Online Mathematics Textbooks Beginning and Intermediate Algebra Free Mathematics Books Trigonometry  Blogs  BetterExplained - Maintained by Kalid Azad ILoveMaths - For grades 6 thru 12 in K-12 system 3blue1brown - Animated Maths Mathsisfun simple text light weight site for students upto highschool MathematicsIsAScience - Peter Saveliev (Professor of mathematics at Marshall University, Huntington WV, USA)  Misc  Areas of mathematics on Wikipedia Paul\\'s Online Math Notes - Paul Dawkins (Lamar University) List of electronic textbooks - Marcel B. Finan (Arkansas Tech University) Topology Atlas Recreations in Math - H. E. Licks (1917) Magic Squares and Cubes - W. S. Andrews (1917) Convex Optimization - Stephen Boyd and Lieven Vandenberghe  Lecture Notes Foundations of Mathematics Transition To Pure Rigour Math  Basic Concepts of Mathematics - Elias Zakon Book of Proof - Richard Hammak (Virginia Commonwealth University)  Set Theory  Sets, Relations, Functions - Ivo Düntsch, Günther Gediga An Introduction to Set Theory - William A. R. Weiss Set Theory and Foundations of Mathematics - Sylvain Poirier Set Theory on the Stanford Encyclopedia of Philosophy  Logic  Introduction to Logic - Michael Genesereth, Eric Kao (Stanford University) An Introduction to Formal Logic - P.D. Magnus (University at Albany) A Problem Course in Mathematical Logic - Stefan Bilaniuk (Trent University) Language, Proof, and Logic - Jon Barwise, John Etchemendy Mathematical Logic - Helmut Schwichtenberg Mathematical Logic - Stephen G. Simpson (Pennsylvania State University) Formal Logic - Miguel Palomino Predictive Arithmetic - Edward Nelson Proofs and Concepts: the fundamentals of abstract mathematics - Joy Morris, Dave Morris Mathematical Reasoning: Writing and Proof - Ted Sundstrom Logic and Proof -  Jeremy Avigad, Robert Y. Lewis, and Floris van Doorn QED - an interactive textbook - Terence Tao Open Logic Textbook - collaborative effort, main contributors listed here  Category Theory  Introduction to Category Theory and Categorical Logic - Thomas Streicher An Introduction to Category Theory - Harold Simmons Category Theory - Steve Awodey (Carnegie Mellon University) Category Theory - B. Pareigis Category Theory for Computing Science - Michael Barr, Charles Wells Toposes, Triples and Theories - Michael Barr, Charles Wells Abelian Categories - Peter Freyd Categories and Groupoids - P. J. Higgins Basic Concepts of Enriched Category Theory - G. M. Kelley Abstract and Concrete Categories: The Joy of Cats - Jiri Adamek, Horst Herrlich, George Strecker Seven Sketches in Compositionality: An Invitation to Applied Category Theory - Brendan Fong and David I. Spivak (MIT) Category Theory in Context - Emily Riehl (John Hopkins University)    Type Theory  Proofs and Types - Jean-Yves Girard Intuitionistic Type Theory - Per Martin-Lof Type Theory and Functional Programming - Simon Thompson Programming in Martin-Lof’s Type Theory - Bengt Nordstrom, Kent Petersson, Jan M. Smith  Homotopy Type Theory  Homotopy Type Theory  Surreal Numbers  Surreal Numbers - How two ex-students turned on to pure mathematics and found total happiness - D. E. Knuth An Introduction to Surreal Numbers - Gretchen Grimm Surreal Numbers and Games Conway names, the simplicity hierarchy and the surreal number tree - Philip Ehrlich  Number Theory  Elementary Number Theory: Primes, Congruences, and Secrets - William Stein Elementary Number Theory - W. Edwin Clark (University of South Florida) A Course on Number Theory - Peter J. Cameron A Computational Introduction to Number Theory and Algebra - Victor Shoup Number Theory: A Contemporary Introduction - Pete L. Clark An Introduction to the Theory of Numbers - Leo Moser Yet Another Introductary Number Theory Textbook - Jonathan A. Poritz Elementary Number Theory - David M. Burton  Algebraic Number Theory  Introduction to Algebraic Number Theory Introduction to Algebraic Number Theory - F. Oggier Algebraic Number Theory - J.S. Milne Algebraic Number Theory Course Notes - Matthew Baker (Georgia Tech) A Course In Algebraic Number Theory - Robert Ash  Analytic Number Theory  Introduction to Analytic Number Theory - A.J. Hildebrand (University of Illinois) Elements of Analytic Number Theory - P. S. Kolesnikov, E. P. Vdovin (Novosibirsk) Analytic Number Theory - Otto Forster (LMU Munich) Analytic Number Theory - Lecture Notes based on Davenport’s book - Andreas Strömbergsson  Algebra  A Course in Universal Algebra - S. Burris, H.P. Sankappanavar A Course in Commutative Algebra - Robert Ash First Course in Algebra - Herbert E. Hawkes, William A. Luby, Frank C. Touton (1910) Second Course in Algebra - Herbert E. Hawkes, William A. Luby, Frank C. Touton (1911) Algebra: An Elementary Text-Book, Part I - G. Chrystal (1904) Algebra: An Elementary Text-Book, Part II - G. Chrystal (1900) Understanding Algebra - James W. Brennan  Abstract Algebra  Introduction to Abstract Algebra - D. S. Malik, John N. Mordeson, M.K. Sen (Creighton University) Introduction to Modern Algebra - David Joyce (Clark University) Algebraic Methods - F. Oggier Abstract Algebra : Theory and Applications - Thomas W. Judson, Robert A. Beezer (Austin State University) An Undergraduate Course in Abstract Algebra - Robert Howlett Elements of Abstract and Linear Algebra - E.H. Connell (University of Miami) Abstract Algebra: The Basic Graduate Year - Robert Ash Abstract Algebra: Harvard Extension (Archived) - Benedict Gross Abstract Algebra: Harvard Extension Videos - Benedict Gross  Group Theory  Notes on Group Theory - Mark Reeder Group Theory - J.S. Milne Notes on Finite Group Theory - Peter J. Cameron Group Theory - Pedrag Civitanovic  Linear Algebra  Fundamentals of Linear Algebra - James B. Carrell Linear Algebra and Matrices - Martin Fluch Vector Space Theory - Robert Howlett Linear Algebra - Jim Hefferon Linear Algebra - Peter Petersen MIT OpenCourseWare Lectures on Linear Algebra (18.06) as Jupyter Notebooks - Juan Klopper Linear Algebra - Jim Hefferon Elementary Linear Algebra - Keith Matthews A First Courses in Linear Algebra - Rob Breezer Linear Algebra - David Cherney, Tom Denton, Andrew Waldron Introduction to vectors and tensors, Vol 1: linear and multilinear algebra - Ray M Bowen, C. C. Wang Introduction to vectors and tensors, Vol 2: vector and tensor analysis - Ray M Bowen, C. C. Wang Introduction to Applied Linear Algebra - Stephen Boyd (Stanford University), Lieven Vandenberghe (UCLA) Linear Algebra Done Wrong - Sergei Treil Immersive Linear Algebra - J. Ström, K. Åström, and T. Akenine-Möller Interactive Linear Algebra - Dan Margalit and Joseph Rabinoff Linear Algebra, Infinite Dimensions, and Maple - James Herod  Ring Theory  Foundations of Module and Ring Theory - Robert Wisbauer (University of Düsseldorf)  Galois Theory  An Introduction to Galois Theory - Andrew Baker (University of Glasgow) Fields and Galois Theory - J.S. Milne Galois theory - Miles Reid Galois Theory - Ian Stewart  Lie Algebras  Lie Algebras - Shlomo Sternberg  Combinatorics  Basic Combinatorics - Carl G. Wagner (University of Tennessee) Applied Combinatorics - Mitchel T. Keller, William T. Trotter Notes on Combinatorics - Peter J. Cameron Analytic Combinatorics - Philippe Flajolet, Robert Sedgewick generatingfunctionology - Herbert Wilf  Graph Theory  Graph Theory: Lecture Notes - Christopher Griffin Graph Theory - Reinhard Diestel  Geometry and Topology  Fundamentals of Geometry - Oleg A. Belyaev A=B - M. Petkovsek, H. Wilf, D. Zeilberger Elements - Euclid Euclid\\'s Elements Redux - Daniel Callahan Mathematical Illustrations - Bill Casselman Byrne\\'s Euclid - Oliver Byrne Plane Geometry - George Wentworth and David Eugene Smith (1913) Planes and Spherical Trigonometry - George Wentworth and David Eugene Smith (1915) Coordinate Geometry - Henry Buchard Fine and Henry Dallas Thompson (1911) Analytic Geometry - Lewis Parker Siceloff, George Wentworth, David Eugene Smith (1922)  Differential Geometry  Introduction to Differential Geometry - Joel W. Robbin, Dietmar A. Salamon Notes on Differential Geometry and Lie Groups - Jean Gallier (University of Pennsylvania) Topics in Differential Geometry - Peter W. Michor Lectures on Differential Geometry - Wulf Rossmann An Introduction to Riemannian Geometry - Sigmundur Gudmundsson (Lund University) The Geometry and Topology of Three-Manifolds - W. Thurston Semi-Riemann Geometry and General Relativity - Shlomo Sternberg Discrete Differential Geometry - Keenan Crane  Algebraic Geometry  A Brief Introduction to Algebraic Geometry - R.C. Churchill Introduction to Algebraic Geometry - Igor V. Dolgachev Foundations of Algebraic Geometry - Ravi Vakil Algebraic Geometry - Jean Gallier, Stephen S. Shatz (University of Pennsylvania) Algebraic Geometry - J.S. Milne Algebraic Geometry - Andreas Gathmann (University of Kaiserslautern) The Stacks Project - Maintained by Aise Johan de Jong (Columbia)  Topology  Elementary Applied Topology - Robert Ghrist (UPenn) Introduction to Topology Introduction to Topology - Alex Küronya Introductory Topology - Jim L. Brown General Topology - Pierre Schapira (Paris VI University) Elementary Topology Problem Textbook General Topology - Jesper M. Møller Topology Topics  Algebraic Topology  Algebraic Topology - Allen Hatcher A Concise Course in Algebraic Topology - J. P. May Introduction to Algebraic Topology - Martin Cadek Algebra and Topology - Pierre Schapira (Paris VI University) Lecture Notes in Algebraic Topology - James F. Davis, Paul Kirk (Indiana University) Algebraic Topology - Michael Starbird Lecture Notes on Algebraic Topology - Jie Wu  Analysis Real Analysis  MIT OpenCourseWare Lectures on Calculus - G. Strang Elementary Calculus: An Approach Using Infinitesimals - Professor H. Jerome Keisler An Introduction to Real Analysis - John K. Hunter (University of California at Davis) Introduction to Real Analysis - William F. Trench (Trinity University, Texas) Basic Analysis: Introduction to Real Analysis - Jiří Lebl Elementary Real Analysis - Thomson, Bruckner Lecture Notes in Real Analysis - Eric T. Sawyer (McMaster University) Real Analysis - C. McMullen Real Analysis for Graduate Students - Richard F. Bass Modern Real Analysis - William P. Ziemer (Indiana University) Mathematical Analysis Vol I - Elias Zakon Mathematical Analysis Vol II - Elias Zakon Advanced Calculus - Lynn Loomis, Schlomo Sternberg  Analysis of Functions of a Single Variable - Lawerence Baggett The Calculus of Functions of Several Variables - Dan Sloughter A ProblemText in Advanced Calculus - John M. Erdman Calculus and Linear Algebra. Vol. 1 - Wilfred Kaplan, Donald J. Lewis Calculus and Linear Algebra. Vol. 2 - Wilfred Kaplan, Donald J. Lewis Introduction to Calculus I and II - J.H. Heinbockel Active Calculus - Matt Boelkins Supplements to the Exercises in Chapters 1-7 of Walter Rudin\\'s \"Principles of Mathematical Analysis\" - George M. Bergman Calculus Made Easy - Silvanus P. Thompson (1910) Elements of Differential and Integral Calculus - William Anthony Granville (1911) Precalculus - Carl Stitz, Jeff Zeager  Harmonic Analysis  Harmonic Analysis Lecture Notes - Richard S. Laugesen (University of Illinois at Urbana–Champaign) Harmonic Analysis - W. Schlag Lecture Notes: Fourier Transform and its Applications - Brad Osgood Fourier Analysis - Lucas Illing Mathematics of the Discrete Fourier Transform (DFT) with Audio Applications - Julius O. Smith III (Stanford University)  Complex Analysis  Introduction to Complex Analysis - Michael Taylor An Introduction to Complex Analysis and Geometry - John P. D\\'Angelo (University of Illinois) A First Course in Complex Analysis - Matthias Beck, Gerald Marchesi, Dennis Pixton, Lucas Sabalka A Guide to Complex Variables - Steven G. Krantz Complex Analysis - Charles Walkden Complex Analysis - Christian Berg Complex Variables - R. B. Ash, W.P. Novinger Complex Analysis - Christer Bennewitz Complex Analysis - Donald E. Marshall A Concise Course in Complex Analysis and Riemann Surfaces - Wilhelm Schlag Complex Analysis - G. Cain (Georgia Tech) Complex Analysis - Juan Carlos Ponce Campuzano  Functional Analysis  An Introduction to Functional Analysis - Laurent W. Marcoux (University of Waterloo) Functional Analysis: Lecture Notes - Jeff Schenker (Michigan State University) Functional Analysis Lecture Notes - T.B. Ward (University of East Anglia) Functional Analysis - Alexander C. R. Belton Topics in Real and Functional Analysis - Gerald Teschl Functional Analysis - Christian Remling Theory of Functions of a Real Variable - Shlomo Sternberg Functional Analysis - Lawerence Baggett  Measure Theory  An Introduction to Measure Theory - Terence Tao (UCLA) Lecture Notes on Measure Theory and Functional Analysis - P. Cannarsa, T. D’Aprile Lecture Notes in Measure Theory - Christer Borell A Crash Course on the Lebesgue Integral and Measure Theory - Steve Cheng Measure Theory - John K. Hunter (University of California at Davis) Measure and Integration - Dietmar A. Salamon (ETH Zürich) Lecture notes: Measure Theory - Bruce K. Driver  Ordinary Differential Equations  Difference Equations To Differential Equations - Dan Sloughter Ordinary Differential Equation - Alexander Grigorian (University of Bielefeld) Ordinary Differential Equations: Lecture Notes - Eugen J. Ionascu Ordinary Differential Equations - Peter Philip Ordinary Differential Equations - Gabriel Nagy Ordinary Differential Equations and Dynamical Systems - Gerald Teschl Notes on Differential Equations - Bob Terrell Elementary Differential Equations - William F. Trench Elementary Differential Equations With Boundary Value Problems - William F. Trench Notes on Diffy Qs: Differential Equations for Engineers - Jiří Lebl Differential Equations - H. B. Phillips (1922)  Partial Differential Equations  Notes on Partial Differential Equations - John K. Hunter (University of California at Davis) Partial Differential Equations: Lecture Notes - Erich Miersemann (Leipzig University) Linear Methods of Applied Mathematics - E. Harrell, J. Herod (Georgia Tech)  Probability and Statistics Probability Theory  Introduction to Probability - Charles M. Grinstead, J. Laurie Snell Introduction to Probability - Dimitri P. Bertsekas, John N. Tsitsiklis (MIT) A Short Introduction to Probability - Dirk P. Kroese (University of Queensland) Probability: Theory and Examples - Rick Durrett Probability and Statistics Cookbook - Matthias Vallentin (UC Berkeley) The Only Probability Cheatsheet You\\'ll Ever Need - William Chen An Introduction to Probability and Random Processes - Gian-Carlo Rota, Kenneth Baclawski Foundations of Constructive Probability Theory - Yuen-Kwok Chan  Statistics  Lecture Notes on Statistical Theory - Ryan Martin (University of Illinois) Introduction to Statistics and Data Analysis for Physicists - Gerhard Bohm, Günter Zech Probability and Mathematical Statistics - Prasanna Sahoo (University of Louisville) Lectures on Statistics - William G. Faris Statistical Theory - Adolfo J. Rumbos Theory of Statistics - James E. Gentle (George Mason University) Theory of Statistics - Joseph C. Watkins (University of Arizona) Glossary of Data Modeling - AI Access Statistics Papers - List of statistics papers curated by the Institute for Digital Research and Education (IDRE) at UCLA on methods such as bootstrap and factor invariance. NIST Handbook of Statistical Methods - Resource on practical statistics directed towards scientists and engineers. Concepts and Applications of Inferential Statistics - Richard Lowry Rough set data analysis: A road to non-invasive knowledge discovery - Ivo Düntsch, Günther Gediga Statistical Thinking for the 21st Century - Russell A. Poldrack Odds and Ends: Introducing Probability & Decision with a Visual Emphasis - Jonathan Weisberg Seeing Theory - Daniel Kunin, Jingru Guo, Tyler Dae Devlin, and Daniel Xiang Statistics Done Wrong - Alex Reinhart All of Statistics: A Concise Course in Statistical Inference - Larry Wasserman  Statistical Learning  An Introduction to Statistical Learning with Applications in R - Gareth James, Daniela Witten, Trevor Hastie, Robert Tibshirani The Elements of Statistical Learning - Trevor Hastie, Robert Tibshirani, Jerome Friedman Statistical Learning Theory - Percy Liang Reinforcement Learning: An Introduction - Richard S. Sutton, Andrew G. Barto  Stochastic processes  Lectures on Stochastic Processes - K. Ito (Tata Institute of Fundamental Research, Bombay) Probability and Stochastic Processes with Applications - Oliver Knill (Harvard University) Stochastic Processes - Amir Dembo (Stanford University) Lecture Notes on Stochastic Processes - Frank Noé, Bettina Keller and Jan-Hendrik Prinz (Freie Universität Berlin) Introduction to Stochastic Processes - Lecture Notes - Gordan Žitković (University of Texas) Applied Stochastic Processes in science and engineering - Matt Scott (University of Waterloo) An Introduction to Stochastic Processes in Continuous Time - Flora Spieksma (Leiden University) Markov Chains and Mixing Times - David A. Levin, Yuval Peres, Elizabeth L. Wilmer Convergence of Stochastic Processes - David Pollard  Numerical Analysis  Introduction to Numerical Analysis - Doron Levy (University of Maryland) A Concise Introduction to Numerical Analysis - Douglas N. Arnold (University of Minnesota) Numerical Analysis - L. Ridgway Scott Lectures In Basic Computational Numerical Analysis - J. M. McDonough (University of Kentucky) Advanced Numerical Methods and Their Applications to Industrial Problems: Adaptive Finite Element Methods - Alfred Schmidt, Arsen Narimanyan Numerical Analysis for Engineers - Douglas Wilhelm Harder  Signal processing  Introduction to Signal Processing - Sophocles J. Orfanidis (Rutgers University) Foundations of Signal Processing - Martin Vetterli, Jelena Kovacevic, Vivek K Goyal An Introduction to Statistical Signal Processing - Robert M. Gray, Lee D. Davisson Think DSP - Allen B. Downey Linear algebra, signal processing, and wavelets. A unified approach. - Øyvind Ryan (University of Oslo)  Mathematics for Computer Science  Mathematics for Computer Science - Eric Lehman, F. Thomson Leighton, Albert R. Meyer Algorithms and Complexity - H. Wilf Lecture Notes on Optimization - Pravin Varaiya Information Theory, Inference, and Learning Algorithms - David J. C. MacKay The Chaos Textbook: Mathematics in the age of the computer - Glenn Elert  Mathematical Biology  Mathematical Biology - Jeffrey Chasnov  Mathematical Physics  Introduction to Continuum Mechanics - Ray. M. Bowen Mathematical Tools for Physics - James Nearing Mechanism of the Heavens (1831) - Mary Somerville  Students Lecture Notes  Evan Chen - MIT. 2012 ~ 2018. Covers Combinatorics, Number Theory, Honors Algebra, Set Theory, Real Analysis, Graph Theory, and more. Dexter Chua - Harvard. 2013 ~ 2018. Covers Analysis, Probability, Linear Algebra, Complex Analysis, Numerical Analysis, Statistics, Optimization, Algebraic Topology, Quantum Field Theory, and more.  License  To the extent possible under law, Cyrille Rossant has waived all copyright and related or neighboring rights to this work.'"
      ]
     },
     "execution_count": 76,
     "metadata": {},
     "output_type": "execute_result"
    }
   ],
   "source": [
    "remove_html(repo_clean.readme_contents.iloc[35])"
   ]
  },
  {
   "cell_type": "code",
   "execution_count": 40,
   "metadata": {},
   "outputs": [
    {
     "data": {
      "text/plain": [
       "Shell         29\n",
       "Python        27\n",
       "JavaScript    24\n",
       "HTML          22\n",
       "Name: language, dtype: int64"
      ]
     },
     "execution_count": 40,
     "metadata": {},
     "output_type": "execute_result"
    }
   ],
   "source": [
    "repo_df.language.value_counts()"
   ]
  },
  {
   "cell_type": "code",
   "execution_count": 41,
   "metadata": {},
   "outputs": [],
   "source": [
    "all_words = ' '.join(repo_clean.cleaned_readme_contents)"
   ]
  },
  {
   "cell_type": "code",
   "execution_count": 42,
   "metadata": {
    "tags": []
   },
   "outputs": [
    {
     "data": {
      "text/plain": [
       ")          47134\n",
       "(          46751\n",
       "]          38450\n",
       "[          37906\n",
       "`          36456\n",
       "-          35139\n",
       "&#124;     17588\n",
       ",          17214\n",
       "*          11215\n",
       "&#9;       10467\n",
       ":           9717\n",
       "%           3832\n",
       "/           3130\n",
       "github      2652\n",
       "!           2643\n",
       "open        2108\n",
       "git         2028\n",
       "'           1992\n",
       "install     1955\n",
       ".           1753\n",
       "source      1667\n",
       "code        1627\n",
       "python      1523\n",
       "###         1429\n",
       "clone       1407\n",
       "month       1326\n",
       "pypi        1303\n",
       "pip         1303\n",
       "##          1283\n",
       "\"           1129\n",
       "dtype: int64"
      ]
     },
     "execution_count": 42,
     "metadata": {},
     "output_type": "execute_result"
    }
   ],
   "source": [
    "pd.Series(data = all_words.split()).value_counts().head(30)"
   ]
  },
  {
   "cell_type": "code",
   "execution_count": 43,
   "metadata": {},
   "outputs": [],
   "source": [
    "py_words = ' '.join(repo_clean[repo_clean['language'] == 'Python'].cleaned_readme_contents)"
   ]
  },
  {
   "cell_type": "code",
   "execution_count": 44,
   "metadata": {
    "tags": []
   },
   "outputs": [
    {
     "data": {
      "text/plain": [
       "`          26187\n",
       ")          16573\n",
       "(          16411\n",
       "]          11220\n",
       "[          11149\n",
       "-          11142\n",
       "&#9;        9652\n",
       "&#124;      9293\n",
       ",           5552\n",
       ":           5243\n",
       "/           2414\n",
       "github      2173\n",
       "%           2062\n",
       "install     1873\n",
       "*           1522\n",
       "open        1450\n",
       "git         1376\n",
       "clone       1353\n",
       "month       1312\n",
       "pip         1301\n",
       "pypi        1300\n",
       "conda       1093\n",
       "!           1046\n",
       "ago         1000\n",
       "years        910\n",
       "..           897\n",
       "python       888\n",
       "mit          731\n",
       "\\            638\n",
       "library      604\n",
       "dtype: int64"
      ]
     },
     "execution_count": 44,
     "metadata": {},
     "output_type": "execute_result"
    }
   ],
   "source": [
    "pd.Series(py_words.split()).value_counts().head(30)"
   ]
  },
  {
   "cell_type": "code",
   "execution_count": 45,
   "metadata": {},
   "outputs": [],
   "source": [
    "shell_words = ' '.join(repo_clean[repo_clean['language'] == 'Shell'].cleaned_readme_contents)"
   ]
  },
  {
   "cell_type": "code",
   "execution_count": 46,
   "metadata": {},
   "outputs": [
    {
     "data": {
      "text/plain": [
       ")          13170\n",
       "(          13096\n",
       "]          11561\n",
       "[          11202\n",
       "-          10071\n",
       "*           7105\n",
       ",           4617\n",
       "`           3045\n",
       ":           2892\n",
       "&#124;      1259\n",
       "'            912\n",
       ".            874\n",
       "git          585\n",
       "\"            512\n",
       "fr           473\n",
       ">            435\n",
       "2017         431\n",
       "&#9;         399\n",
       "!            392\n",
       "zsh          357\n",
       "/            314\n",
       "2018         310\n",
       "--           306\n",
       "status       304\n",
       "theme        299\n",
       "web          292\n",
       "?            291\n",
       "##           290\n",
       "&amp;        284\n",
       "command      278\n",
       "dtype: int64"
      ]
     },
     "execution_count": 46,
     "metadata": {},
     "output_type": "execute_result"
    }
   ],
   "source": [
    "pd.Series(shell_words.split()).value_counts().head(30)"
   ]
  },
  {
   "cell_type": "code",
   "execution_count": 47,
   "metadata": {},
   "outputs": [],
   "source": [
    "js_words = ' '.join(repo_clean[repo_clean['language'] == 'JavaScript'].cleaned_readme_contents)"
   ]
  },
  {
   "cell_type": "code",
   "execution_count": 48,
   "metadata": {},
   "outputs": [
    {
     "data": {
      "text/plain": [
       ")                                                                                10631\n",
       "(                                                                                10544\n",
       "]                                                                                 8957\n",
       "[                                                                                 8851\n",
       "&#124;                                                                            6868\n",
       "-                                                                                 6836\n",
       "`                                                                                 5852\n",
       ",                                                                                 4532\n",
       "%                                                                                 1577\n",
       "code                                                                              1057\n",
       "source                                                                            1048\n",
       ":                                                                                  829\n",
       "!                                                                                  775\n",
       "*                                                                                  623\n",
       "'                                                                                  431\n",
       "###                                                                                423\n",
       "web                                                                                380\n",
       "##                                                                                 372\n",
       "demo                                                                               365\n",
       "mit                                                                                357\n",
       "php                                                                                356\n",
       "&#9;                                                                               319\n",
       "\"                                                                                  318\n",
       "https://github.com/lisadziuba/awesome-design-tools/blob/master/media/free.svg      308\n",
       "free.svg                                                                           307\n",
       "/                                                                                  304\n",
       "open                                                                               291\n",
       ".                                                                                  255\n",
       "covid-19                                                                           241\n",
       "design                                                                             240\n",
       "dtype: int64"
      ]
     },
     "execution_count": 48,
     "metadata": {},
     "output_type": "execute_result"
    }
   ],
   "source": [
    "pd.Series(js_words.split()).value_counts().head(30)"
   ]
  },
  {
   "cell_type": "code",
   "execution_count": 49,
   "metadata": {},
   "outputs": [],
   "source": [
    "html_words = ' '.join(repo_clean[repo_clean['language'] == 'HTML'].cleaned_readme_contents)"
   ]
  },
  {
   "cell_type": "code",
   "execution_count": 50,
   "metadata": {},
   "outputs": [
    {
     "data": {
      "text/plain": [
       "-             7090\n",
       ")             6760\n",
       "]             6712\n",
       "[             6704\n",
       "(             6700\n",
       ",             2513\n",
       "*             1965\n",
       "`             1372\n",
       ":              753\n",
       "###            432\n",
       "!              430\n",
       "angular        350\n",
       "quantum        346\n",
       "video          304\n",
       "python         303\n",
       ".              283\n",
       "using          274\n",
       "data           254\n",
       "'              244\n",
       "jmeter         241\n",
       "##             236\n",
       "podcast        231\n",
       "webpack        209\n",
       "source         208\n",
       "github         204\n",
       "kubernetes     193\n",
       "2              192\n",
       "game           177\n",
       "&#124;         168\n",
       "--             166\n",
       "dtype: int64"
      ]
     },
     "execution_count": 50,
     "metadata": {},
     "output_type": "execute_result"
    }
   ],
   "source": [
    "pd.Series(html_words.split()).value_counts().head(30)"
   ]
  },
  {
   "cell_type": "markdown",
   "metadata": {},
   "source": [
    "#### Value Count takeaways:\n",
    "\n",
    "- something with our prep seems to be missing a strange encoding `&#9`\n",
    "- HTML seems the most different in terms of word overlap\n",
    "- Python must have really long readmes, but I will test with a len() later\n",
    "    - Python also has a lot of 0 and 1, which makes sense as it is used as indexer variables\n",
    "- code is another one that has a lot of overlap\n",
    "- Python is included in all of the languages except for shell"
   ]
  },
  {
   "cell_type": "code",
   "execution_count": 51,
   "metadata": {},
   "outputs": [],
   "source": [
    "repo_clean['length'] = [len(i) for i in repo_clean.cleaned_readme_contents]"
   ]
  },
  {
   "cell_type": "code",
   "execution_count": 52,
   "metadata": {},
   "outputs": [
    {
     "data": {
      "text/plain": [
       "length    62726.814815\n",
       "dtype: float64"
      ]
     },
     "execution_count": 52,
     "metadata": {},
     "output_type": "execute_result"
    }
   ],
   "source": [
    "repo_clean[repo_clean.language == 'Python'].mean()"
   ]
  },
  {
   "cell_type": "code",
   "execution_count": 53,
   "metadata": {},
   "outputs": [
    {
     "data": {
      "text/plain": [
       "length    48675.689655\n",
       "dtype: float64"
      ]
     },
     "execution_count": 53,
     "metadata": {},
     "output_type": "execute_result"
    }
   ],
   "source": [
    "repo_clean[repo_clean.language == 'Shell'].mean()"
   ]
  },
  {
   "cell_type": "code",
   "execution_count": 54,
   "metadata": {},
   "outputs": [
    {
     "data": {
      "text/plain": [
       "length    45901.333333\n",
       "dtype: float64"
      ]
     },
     "execution_count": 54,
     "metadata": {},
     "output_type": "execute_result"
    }
   ],
   "source": [
    "repo_clean[repo_clean.language == 'JavaScript'].mean()"
   ]
  },
  {
   "cell_type": "code",
   "execution_count": 55,
   "metadata": {},
   "outputs": [
    {
     "data": {
      "text/plain": [
       "length    35158.772727\n",
       "dtype: float64"
      ]
     },
     "execution_count": 55,
     "metadata": {},
     "output_type": "execute_result"
    }
   ],
   "source": [
    "repo_clean[repo_clean.language == 'HTML'].mean()"
   ]
  },
  {
   "cell_type": "code",
   "execution_count": 56,
   "metadata": {},
   "outputs": [
    {
     "data": {
      "text/html": [
       "<div>\n",
       "<style scoped>\n",
       "    .dataframe tbody tr th:only-of-type {\n",
       "        vertical-align: middle;\n",
       "    }\n",
       "\n",
       "    .dataframe tbody tr th {\n",
       "        vertical-align: top;\n",
       "    }\n",
       "\n",
       "    .dataframe thead th {\n",
       "        text-align: right;\n",
       "    }\n",
       "</style>\n",
       "<table border=\"1\" class=\"dataframe\">\n",
       "  <thead>\n",
       "    <tr style=\"text-align: right;\">\n",
       "      <th></th>\n",
       "      <th>length</th>\n",
       "    </tr>\n",
       "    <tr>\n",
       "      <th>language</th>\n",
       "      <th></th>\n",
       "    </tr>\n",
       "  </thead>\n",
       "  <tbody>\n",
       "    <tr>\n",
       "      <th>HTML</th>\n",
       "      <td>35158.772727</td>\n",
       "    </tr>\n",
       "    <tr>\n",
       "      <th>JavaScript</th>\n",
       "      <td>45901.333333</td>\n",
       "    </tr>\n",
       "    <tr>\n",
       "      <th>Python</th>\n",
       "      <td>62726.814815</td>\n",
       "    </tr>\n",
       "    <tr>\n",
       "      <th>Shell</th>\n",
       "      <td>48675.689655</td>\n",
       "    </tr>\n",
       "  </tbody>\n",
       "</table>\n",
       "</div>"
      ],
      "text/plain": [
       "                  length\n",
       "language                \n",
       "HTML        35158.772727\n",
       "JavaScript  45901.333333\n",
       "Python      62726.814815\n",
       "Shell       48675.689655"
      ]
     },
     "execution_count": 56,
     "metadata": {},
     "output_type": "execute_result"
    }
   ],
   "source": [
    "repo_clean.groupby(by = 'language').mean()"
   ]
  },
  {
   "cell_type": "markdown",
   "metadata": {},
   "source": [
    "Length Takeaways:\n",
    "- Python has the largest average character count \n",
    "- JavaScript and Shell have somewhat equal character counts\n",
    "- HTML has the least amount"
   ]
  },
  {
   "cell_type": "code",
   "execution_count": 57,
   "metadata": {},
   "outputs": [
    {
     "data": {
      "text/html": [
       "<div>\n",
       "<style scoped>\n",
       "    .dataframe tbody tr th:only-of-type {\n",
       "        vertical-align: middle;\n",
       "    }\n",
       "\n",
       "    .dataframe tbody tr th {\n",
       "        vertical-align: top;\n",
       "    }\n",
       "\n",
       "    .dataframe thead th {\n",
       "        text-align: right;\n",
       "    }\n",
       "</style>\n",
       "<table border=\"1\" class=\"dataframe\">\n",
       "  <thead>\n",
       "    <tr style=\"text-align: right;\">\n",
       "      <th></th>\n",
       "      <th>repo</th>\n",
       "      <th>readme_contents</th>\n",
       "      <th>cleaned_readme_contents</th>\n",
       "      <th>stemmed_readme_contents</th>\n",
       "      <th>lemmatized_readme_contents</th>\n",
       "      <th>length</th>\n",
       "    </tr>\n",
       "    <tr>\n",
       "      <th>language</th>\n",
       "      <th></th>\n",
       "      <th></th>\n",
       "      <th></th>\n",
       "      <th></th>\n",
       "      <th></th>\n",
       "      <th></th>\n",
       "    </tr>\n",
       "  </thead>\n",
       "  <tbody>\n",
       "    <tr>\n",
       "      <th>HTML</th>\n",
       "      <td>22</td>\n",
       "      <td>22</td>\n",
       "      <td>22</td>\n",
       "      <td>22</td>\n",
       "      <td>22</td>\n",
       "      <td>22</td>\n",
       "    </tr>\n",
       "    <tr>\n",
       "      <th>JavaScript</th>\n",
       "      <td>24</td>\n",
       "      <td>24</td>\n",
       "      <td>24</td>\n",
       "      <td>24</td>\n",
       "      <td>24</td>\n",
       "      <td>24</td>\n",
       "    </tr>\n",
       "    <tr>\n",
       "      <th>Python</th>\n",
       "      <td>27</td>\n",
       "      <td>27</td>\n",
       "      <td>27</td>\n",
       "      <td>27</td>\n",
       "      <td>27</td>\n",
       "      <td>27</td>\n",
       "    </tr>\n",
       "    <tr>\n",
       "      <th>Shell</th>\n",
       "      <td>29</td>\n",
       "      <td>29</td>\n",
       "      <td>29</td>\n",
       "      <td>29</td>\n",
       "      <td>29</td>\n",
       "      <td>29</td>\n",
       "    </tr>\n",
       "  </tbody>\n",
       "</table>\n",
       "</div>"
      ],
      "text/plain": [
       "            repo  readme_contents  cleaned_readme_contents  \\\n",
       "language                                                     \n",
       "HTML          22               22                       22   \n",
       "JavaScript    24               24                       24   \n",
       "Python        27               27                       27   \n",
       "Shell         29               29                       29   \n",
       "\n",
       "            stemmed_readme_contents  lemmatized_readme_contents  length  \n",
       "language                                                                 \n",
       "HTML                             22                          22      22  \n",
       "JavaScript                       24                          24      24  \n",
       "Python                           27                          27      27  \n",
       "Shell                            29                          29      29  "
      ]
     },
     "execution_count": 57,
     "metadata": {},
     "output_type": "execute_result"
    }
   ],
   "source": [
    "repo_clean.groupby(by = 'language').nunique()"
   ]
  },
  {
   "cell_type": "code",
   "execution_count": 58,
   "metadata": {},
   "outputs": [
    {
     "data": {
      "text/plain": [
       "<pandas.core.groupby.generic.DataFrameGroupBy object at 0x7fb209a7e490>"
      ]
     },
     "execution_count": 58,
     "metadata": {},
     "output_type": "execute_result"
    }
   ],
   "source": [
    "repo_clean.groupby(by = 'language')"
   ]
  },
  {
   "cell_type": "code",
   "execution_count": 59,
   "metadata": {},
   "outputs": [],
   "source": [
    "def unique(list_):\n",
    "    unique_list = []\n",
    "    for x in list_:\n",
    "        if x not in unique_list:\n",
    "            unique_list.append(x)\n",
    "    return unique_list"
   ]
  },
  {
   "cell_type": "code",
   "execution_count": 60,
   "metadata": {
    "tags": []
   },
   "outputs": [],
   "source": [
    "py_unique = unique(pd.Series(data = py_words.split()))\n",
    "shell_unique = unique(pd.Series(data = shell_words.split()))\n",
    "js_unique = unique(pd.Series(data = js_words.split()))\n",
    "html_unique = unique(pd.Series(data = html_words.split()))"
   ]
  },
  {
   "cell_type": "markdown",
   "metadata": {},
   "source": [
    "Unique Takeaways:\n",
    "- HTML has the least amount of unique words whereas Shell has the most\n",
    "- Javascript and Python make up the middle"
   ]
  },
  {
   "cell_type": "raw",
   "metadata": {},
   "source": []
  }
 ],
 "metadata": {
  "kernelspec": {
   "display_name": "Python 3",
   "language": "python",
   "name": "python3"
  },
  "language_info": {
   "codemirror_mode": {
    "name": "ipython",
    "version": 3
   },
   "file_extension": ".py",
   "mimetype": "text/x-python",
   "name": "python",
   "nbconvert_exporter": "python",
   "pygments_lexer": "ipython3",
   "version": "3.8.5"
  }
 },
 "nbformat": 4,
 "nbformat_minor": 4
}
