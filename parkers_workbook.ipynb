{
 "cells": [
  {
   "cell_type": "code",
   "execution_count": 1,
   "metadata": {},
   "outputs": [],
   "source": [
    "from requests import get\n",
    "from bs4 import BeautifulSoup\n",
    "import os\n",
    "import re\n",
    "import acquire, prepare\n",
    "import pandas as pd\n",
    "import nltk"
   ]
  },
  {
   "cell_type": "code",
   "execution_count": 2,
   "metadata": {},
   "outputs": [],
   "source": [
    "#url = 'https://github.com/topics/awesome'\n",
    "#headers = {'User-Agent': 'Codeup Data Science'} # Some websites don't accept the pyhon-requests default user-agent\n",
    "#response = get(url, headers=headers)"
   ]
  },
  {
   "cell_type": "code",
   "execution_count": 3,
   "metadata": {},
   "outputs": [],
   "source": [
    "#soup = BeautifulSoup(response.text, 'html.parser')"
   ]
  },
  {
   "cell_type": "code",
   "execution_count": 4,
   "metadata": {},
   "outputs": [],
   "source": [
    "#repo = soup.find_all('h3', class_='f3 color-text-secondary text-normal lh-condensed')"
   ]
  },
  {
   "cell_type": "code",
   "execution_count": 5,
   "metadata": {
    "tags": []
   },
   "outputs": [],
   "source": [
    "#repo"
   ]
  },
  {
   "cell_type": "code",
   "execution_count": 6,
   "metadata": {},
   "outputs": [],
   "source": [
    "#repo = soup.find_all('a', class_='text-bold')"
   ]
  },
  {
   "cell_type": "code",
   "execution_count": 7,
   "metadata": {
    "tags": []
   },
   "outputs": [],
   "source": [
    "#[i['href'] for i in repo]"
   ]
  },
  {
   "cell_type": "code",
   "execution_count": 8,
   "metadata": {},
   "outputs": [],
   "source": [
    "#url = 'https://github.com/topics/awesome?l=javascript'\n",
    "#headers = {'User-Agent': 'Codeup Data Science'} # Some websites don't accept the pyhon-requests default user-agent\n",
    "#response = get(url, headers=headers)"
   ]
  },
  {
   "cell_type": "code",
   "execution_count": 9,
   "metadata": {},
   "outputs": [],
   "source": [
    "#soup = BeautifulSoup(response.text, 'html.parser')"
   ]
  },
  {
   "cell_type": "code",
   "execution_count": 10,
   "metadata": {},
   "outputs": [],
   "source": [
    "#repo = soup.find_all('a', class_ = 'text-bold')"
   ]
  },
  {
   "cell_type": "code",
   "execution_count": 11,
   "metadata": {},
   "outputs": [],
   "source": [
    "#js = [i['href'] for i in repo]"
   ]
  },
  {
   "cell_type": "code",
   "execution_count": 12,
   "metadata": {
    "tags": []
   },
   "outputs": [],
   "source": [
    "#js"
   ]
  },
  {
   "cell_type": "code",
   "execution_count": 13,
   "metadata": {},
   "outputs": [],
   "source": [
    "#url = 'https://github.com/topics/awesome?l=python'\n",
    "#headers = {'User-Agent': 'Codeup Data Science'} # Some websites don't accept the pyhon-requests default user-agent\n",
    "#response = get(url, headers=headers)"
   ]
  },
  {
   "cell_type": "code",
   "execution_count": 14,
   "metadata": {},
   "outputs": [],
   "source": [
    "#soup = BeautifulSoup(response.text, 'html.parser')\n",
    "#repo = soup.find_all('a', class_ = 'text-bold')"
   ]
  },
  {
   "cell_type": "code",
   "execution_count": 15,
   "metadata": {},
   "outputs": [],
   "source": [
    "#py = [i['href'] for i in repo]"
   ]
  },
  {
   "cell_type": "code",
   "execution_count": 16,
   "metadata": {
    "tags": []
   },
   "outputs": [],
   "source": [
    "#py"
   ]
  },
  {
   "cell_type": "code",
   "execution_count": 17,
   "metadata": {},
   "outputs": [],
   "source": [
    "#url = 'https://github.com/topics/awesome?l=html'\n",
    "#headers = {'User-Agent': 'Codeup Data Science'} # Some websites don't accept the pyhon-requests default user-agent\n",
    "#response = get(url, headers=headers)"
   ]
  },
  {
   "cell_type": "code",
   "execution_count": 18,
   "metadata": {},
   "outputs": [],
   "source": [
    "#soup = BeautifulSoup(response.text, 'html.parser')\n",
    "#repo = soup.find_all('a', class_ = 'text-bold')"
   ]
  },
  {
   "cell_type": "code",
   "execution_count": 19,
   "metadata": {},
   "outputs": [],
   "source": [
    "#html = [i['href'] for i in repo]"
   ]
  },
  {
   "cell_type": "code",
   "execution_count": 20,
   "metadata": {
    "tags": []
   },
   "outputs": [],
   "source": [
    "#html"
   ]
  },
  {
   "cell_type": "code",
   "execution_count": 21,
   "metadata": {},
   "outputs": [],
   "source": [
    "#url = 'https://github.com/topics/awesome?l=shell'\n",
    "#headers = {'User-Agent': 'Codeup Data Science'} # Some websites don't accept the pyhon-requests default user-agent\n",
    "#response = get(url, headers=headers)"
   ]
  },
  {
   "cell_type": "code",
   "execution_count": 22,
   "metadata": {},
   "outputs": [],
   "source": [
    "#soup = BeautifulSoup(response.text, 'html.parser')\n",
    "#repo = soup.find_all('a', class_ = 'text-bold')"
   ]
  },
  {
   "cell_type": "code",
   "execution_count": 23,
   "metadata": {},
   "outputs": [],
   "source": [
    "#shell = [i['href'] for i in repo]"
   ]
  },
  {
   "cell_type": "code",
   "execution_count": 24,
   "metadata": {},
   "outputs": [],
   "source": [
    "#shell"
   ]
  },
  {
   "cell_type": "code",
   "execution_count": 25,
   "metadata": {},
   "outputs": [],
   "source": [
    "#repos = [js + py + html + shell]"
   ]
  },
  {
   "cell_type": "code",
   "execution_count": 26,
   "metadata": {},
   "outputs": [],
   "source": [
    "#repos = repos[0]"
   ]
  },
  {
   "cell_type": "code",
   "execution_count": 27,
   "metadata": {
    "tags": []
   },
   "outputs": [],
   "source": [
    "#repos"
   ]
  },
  {
   "cell_type": "code",
   "execution_count": 28,
   "metadata": {},
   "outputs": [],
   "source": [
    "#pd.DataFrame(acquire.scrape_github_data())"
   ]
  },
  {
   "cell_type": "code",
   "execution_count": 29,
   "metadata": {},
   "outputs": [],
   "source": [
    "repo_df = acquire.get_github_data(cached = True)"
   ]
  },
  {
   "cell_type": "code",
   "execution_count": 30,
   "metadata": {},
   "outputs": [
    {
     "data": {
      "text/html": [
       "<div>\n",
       "<style scoped>\n",
       "    .dataframe tbody tr th:only-of-type {\n",
       "        vertical-align: middle;\n",
       "    }\n",
       "\n",
       "    .dataframe tbody tr th {\n",
       "        vertical-align: top;\n",
       "    }\n",
       "\n",
       "    .dataframe thead th {\n",
       "        text-align: right;\n",
       "    }\n",
       "</style>\n",
       "<table border=\"1\" class=\"dataframe\">\n",
       "  <thead>\n",
       "    <tr style=\"text-align: right;\">\n",
       "      <th></th>\n",
       "      <th>repo</th>\n",
       "      <th>language</th>\n",
       "      <th>readme_contents</th>\n",
       "    </tr>\n",
       "  </thead>\n",
       "  <tbody>\n",
       "    <tr>\n",
       "      <th>0</th>\n",
       "      <td>/awesome-selfhosted/awesome-selfhosted</td>\n",
       "      <td>JavaScript</td>\n",
       "      <td># Awesome-Selfhosted\\n\\n[![Awesome](https://cd...</td>\n",
       "    </tr>\n",
       "    <tr>\n",
       "      <th>1</th>\n",
       "      <td>/jaywcjlove/awesome-mac</td>\n",
       "      <td>JavaScript</td>\n",
       "      <td>Awesome Mac\\n----\\n&lt;!--rehype:style=font-size:...</td>\n",
       "    </tr>\n",
       "    <tr>\n",
       "      <th>2</th>\n",
       "      <td>/goabstract/Awesome-Design-Tools</td>\n",
       "      <td>JavaScript</td>\n",
       "      <td>&lt;div class=\"hidden-in-page\"&gt;\\n\\n# Awesome Desi...</td>\n",
       "    </tr>\n",
       "    <tr>\n",
       "      <th>3</th>\n",
       "      <td>/viatsko/awesome-vscode</td>\n",
       "      <td>JavaScript</td>\n",
       "      <td>\\n&lt;br/&gt;\\n&lt;div align=\"center\"&gt;\\n  &lt;img width=\"3...</td>\n",
       "    </tr>\n",
       "    <tr>\n",
       "      <th>4</th>\n",
       "      <td>/ascoders/weekly</td>\n",
       "      <td>JavaScript</td>\n",
       "      <td># 前端精读\\n\\n&lt;a href=\"https://travis-ci.org/ascod...</td>\n",
       "    </tr>\n",
       "    <tr>\n",
       "      <th>...</th>\n",
       "      <td>...</td>\n",
       "      <td>...</td>\n",
       "      <td>...</td>\n",
       "    </tr>\n",
       "    <tr>\n",
       "      <th>115</th>\n",
       "      <td>/buren/awesome-sweden</td>\n",
       "      <td>Shell</td>\n",
       "      <td># Sweden [![awesome](https://awesome.re/badge-...</td>\n",
       "    </tr>\n",
       "    <tr>\n",
       "      <th>116</th>\n",
       "      <td>/jeffreytse/jekyll-deploy-action</td>\n",
       "      <td>Shell</td>\n",
       "      <td>&lt;div align=\"center\"&gt;\\n  &lt;br&gt;\\n\\n  &lt;a href=\"htt...</td>\n",
       "    </tr>\n",
       "    <tr>\n",
       "      <th>117</th>\n",
       "      <td>/tajmone/awesome-interactive-fiction</td>\n",
       "      <td>Shell</td>\n",
       "      <td>= Awesome Interactive Fiction link:https://awe...</td>\n",
       "    </tr>\n",
       "    <tr>\n",
       "      <th>118</th>\n",
       "      <td>/stve/awesome-dropwizard</td>\n",
       "      <td>Shell</td>\n",
       "      <td># Awesome Dropwizard [![Awesome](https://cdn.r...</td>\n",
       "    </tr>\n",
       "    <tr>\n",
       "      <th>119</th>\n",
       "      <td>/opensourcecities/montreal</td>\n",
       "      <td>Shell</td>\n",
       "      <td># Open Source Montréal\\n\\n[![Join the chat at ...</td>\n",
       "    </tr>\n",
       "  </tbody>\n",
       "</table>\n",
       "<p>120 rows × 3 columns</p>\n",
       "</div>"
      ],
      "text/plain": [
       "                                       repo    language  \\\n",
       "0    /awesome-selfhosted/awesome-selfhosted  JavaScript   \n",
       "1                   /jaywcjlove/awesome-mac  JavaScript   \n",
       "2          /goabstract/Awesome-Design-Tools  JavaScript   \n",
       "3                   /viatsko/awesome-vscode  JavaScript   \n",
       "4                          /ascoders/weekly  JavaScript   \n",
       "..                                      ...         ...   \n",
       "115                   /buren/awesome-sweden       Shell   \n",
       "116        /jeffreytse/jekyll-deploy-action       Shell   \n",
       "117    /tajmone/awesome-interactive-fiction       Shell   \n",
       "118                /stve/awesome-dropwizard       Shell   \n",
       "119              /opensourcecities/montreal       Shell   \n",
       "\n",
       "                                       readme_contents  \n",
       "0    # Awesome-Selfhosted\\n\\n[![Awesome](https://cd...  \n",
       "1    Awesome Mac\\n----\\n<!--rehype:style=font-size:...  \n",
       "2    <div class=\"hidden-in-page\">\\n\\n# Awesome Desi...  \n",
       "3    \\n<br/>\\n<div align=\"center\">\\n  <img width=\"3...  \n",
       "4    # 前端精读\\n\\n<a href=\"https://travis-ci.org/ascod...  \n",
       "..                                                 ...  \n",
       "115  # Sweden [![awesome](https://awesome.re/badge-...  \n",
       "116  <div align=\"center\">\\n  <br>\\n\\n  <a href=\"htt...  \n",
       "117  = Awesome Interactive Fiction link:https://awe...  \n",
       "118  # Awesome Dropwizard [![Awesome](https://cdn.r...  \n",
       "119  # Open Source Montréal\\n\\n[![Join the chat at ...  \n",
       "\n",
       "[120 rows x 3 columns]"
      ]
     },
     "execution_count": 30,
     "metadata": {},
     "output_type": "execute_result"
    }
   ],
   "source": [
    "repo_df"
   ]
  },
  {
   "cell_type": "code",
   "execution_count": 31,
   "metadata": {},
   "outputs": [],
   "source": [
    "repo_df = repo_df.drop(labels=[1,4,12,18,19,28,31,44,54,67,68,72,74,79,81,87,95], axis=0)"
   ]
  },
  {
   "cell_type": "code",
   "execution_count": 32,
   "metadata": {},
   "outputs": [
    {
     "name": "stdout",
     "output_type": "stream",
     "text": [
      "                     repo language  \\\n",
      "42  /rossant/awesome-math   Python   \n",
      "\n",
      "                                      readme_contents  \n",
      "42  # Awesome Math [![Awesome](https://cdn.rawgit....  \n"
     ]
    }
   ],
   "source": [
    "print(repo_df.iloc[35:36])"
   ]
  },
  {
   "cell_type": "code",
   "execution_count": 33,
   "metadata": {},
   "outputs": [],
   "source": [
    "repo_df = repo_df.dropna()"
   ]
  },
  {
   "cell_type": "code",
   "execution_count": 34,
   "metadata": {},
   "outputs": [
    {
     "data": {
      "text/plain": [
       "(102, 3)"
      ]
     },
     "execution_count": 34,
     "metadata": {},
     "output_type": "execute_result"
    }
   ],
   "source": [
    "repo_df.shape"
   ]
  },
  {
   "cell_type": "code",
   "execution_count": 35,
   "metadata": {},
   "outputs": [],
   "source": [
    "repo_clean = prepare.prep_article_data(repo_df, 'readme_contents')"
   ]
  },
  {
   "cell_type": "code",
   "execution_count": 36,
   "metadata": {},
   "outputs": [
    {
     "name": "stdout",
     "output_type": "stream",
     "text": [
      "<class 'pandas.core.frame.DataFrame'>\n",
      "Int64Index: 102 entries, 0 to 119\n",
      "Data columns (total 6 columns):\n",
      " #   Column                      Non-Null Count  Dtype \n",
      "---  ------                      --------------  ----- \n",
      " 0   repo                        102 non-null    object\n",
      " 1   language                    102 non-null    object\n",
      " 2   readme_contents             102 non-null    object\n",
      " 3   cleaned_readme_contents     102 non-null    object\n",
      " 4   stemmed_readme_contents     102 non-null    object\n",
      " 5   lemmatized_readme_contents  102 non-null    object\n",
      "dtypes: object(6)\n",
      "memory usage: 5.6+ KB\n"
     ]
    }
   ],
   "source": [
    "repo_clean.info()"
   ]
  },
  {
   "cell_type": "code",
   "execution_count": 37,
   "metadata": {},
   "outputs": [
    {
     "data": {
      "text/plain": [
       "Shell         29\n",
       "Python        27\n",
       "JavaScript    24\n",
       "HTML          22\n",
       "Name: language, dtype: int64"
      ]
     },
     "execution_count": 37,
     "metadata": {},
     "output_type": "execute_result"
    }
   ],
   "source": [
    "repo_df.language.value_counts()"
   ]
  },
  {
   "cell_type": "code",
   "execution_count": 38,
   "metadata": {},
   "outputs": [],
   "source": [
    "all_words = ' '.join(repo_clean.cleaned_readme_contents)"
   ]
  },
  {
   "cell_type": "code",
   "execution_count": 39,
   "metadata": {
    "tags": []
   },
   "outputs": [
    {
     "data": {
      "text/plain": [
       "&#9;                10467\n",
       "open                 2111\n",
       "git                  2017\n",
       "install              1956\n",
       "python               1727\n",
       "codea                1724\n",
       "source               1565\n",
       "details              1470\n",
       "clone                1410\n",
       "detailssummaryba     1351\n",
       "img                  1346\n",
       "month                1329\n",
       "pip                  1304\n",
       "data                 1205\n",
       "github               1138\n",
       "web                  1119\n",
       "library              1009\n",
       "ago                  1005\n",
       "using                 985\n",
       "years                 952\n",
       "code                  912\n",
       "c                     840\n",
       "ul                    728\n",
       "tool                  703\n",
       "use                   682\n",
       "2                     677\n",
       "based                 673\n",
       "simple                669\n",
       "td                    660\n",
       "tools                 660\n",
       "dtype: int64"
      ]
     },
     "execution_count": 39,
     "metadata": {},
     "output_type": "execute_result"
    }
   ],
   "source": [
    "pd.Series(data = all_words.split()).value_counts().head(30)"
   ]
  },
  {
   "cell_type": "code",
   "execution_count": 40,
   "metadata": {},
   "outputs": [],
   "source": [
    "py_words = ' '.join(repo_clean[repo_clean['language'] == 'Python'].cleaned_readme_contents)"
   ]
  },
  {
   "cell_type": "code",
   "execution_count": 41,
   "metadata": {
    "tags": []
   },
   "outputs": [
    {
     "data": {
      "text/plain": [
       "&#9;                   9652\n",
       "install                1872\n",
       "codea                  1724\n",
       "open                   1451\n",
       "details                1433\n",
       "git                    1376\n",
       "clone                  1353\n",
       "detailssummaryba       1351\n",
       "month                  1312\n",
       "pip                    1301\n",
       "img                    1156\n",
       "python                 1114\n",
       "ago                    1000\n",
       "years                   911\n",
       "github                  824\n",
       "ul                      726\n",
       "library                 707\n",
       "td                      660\n",
       "styledisplayinline      642\n",
       "width13                 642\n",
       "codeimg                 628\n",
       "c                       622\n",
       "height16px              566\n",
       "width16px               566\n",
       "conda                   547\n",
       "condaforge              529\n",
       "data                    495\n",
       "0                       484\n",
       "height13codesummary     479\n",
       "1                       398\n",
       "dtype: int64"
      ]
     },
     "execution_count": 41,
     "metadata": {},
     "output_type": "execute_result"
    }
   ],
   "source": [
    "pd.Series(py_words.split()).value_counts().head(30)"
   ]
  },
  {
   "cell_type": "code",
   "execution_count": 42,
   "metadata": {},
   "outputs": [],
   "source": [
    "shell_words = ' '.join(repo_clean[repo_clean['language'] == 'Shell'].cleaned_readme_contents)"
   ]
  },
  {
   "cell_type": "code",
   "execution_count": 43,
   "metadata": {},
   "outputs": [
    {
     "data": {
      "text/plain": [
       "git            574\n",
       "fr             470\n",
       "2017           431\n",
       "theme          403\n",
       "&#9;           399\n",
       "zsh            390\n",
       "status         322\n",
       "2018           311\n",
       "command        305\n",
       "plugin         297\n",
       "web            288\n",
       "includes       264\n",
       "code           262\n",
       "using          262\n",
       "decorations    247\n",
       "list           242\n",
       "linux          241\n",
       "best           238\n",
       "tools          236\n",
       "use            234\n",
       "airflow        234\n",
       "free           222\n",
       "time           220\n",
       "based          218\n",
       "source         218\n",
       "open           217\n",
       "de             207\n",
       "data           205\n",
       "noexport       203\n",
       "also           196\n",
       "dtype: int64"
      ]
     },
     "execution_count": 43,
     "metadata": {},
     "output_type": "execute_result"
    }
   ],
   "source": [
    "pd.Series(shell_words.split()).value_counts().head(30)"
   ]
  },
  {
   "cell_type": "code",
   "execution_count": 44,
   "metadata": {},
   "outputs": [],
   "source": [
    "js_words = ' '.join(repo_clean[repo_clean['language'] == 'JavaScript'].cleaned_readme_contents)"
   ]
  },
  {
   "cell_type": "code",
   "execution_count": 45,
   "metadata": {},
   "outputs": [
    {
     "data": {
      "text/plain": [
       "source                                                                     1014\n",
       "web                                                                         385\n",
       "mit                                                                         356\n",
       "php                                                                         354\n",
       "&#9;                                                                        319\n",
       "code                                                                        311\n",
       "freesvghttpsgithubcomlisadziubaawesomedesigntoolsblobmastermediafreesvg     302\n",
       "open                                                                        291\n",
       "covid19                                                                     273\n",
       "tool                                                                        255\n",
       "design                                                                      241\n",
       "free                                                                        236\n",
       "data                                                                        228\n",
       "use                                                                         207\n",
       "gpl30                                                                       201\n",
       "javascript                                                                  201\n",
       "simple                                                                      198\n",
       "using                                                                       198\n",
       "python                                                                      193\n",
       "server                                                                      193\n",
       "app                                                                         187\n",
       "create                                                                      183\n",
       "tools                                                                       171\n",
       "management                                                                  169\n",
       "coronavirus                                                                 159\n",
       "nodejs                                                                      156\n",
       "go                                                                          153\n",
       "software                                                                    150\n",
       "application                                                                 147\n",
       "agpl30                                                                      147\n",
       "dtype: int64"
      ]
     },
     "execution_count": 45,
     "metadata": {},
     "output_type": "execute_result"
    }
   ],
   "source": [
    "pd.Series(js_words.split()).value_counts().head(30)"
   ]
  },
  {
   "cell_type": "code",
   "execution_count": 46,
   "metadata": {},
   "outputs": [],
   "source": [
    "html_words = ' '.join(repo_clean[repo_clean['language'] == 'HTML'].cleaned_readme_contents)"
   ]
  },
  {
   "cell_type": "code",
   "execution_count": 47,
   "metadata": {},
   "outputs": [
    {
     "data": {
      "text/plain": [
       "angular        346\n",
       "quantum        342\n",
       "video          308\n",
       "python         293\n",
       "data           277\n",
       "using          274\n",
       "game           272\n",
       "kubernetes     247\n",
       "jmeter         227\n",
       "webpack        225\n",
       "podcast        187\n",
       "2              160\n",
       "based          154\n",
       "open           152\n",
       "web            144\n",
       "tools          140\n",
       "source         139\n",
       "learning       138\n",
       "maintainer     135\n",
       "ipfs           134\n",
       "hugo           122\n",
       "streaming      116\n",
       "software       115\n",
       "ffmpeg         113\n",
       "code           113\n",
       "development    112\n",
       "use            108\n",
       "library        106\n",
       "hls            106\n",
       "tool           106\n",
       "dtype: int64"
      ]
     },
     "execution_count": 47,
     "metadata": {},
     "output_type": "execute_result"
    }
   ],
   "source": [
    "pd.Series(html_words.split()).value_counts().head(30)"
   ]
  },
  {
   "cell_type": "markdown",
   "metadata": {},
   "source": [
    "#### Value Count takeaways:\n",
    "\n",
    "- something with our prep seems to be missing a strange encoding `&#9`\n",
    "- HTML seems the most different in terms of word overlap\n",
    "- Python must have really long readmes, but I will test with a len() later\n",
    "    - Python also has a lot of 0 and 1, which makes sense as it is used as indexer variables\n",
    "- code is another one that has a lot of overlap\n",
    "- Python is included in all of the languages except for shell"
   ]
  },
  {
   "cell_type": "code",
   "execution_count": 52,
   "metadata": {},
   "outputs": [],
   "source": [
    "repo_clean['length'] = [len(i) for i in repo_clean.cleaned_readme_contents]"
   ]
  },
  {
   "cell_type": "code",
   "execution_count": 54,
   "metadata": {},
   "outputs": [
    {
     "data": {
      "text/plain": [
       "length    58695.962963\n",
       "dtype: float64"
      ]
     },
     "execution_count": 54,
     "metadata": {},
     "output_type": "execute_result"
    }
   ],
   "source": [
    "repo_clean[repo_clean.language == 'Python'].mean()"
   ]
  },
  {
   "cell_type": "code",
   "execution_count": 55,
   "metadata": {},
   "outputs": [
    {
     "data": {
      "text/plain": [
       "length    38716.275862\n",
       "dtype: float64"
      ]
     },
     "execution_count": 55,
     "metadata": {},
     "output_type": "execute_result"
    }
   ],
   "source": [
    "repo_clean[repo_clean.language == 'Shell'].mean()"
   ]
  },
  {
   "cell_type": "code",
   "execution_count": 56,
   "metadata": {},
   "outputs": [
    {
     "data": {
      "text/plain": [
       "length    36154.583333\n",
       "dtype: float64"
      ]
     },
     "execution_count": 56,
     "metadata": {},
     "output_type": "execute_result"
    }
   ],
   "source": [
    "repo_clean[repo_clean.language == 'JavaScript'].mean()"
   ]
  },
  {
   "cell_type": "code",
   "execution_count": 57,
   "metadata": {},
   "outputs": [
    {
     "data": {
      "text/plain": [
       "length    28427.227273\n",
       "dtype: float64"
      ]
     },
     "execution_count": 57,
     "metadata": {},
     "output_type": "execute_result"
    }
   ],
   "source": [
    "repo_clean[repo_clean.language == 'HTML'].mean()"
   ]
  },
  {
   "cell_type": "code",
   "execution_count": 66,
   "metadata": {},
   "outputs": [
    {
     "data": {
      "text/html": [
       "<div>\n",
       "<style scoped>\n",
       "    .dataframe tbody tr th:only-of-type {\n",
       "        vertical-align: middle;\n",
       "    }\n",
       "\n",
       "    .dataframe tbody tr th {\n",
       "        vertical-align: top;\n",
       "    }\n",
       "\n",
       "    .dataframe thead th {\n",
       "        text-align: right;\n",
       "    }\n",
       "</style>\n",
       "<table border=\"1\" class=\"dataframe\">\n",
       "  <thead>\n",
       "    <tr style=\"text-align: right;\">\n",
       "      <th></th>\n",
       "      <th>length</th>\n",
       "    </tr>\n",
       "    <tr>\n",
       "      <th>language</th>\n",
       "      <th></th>\n",
       "    </tr>\n",
       "  </thead>\n",
       "  <tbody>\n",
       "    <tr>\n",
       "      <th>HTML</th>\n",
       "      <td>28427.227273</td>\n",
       "    </tr>\n",
       "    <tr>\n",
       "      <th>JavaScript</th>\n",
       "      <td>36154.583333</td>\n",
       "    </tr>\n",
       "    <tr>\n",
       "      <th>Python</th>\n",
       "      <td>58695.962963</td>\n",
       "    </tr>\n",
       "    <tr>\n",
       "      <th>Shell</th>\n",
       "      <td>38716.275862</td>\n",
       "    </tr>\n",
       "  </tbody>\n",
       "</table>\n",
       "</div>"
      ],
      "text/plain": [
       "                  length\n",
       "language                \n",
       "HTML        28427.227273\n",
       "JavaScript  36154.583333\n",
       "Python      58695.962963\n",
       "Shell       38716.275862"
      ]
     },
     "execution_count": 66,
     "metadata": {},
     "output_type": "execute_result"
    }
   ],
   "source": [
    "repo_clean.groupby(by = 'language').mean()"
   ]
  },
  {
   "cell_type": "markdown",
   "metadata": {},
   "source": [
    "Length Takeaways:\n",
    "- Python has the largest average character count \n",
    "- JavaScript and Shell have somewhat equal character counts\n",
    "- HTML has the least amount"
   ]
  },
  {
   "cell_type": "code",
   "execution_count": 72,
   "metadata": {},
   "outputs": [
    {
     "data": {
      "text/html": [
       "<div>\n",
       "<style scoped>\n",
       "    .dataframe tbody tr th:only-of-type {\n",
       "        vertical-align: middle;\n",
       "    }\n",
       "\n",
       "    .dataframe tbody tr th {\n",
       "        vertical-align: top;\n",
       "    }\n",
       "\n",
       "    .dataframe thead th {\n",
       "        text-align: right;\n",
       "    }\n",
       "</style>\n",
       "<table border=\"1\" class=\"dataframe\">\n",
       "  <thead>\n",
       "    <tr style=\"text-align: right;\">\n",
       "      <th></th>\n",
       "      <th>repo</th>\n",
       "      <th>readme_contents</th>\n",
       "      <th>cleaned_readme_contents</th>\n",
       "      <th>stemmed_readme_contents</th>\n",
       "      <th>lemmatized_readme_contents</th>\n",
       "      <th>length</th>\n",
       "    </tr>\n",
       "    <tr>\n",
       "      <th>language</th>\n",
       "      <th></th>\n",
       "      <th></th>\n",
       "      <th></th>\n",
       "      <th></th>\n",
       "      <th></th>\n",
       "      <th></th>\n",
       "    </tr>\n",
       "  </thead>\n",
       "  <tbody>\n",
       "    <tr>\n",
       "      <th>HTML</th>\n",
       "      <td>22</td>\n",
       "      <td>22</td>\n",
       "      <td>22</td>\n",
       "      <td>22</td>\n",
       "      <td>22</td>\n",
       "      <td>22</td>\n",
       "    </tr>\n",
       "    <tr>\n",
       "      <th>JavaScript</th>\n",
       "      <td>24</td>\n",
       "      <td>24</td>\n",
       "      <td>24</td>\n",
       "      <td>24</td>\n",
       "      <td>24</td>\n",
       "      <td>24</td>\n",
       "    </tr>\n",
       "    <tr>\n",
       "      <th>Python</th>\n",
       "      <td>27</td>\n",
       "      <td>27</td>\n",
       "      <td>27</td>\n",
       "      <td>27</td>\n",
       "      <td>27</td>\n",
       "      <td>27</td>\n",
       "    </tr>\n",
       "    <tr>\n",
       "      <th>Shell</th>\n",
       "      <td>29</td>\n",
       "      <td>29</td>\n",
       "      <td>29</td>\n",
       "      <td>29</td>\n",
       "      <td>29</td>\n",
       "      <td>29</td>\n",
       "    </tr>\n",
       "  </tbody>\n",
       "</table>\n",
       "</div>"
      ],
      "text/plain": [
       "            repo  readme_contents  cleaned_readme_contents  \\\n",
       "language                                                     \n",
       "HTML          22               22                       22   \n",
       "JavaScript    24               24                       24   \n",
       "Python        27               27                       27   \n",
       "Shell         29               29                       29   \n",
       "\n",
       "            stemmed_readme_contents  lemmatized_readme_contents  length  \n",
       "language                                                                 \n",
       "HTML                             22                          22      22  \n",
       "JavaScript                       24                          24      24  \n",
       "Python                           27                          27      27  \n",
       "Shell                            29                          29      29  "
      ]
     },
     "execution_count": 72,
     "metadata": {},
     "output_type": "execute_result"
    }
   ],
   "source": [
    "repo_clean.groupby(by = 'language').nunique()"
   ]
  },
  {
   "cell_type": "code",
   "execution_count": 70,
   "metadata": {},
   "outputs": [
    {
     "data": {
      "text/plain": [
       "<pandas.core.groupby.generic.DataFrameGroupBy object at 0x7ffa383ae250>"
      ]
     },
     "execution_count": 70,
     "metadata": {},
     "output_type": "execute_result"
    }
   ],
   "source": [
    "repo_clean.groupby(by = 'language')"
   ]
  },
  {
   "cell_type": "code",
   "execution_count": 79,
   "metadata": {},
   "outputs": [],
   "source": [
    "def unique(list_):\n",
    "    unique_list = []\n",
    "    for x in list_:\n",
    "        if x not in unique_list:\n",
    "            unique_list.append(x)\n",
    "    return unique_list"
   ]
  },
  {
   "cell_type": "code",
   "execution_count": 83,
   "metadata": {
    "tags": []
   },
   "outputs": [],
   "source": [
    "py_unique = unique(pd.Series(data = py_words.split()))\n",
    "shell_unique = unique(pd.Series(data = shell_words.split()))\n",
    "js_unique = unique(pd.Series(data = js_words.split()))\n",
    "html_unique = unique(pd.Series(data = html_words.split()))"
   ]
  },
  {
   "cell_type": "markdown",
   "metadata": {},
   "source": [
    "Unique Takeaways:\n",
    "- HTML has the least amount of unique words whereas Shell has the most\n",
    "- Javascript and Python make up the middle"
   ]
  },
  {
   "cell_type": "code",
   "execution_count": null,
   "metadata": {},
   "outputs": [],
   "source": []
  }
 ],
 "metadata": {
  "kernelspec": {
   "display_name": "Python 3",
   "language": "python",
   "name": "python3"
  },
  "language_info": {
   "codemirror_mode": {
    "name": "ipython",
    "version": 3
   },
   "file_extension": ".py",
   "mimetype": "text/x-python",
   "name": "python",
   "nbconvert_exporter": "python",
   "pygments_lexer": "ipython3",
   "version": "3.8.5"
  }
 },
 "nbformat": 4,
 "nbformat_minor": 4
}
