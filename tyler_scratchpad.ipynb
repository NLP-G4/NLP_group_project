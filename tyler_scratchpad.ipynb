{
 "cells": [
  {
   "cell_type": "code",
   "execution_count": null,
   "metadata": {},
   "outputs": [],
   "source": []
  },
  {
   "cell_type": "code",
   "execution_count": 9,
   "metadata": {},
   "outputs": [],
   "source": [
    "from requests import get\n",
    "from bs4 import BeautifulSoup\n",
    "import os"
   ]
  },
  {
   "cell_type": "code",
   "execution_count": 10,
   "metadata": {},
   "outputs": [],
   "source": [
    "url = 'https://github.com/topics/awesome'\n",
    "headers = {'User-Agent': 'Codeup Data Science'} # Some websites don't accept the pyhon-requests default user-agent\n",
    "response = get(url, headers=headers)"
   ]
  },
  {
   "cell_type": "code",
   "execution_count": 11,
   "metadata": {},
   "outputs": [],
   "source": [
    "soup = BeautifulSoup(response.text, 'html.parser')"
   ]
  },
  {
   "cell_type": "code",
   "execution_count": 14,
   "metadata": {},
   "outputs": [],
   "source": [
    "repo = soup.find_all('a', class_ = 'text-bold')"
   ]
  },
  {
   "cell_type": "code",
   "execution_count": 18,
   "metadata": {},
   "outputs": [
    {
     "name": "stdout",
     "output_type": "stream",
     "text": [
      "/sindresorhus/awesome\n",
      "/vinta/awesome-python\n",
      "/avelino/awesome-go\n",
      "/awesome-selfhosted/awesome-selfhosted\n",
      "/trimstray/the-book-of-secret-knowledge\n",
      "/papers-we-love/papers-we-love\n",
      "/Hack-with-Github/Awesome-Hacking\n",
      "/521xueweihan/HelloGitHub\n",
      "/jaywcjlove/awesome-mac\n",
      "/sindresorhus/awesome-nodejs\n",
      "/DopplerHQ/awesome-interview-questions\n",
      "/wasabeef/awesome-android-ui\n",
      "/vsouza/awesome-ios\n",
      "/prakhar1989/awesome-courses\n",
      "/Solido/awesome-flutter\n",
      "/binhnguyennus/awesome-scalability\n",
      "/MunGell/awesome-for-beginners\n",
      "/fffaraz/awesome-cpp\n",
      "/tiimgreen/github-cheat-sheet\n",
      "/dypsilon/frontend-dev-bookmarks\n",
      "/akullpp/awesome-java\n",
      "/dkhamsing/open-source-ios-apps\n",
      "/brillout/awesome-react-components\n",
      "/serhii-londar/open-source-mac-os-apps\n",
      "/ziadoz/awesome-php\n",
      "/herrbischoff/awesome-macos-command-line\n",
      "/goabstract/Awesome-Design-Tools\n",
      "/alebcay/awesome-shell\n",
      "/sindresorhus/awesome-electron\n",
      "/rust-unofficial/awesome-rust\n"
     ]
    }
   ],
   "source": [
    "href_list = []\n",
    "for i in repo:\n",
    "    href_list.append(i['href'])\n",
    "    print(i['href'])"
   ]
  },
  {
   "cell_type": "code",
   "execution_count": 20,
   "metadata": {},
   "outputs": [
    {
     "data": {
      "text/plain": [
       "30"
      ]
     },
     "execution_count": 20,
     "metadata": {},
     "output_type": "execute_result"
    }
   ],
   "source": [
    "len(href_list)"
   ]
  },
  {
   "cell_type": "code",
   "execution_count": null,
   "metadata": {},
   "outputs": [],
   "source": []
  },
  {
   "cell_type": "code",
   "execution_count": null,
   "metadata": {},
   "outputs": [],
   "source": []
  }
 ],
 "metadata": {
  "kernelspec": {
   "display_name": "Python 3.8.5 64-bit ('base': conda)",
   "language": "python",
   "name": "python385jvsc74a57bd0b64057e63add2b45b1ffc7eab9b09c8889b419c878e2fdf0d08f837f0fc857a7"
  },
  "language_info": {
   "codemirror_mode": {
    "name": "ipython",
    "version": 3
   },
   "file_extension": ".py",
   "mimetype": "text/x-python",
   "name": "python",
   "nbconvert_exporter": "python",
   "pygments_lexer": "ipython3",
   "version": "3.8.5"
  }
 },
 "nbformat": 4,
 "nbformat_minor": 4
}
